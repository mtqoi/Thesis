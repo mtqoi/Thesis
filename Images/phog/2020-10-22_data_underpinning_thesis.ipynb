{
 "cells": [
  {
   "cell_type": "markdown",
   "metadata": {},
   "source": [
    "TODO: \n",
    "- [x] write code to generate each figure. \n",
    "- [ ] commment code and make it neat\n",
    "- [ ] write explanations and figure captions."
   ]
  },
  {
   "cell_type": "markdown",
   "metadata": {},
   "source": [
    "# Agile quantum cryptography and non-classical state generation\n",
    "Matthew Thornton, PhD Thesis.\n",
    "University of St Andrews.\n"
   ]
  },
  {
   "cell_type": "markdown",
   "metadata": {},
   "source": [
    "This Jupyter notebook contains all code sufficient to reproduce images from Chapter 6 of the Thesis. Specifically, we implement numerical methods to reproduce the following figures: $6.3, 6.4, 6.5, 6.6, 6.7, 6.8, 6.9, 6.10, 6.11, 6.12, 6.13, 6.14, 6.18$ and $E.1$.\n",
    "\n",
    "All code required to reproduce these figures is on display, and I have included the figure captions from the Thesis in the relevant sections. This notebook should be read alongside the Thesis.\n",
    "\n",
    "For convenience, I make extensive use of the open source package `qutip`: http://qutip.org/ and am indebted to the developers."
   ]
  },
  {
   "cell_type": "code",
   "execution_count": 1,
   "metadata": {
    "ExecuteTime": {
     "end_time": "2020-10-23T16:27:27.503103Z",
     "start_time": "2020-10-23T16:27:26.838423Z"
    }
   },
   "outputs": [],
   "source": [
    "import matplotlib \n",
    "import numpy\n",
    "import qutip\n",
    "import os"
   ]
  },
  {
   "cell_type": "markdown",
   "metadata": {},
   "source": [
    "This notebook is generated with the following package versions:"
   ]
  },
  {
   "cell_type": "code",
   "execution_count": 2,
   "metadata": {
    "ExecuteTime": {
     "end_time": "2020-10-23T16:27:27.523310Z",
     "start_time": "2020-10-23T16:27:27.505235Z"
    }
   },
   "outputs": [
    {
     "name": "stdout",
     "output_type": "stream",
     "text": [
      "\n",
      "QuTiP: Quantum Toolbox in Python\n",
      "================================\n",
      "Copyright (c) QuTiP team 2011 and later.\n",
      "Original developers: R. J. Johansson & P. D. Nation.\n",
      "Previous lead developers: Chris Granade & A. Grimsmo.\n",
      "Current admin team: Alexander Pitchford, Paul D. Nation, Nathan Shammah, Shahnawaz Ahmed, Neill Lambert, Eric Giguère, and Boxi Li\n",
      "Project Manager: Franco Nori.\n",
      "Currently developed through wide collaboration. See https://github.com/qutip for details.\n",
      "\n",
      "QuTiP Version:      4.5.2\n",
      "Numpy Version:      1.19.1\n",
      "Scipy Version:      1.5.2\n",
      "Cython Version:     0.29.21\n",
      "Matplotlib Version: 3.3.1\n",
      "Python Version:     3.7.9\n",
      "Number of CPUs:     16\n",
      "BLAS Info:          INTEL MKL\n",
      "OPENMP Installed:   False\n",
      "INTEL MKL Ext:      True\n",
      "Platform Info:      Windows (AMD64)\n",
      "Installation path:  C:\\Users\\mt45\\.conda\\envs\\myqutip\\lib\\site-packages\\qutip\n",
      "==============================================================================\n",
      "Please cite QuTiP in your publication.\n",
      "==============================================================================\n",
      "For your convenience a bibtex reference can be easily generated using `qutip.cite()`\n"
     ]
    }
   ],
   "source": [
    "qutip.about()"
   ]
  },
  {
   "cell_type": "markdown",
   "metadata": {},
   "source": [
    "and all commented timings are approximate for a desktop computer with the following specs:\n",
    "- OS: Windows 10 Pro\n",
    "- Processor: Intel(R) Core(TM) i9-9900T CPU @ 2.10GHz\n",
    "- RAM: 16.0 GB\n",
    "\n",
    "Graphs in the Thesis were generated on a desktop computer with the following specs:\n",
    "- OS: Windows 10 Home\n",
    "- Processor: Intel(R) Core(TM) i5-3230M CPU @ 2.60GHz\n",
    "- RAM: 8.0 GB\n",
    "\n",
    "\n",
    "Please run cells within an individual section in order. I will add comments or notes when necessary for the code's running.\n",
    "Please note that function names and global variables are re-used in this notebook. Please take care if executing code out of order, and let me know if there are any issues: mt45@st-andrews.ac.uk"
   ]
  },
  {
   "cell_type": "code",
   "execution_count": 3,
   "metadata": {
    "ExecuteTime": {
     "end_time": "2020-10-23T16:27:29.708024Z",
     "start_time": "2020-10-23T16:27:29.692402Z"
    }
   },
   "outputs": [],
   "source": [
    "# a neat little progress bar which will help keep us sane when things take a while to run\n",
    "\n",
    "import time, sys\n",
    "from IPython.display import clear_output\n",
    "\n",
    "def update_progress(progress):\n",
    "    bar_length = 20\n",
    "    if isinstance(progress, int):\n",
    "        progress = float(progress)\n",
    "    if not isinstance(progress, float):\n",
    "        progress = 0\n",
    "    if progress < 0:\n",
    "        progress = 0\n",
    "    if progress >= 1:\n",
    "        progress = 1\n",
    "\n",
    "    block = int(round(bar_length * progress))\n",
    "\n",
    "    clear_output(wait = True)\n",
    "    text = \"Progress: [{0}] {1:.1f}%\".format( \"#\" * block + \"-\" * (bar_length - block), progress * 100)\n",
    "    print(text)"
   ]
  },
  {
   "cell_type": "markdown",
   "metadata": {},
   "source": [
    "## Chapter 6"
   ]
  },
  {
   "cell_type": "code",
   "execution_count": 4,
   "metadata": {
    "ExecuteTime": {
     "end_time": "2020-10-23T13:02:47.293078Z",
     "start_time": "2020-10-23T13:02:47.257593Z"
    }
   },
   "outputs": [],
   "source": [
    "# def purity(rho):\n",
    "#     \"\"\"\n",
    "#     Calculate the purity of a quantum density matrix.\n",
    "#     \"\"\"\n",
    "#     if isinstance(rho, list):\n",
    "#         mylist = []\n",
    "#         for idx, val in enumerate(rho):\n",
    "#             mylist.append(((val * val).tr()))\n",
    "#         return mylist\n",
    "#     else:\n",
    "#         return (rho * rho).tr()"
   ]
  },
  {
   "cell_type": "markdown",
   "metadata": {
    "heading_collapsed": true
   },
   "source": [
    "## Section 6.2"
   ]
  },
  {
   "cell_type": "markdown",
   "metadata": {
    "heading_collapsed": true,
    "hidden": true
   },
   "source": [
    "### Figure 6.3: $\\hat{A} = \\hat{a}$"
   ]
  },
  {
   "cell_type": "code",
   "execution_count": 4,
   "metadata": {
    "ExecuteTime": {
     "end_time": "2020-10-23T12:53:24.047513Z",
     "start_time": "2020-10-23T12:53:23.996499Z"
    },
    "hidden": true
   },
   "outputs": [],
   "source": [
    "# defining input parameters\n",
    "N = 35 # hilbert space size\n",
    "tlist = numpy.linspace(0, 1.0, 101) # times over which to solve\n",
    "gamma = 8.0 # decay rate. \n",
    "omega = 0.0 # free Hamiltonian frequency. Set to 0 without loss of generality.\n",
    "alphain = 3.0 # input coherent state amplitude\n",
    "\n",
    "# defining operators\n",
    "a = qutip.destroy(N) # annihilation operator\n",
    "n = qutip.num(N) # number operator \n",
    "ad = a.dag() # creation operator \n",
    "x = (a + ad)/numpy.sqrt(2) # position operator. Equivalent to qt.position(N)\n",
    "p = -1j * (a - ad)/numpy.sqrt(2) # momentum operator. Equivalent to qt.position(N)\n",
    "\n",
    "# defining Hamiltonian\n",
    "H = omega * ad * a\n",
    "\n",
    "\n",
    "# input state\n",
    "psi0 = qutip.coherent(N, alphain, method=\"analytic\")\n",
    "coplist = [numpy.sqrt(gamma) * a]\n",
    "result = qutip.mesolve(H, psi0, tlist, coplist, [])\n",
    "\n",
    "# result.states gives a list of density matrices, corresponding to \n",
    "# the state at each timestep.\n",
    "\n",
    "\n",
    "# timing: 51ms"
   ]
  },
  {
   "cell_type": "code",
   "execution_count": 5,
   "metadata": {
    "ExecuteTime": {
     "end_time": "2020-10-23T12:53:30.550290Z",
     "start_time": "2020-10-23T12:53:30.109678Z"
    },
    "hidden": true
   },
   "outputs": [
    {
     "data": {
      "image/png": "[encoded data removed]",
      "text/plain": [
       "<Figure size 432x288 with 1 Axes>"
      ]
     },
     "metadata": {
      "needs_background": "light"
     },
     "output_type": "display_data"
    }
   ],
   "source": [
    "# graph of expectations\n",
    "\n",
    "const_list_0 = numpy.full(len(tlist), 0)\n",
    "\n",
    "\n",
    "ymax = max(qutip.expect(n, result.states))\n",
    "fig, ax = matplotlib.pyplot.subplots(figsize=(6,4))\n",
    "\n",
    "ax.plot(tlist, qutip.expect(n, result.states), label=\"$\\\\langle\\\\hat{a}^\\\\dagger \\\\hat{a} \\\\rangle$\", color=\"blue\")\n",
    "ax.plot(tlist, qutip.expect(x, result.states), label=\"$\\\\langle\\\\hat{x}\\\\rangle$\", color=\"green\")\n",
    "ax.plot(tlist, qutip.expect(p, result.states), label=\"$\\\\langle\\\\hat{p}\\\\rangle$\", color=\"orange\")\n",
    "ax.plot(tlist, qutip.variance(x, result.states), label=\"Var($\\\\hat{x}$)\", color=\"red\")\n",
    "ax.plot(tlist, qutip.variance(p, result.states), label=\"Var($\\\\hat{p}$)\", linestyle=\"--\", color=\"purple\")\n",
    "ax.plot(tlist, const_list_0, color=\"black\", linestyle=\"--\")\n",
    "\n",
    "ax.set(xlabel=\"Time\")\n",
    "ax.set(ylabel=\"Expectation\")\n",
    "ax.legend(title = \"$\\\\hat{A} = \\\\hat{a}$\", loc=0)\n",
    "ax.set(title=\"Figure 6.3 (a)\")\n",
    "ax.autoscale(tight=True)\n",
    "ax.set_ylim([-0.5,ymax]);\n",
    "\n",
    "ax.xaxis.label.set_size(12)\n",
    "ax.yaxis.label.set_size(12)"
   ]
  },
  {
   "cell_type": "code",
   "execution_count": 14,
   "metadata": {
    "ExecuteTime": {
     "end_time": "2020-10-22T15:11:08.571212Z",
     "start_time": "2020-10-22T15:11:08.148079Z"
    },
    "hidden": true
   },
   "outputs": [],
   "source": [
    "# graph of fidelities to target states\n",
    "\n",
    "steady_state = qutip.coherent(N, 0, method=\"analytic\")\n",
    "const_list_1 = numpy.full(len(tlist), 1)\n",
    "\n",
    "# fidelity to steady state\n",
    "fid_list_steady = []\n",
    "for idx, val in enumerate(result.states):\n",
    "    fid_list_steady.append(qutip.fidelity(val, steady_state))\n",
    "    \n",
    "    \n",
    "# fidelity to equivalent coherent state\n",
    "fid_list_coh = []\n",
    "for idx, val in enumerate(result.states):\n",
    "    fid_list_coh.append(qutip.fidelity(val, qutip.coherent(N, numpy.sqrt(qutip.expect(n, val)))))\n",
    "    \n",
    "\n",
    "fid_list_one = []\n",
    "for idx, val in enumerate(result.states):\n",
    "    fid_list_one.append(qutip.fidelity(val, qutip.fock(N, 1)))\n",
    "\n",
    "fid_list_fock = []\n",
    "for idx, val in enumerate(result.states):\n",
    "    fid_list_fock.append(qutip.fidelity(val, qutip.fock(N, int(numpy.rint(qutip.expect(n, val))))))\n",
    "    \n",
    "    \n",
    "# timing: 423ms."
   ]
  },
  {
   "cell_type": "code",
   "execution_count": 20,
   "metadata": {
    "ExecuteTime": {
     "end_time": "2020-10-22T15:12:45.704954Z",
     "start_time": "2020-10-22T15:12:45.507392Z"
    },
    "hidden": true
   },
   "outputs": [
    {
     "data": {
      "image/png": "[encoded data removed]",
      "text/plain": [
       "<Figure size 432x288 with 1 Axes>"
      ]
     },
     "metadata": {
      "needs_background": "light"
     },
     "output_type": "display_data"
    }
   ],
   "source": [
    "fig, ax = matplotlib.pyplot.subplots(figsize=(6, 4))\n",
    "ax.plot(tlist, fid_list_steady, label=\"$\\\\mathcal{F}\\\\left(\\\\rho_a, |0\\\\rangle\\\\langle 0 |\\\\right)$\", color=\"blue\")\n",
    "ax.plot(tlist, fid_list_coh, label=\"$\\\\mathcal{F}\\\\left(\\\\rho_a, |\\\\alpha^\\\\prime\\\\rangle\\\\langle \\\\alpha^\\\\prime |\\\\right)$\", color=\"green\")\n",
    "ax.plot(tlist, fid_list_one, label=\"$\\\\mathcal{F}\\\\left(\\\\rho_a, |1\\\\rangle\\\\langle 1|\\\\right)$\", color=\"orange\")\n",
    "ax.plot(tlist, const_list_1, linestyle=\"--\", color=\"black\")\n",
    "ax.autoscale(tight=True)\n",
    "ax.set(xlabel=\"Time\")\n",
    "ax.set(ylabel=\"Fidelity\")\n",
    "ax.set(title=\"Figure 6.3 (b)\")\n",
    "ax.set_ylim([0, 1.05]);\n",
    "ax.legend(title = \"$\\\\hat{A} = \\\\hat{a}$\", loc=0)\n",
    "\n",
    "\n",
    "\n",
    "ax.xaxis.label.set_size(12)\n",
    "ax.yaxis.label.set_size(12)"
   ]
  },
  {
   "cell_type": "markdown",
   "metadata": {
    "hidden": true
   },
   "source": [
    "Figure 6.3: $\\hat{A} = \\hat{a}$. (a) Operator expectation values calculated for state $\\rho_a\\left(t\\right)$ as it evolves under master equation $6.3$. An initial coherent state with $\\alpha = 3.0$ decays to vacuum state $|0\\rangle\\langle0|$. Quadrature variances remain constant through time, implying that $\\rho_a$ remains a coherent state throughout its evolution. This is confirmed in (b) where the fidelity between $\\rho_a$ and $|\\alpha^\\prime\\rangle\\langle\\alpha^\\prime|$ is demonstrated to remain $1$ for all time, while the fidelity to the vacuum state increases to $1$. The amplitude $\\alpha^\\prime$ is chosen to give a coherent state with equivalent photon-number expectation to $\\rho_a\\left(t\\right)$. Horizontal gridlines are displayed in black, dashed. Numerical method: direct integration."
   ]
  },
  {
   "cell_type": "markdown",
   "metadata": {
    "heading_collapsed": true,
    "hidden": true
   },
   "source": [
    "### Figure 6.4: $\\hat{A} = \\hat{a}^2$"
   ]
  },
  {
   "cell_type": "code",
   "execution_count": 5,
   "metadata": {
    "ExecuteTime": {
     "end_time": "2020-10-23T12:59:49.134677Z",
     "start_time": "2020-10-23T12:59:40.062857Z"
    },
    "hidden": true
   },
   "outputs": [],
   "source": [
    "# defining inumpyut parameters\n",
    "N = 35 # hilbert space size\n",
    "tlist = numpy.linspace(0, 1.0, 101) # times over which to solve\n",
    "gamma = 8.0 # decay rate \n",
    "omega = 0.0 # free Hamiltonian frequency \n",
    "alphain = 3.0 # inumpyut coherent state amplitude\n",
    "\n",
    "# defining operators\n",
    "a = qutip.destroy(N) # annihilation operator\n",
    "n = qutip.num(N) # number operator \n",
    "ad = a.dag() # creation operator \n",
    "x = (a + ad)/numpy.sqrt(2) # position operator. Equivalent to qutip.position(N)\n",
    "p = -1j * (a - ad)/numpy.sqrt(2) # momentum operator. Equivalent to qutip.position(N)\n",
    "\n",
    "# defining Hamiltonian\n",
    "H = omega * ad * a\n",
    "\n",
    "\n",
    "# input state\n",
    "psi0 = qutip.coherent(N, alphain, method=\"analytic\")\n",
    "coplist = [numpy.sqrt(gamma) * a**2]\n",
    "result = qutip.mesolve(H, psi0, tlist, coplist, [])\n",
    "\n",
    "# timing: 9.07s"
   ]
  },
  {
   "cell_type": "code",
   "execution_count": 6,
   "metadata": {
    "ExecuteTime": {
     "end_time": "2020-10-23T13:00:14.690482Z",
     "start_time": "2020-10-23T13:00:14.248022Z"
    },
    "hidden": true
   },
   "outputs": [
    {
     "data": {
      "image/png": "[encoded data removed]",
      "text/plain": [
       "<Figure size 432x288 with 1 Axes>"
      ]
     },
     "metadata": {
      "needs_background": "light"
     },
     "output_type": "display_data"
    }
   ],
   "source": [
    "# graph of expectations\n",
    "\n",
    "const_list_0 = numpy.full(len(tlist), 0)\n",
    "\n",
    "ymax = max(qutip.expect(n, result.states))\n",
    "fig, ax = matplotlib.pyplot.subplots(figsize=(6,4))\n",
    "\n",
    "ax.plot(tlist, qutip.expect(n, result.states), label=\"$\\\\langle\\\\hat{a}^\\\\dagger \\\\hat{a} \\\\rangle$\", color=\"blue\")\n",
    "ax.plot(tlist, qutip.expect(x, result.states), label=\"$\\\\langle\\\\hat{x}\\\\rangle$\", color=\"green\")\n",
    "ax.plot(tlist, qutip.expect(p, result.states), label=\"$\\\\langle\\\\hat{p}\\\\rangle$\", color=\"orange\")\n",
    "ax.plot(tlist, qutip.variance(x, result.states), label=\"Var($\\\\hat{x}$)\", color=\"red\")\n",
    "ax.plot(tlist, qutip.variance(p, result.states), label=\"Var($\\\\hat{p}$)\", linestyle=\"--\", color=\"purple\")\n",
    "ax.plot(tlist, const_list_0, color=\"black\", linestyle=\"--\")\n",
    "\n",
    "ax.set(xlabel=\"Time\")\n",
    "ax.set(ylabel=\"Expectation\")\n",
    "ax.set(title=\"Figure 6.4 (a)\")\n",
    "ax.legend(title = \"$\\\\hat{A} = \\\\hat{a}^2$\", loc=1)\n",
    "ax.autoscale(tight=True)\n",
    "ax.set_ylim([-0.2, 2]);\n",
    "\n",
    "ax.xaxis.label.set_size(12)\n",
    "ax.yaxis.label.set_size(12)"
   ]
  },
  {
   "cell_type": "code",
   "execution_count": 7,
   "metadata": {
    "ExecuteTime": {
     "end_time": "2020-10-23T13:00:16.335500Z",
     "start_time": "2020-10-23T13:00:16.317336Z"
    },
    "hidden": true
   },
   "outputs": [],
   "source": [
    "def phase(alpha):\n",
    "    return qutip.ket2dm((alpha * qutip.fock(N, 0)  + numpy.sqrt(1-alpha**2) * qutip.fock(N, 1)))\n",
    "\n",
    "def phase2(c1, c2, c3):\n",
    "    return c1 * phase(1/numpy.sqrt(2)) + c2 * qutip.ket2dm(qutip.basis(N, 0)) + c3 * qutip.ket2dm(qutip.basis(N, 1))"
   ]
  },
  {
   "cell_type": "code",
   "execution_count": 8,
   "metadata": {
    "ExecuteTime": {
     "end_time": "2020-10-23T13:00:19.042997Z",
     "start_time": "2020-10-23T13:00:18.492679Z"
    },
    "hidden": true
   },
   "outputs": [],
   "source": [
    "# graph of fidelities to target states\n",
    "\n",
    "steady_state = phase2(0.810, 0.095, 0.095)\n",
    "const_list_1 = numpy.full(len(tlist), 1)\n",
    "\n",
    "# fidelity to steady state\n",
    "fid_list_steady = []\n",
    "for idx, val in enumerate(result.states):\n",
    "    fid_list_steady.append(qutip.fidelity(val, steady_state))\n",
    "    \n",
    "    \n",
    "# fidelity to equivalent coherent state\n",
    "fid_list_coh = []\n",
    "for idx, val in enumerate(result.states):\n",
    "    fid_list_coh.append(qutip.fidelity(val, qutip.coherent(N, numpy.sqrt(qutip.expect(n, val)))))\n",
    "    \n",
    "\n",
    "fid_list_one = []\n",
    "for idx, val in enumerate(result.states):\n",
    "    fid_list_one.append(qutip.fidelity(val, qutip.fock(N, 1)))\n",
    "\n",
    "\n",
    "fid_list_zero = []\n",
    "for idx, val in enumerate(result.states):\n",
    "    fid_list_zero.append(qutip.fidelity(val, qutip.fock(N, 0)))\n",
    "\n",
    "# timing: 550ms"
   ]
  },
  {
   "cell_type": "code",
   "execution_count": 10,
   "metadata": {
    "ExecuteTime": {
     "end_time": "2020-10-23T13:00:28.604980Z",
     "start_time": "2020-10-23T13:00:28.382913Z"
    },
    "hidden": true
   },
   "outputs": [
    {
     "data": {
      "image/png": "[encoded data removed]",
      "text/plain": [
       "<Figure size 432x288 with 1 Axes>"
      ]
     },
     "metadata": {
      "needs_background": "light"
     },
     "output_type": "display_data"
    }
   ],
   "source": [
    "fig, ax = matplotlib.pyplot.subplots(figsize=(6,4))\n",
    "    \n",
    "ax.plot(tlist, fid_list_steady, label=\"$\\\\mathcal{F}\\\\left(\\\\rho_a, \\\\rho_{steady}\\\\right)$\", color=\"blue\")\n",
    "ax.plot(tlist, fid_list_coh, label=\"$\\\\mathcal{F}\\\\left(\\\\rho_a, |\\\\alpha^\\\\prime\\\\rangle\\\\langle \\\\alpha^\\\\prime |\\\\right)$\", color=\"green\")\n",
    "ax.plot(tlist, fid_list_one, label=\"$\\\\mathcal{F}\\\\left(\\\\rho_a, |1\\\\rangle\\\\langle 1|\\\\right)$\", color=\"orange\")\n",
    "ax.plot(tlist, fid_list_zero, label=\"$\\\\mathcal{F}\\\\left(\\\\rho_a, |0\\\\rangle\\\\langle 0|\\\\right)$\", color=\"red\")                         \n",
    "ax.plot(tlist, const_list_1, linestyle=\"--\", color=\"black\")\n",
    "ax.autoscale(tight=True)\n",
    "ax.set(xlabel=\"Time\")\n",
    "ax.set(ylabel=\"Fidelity\")\n",
    "ax.set(title=\"Figure 6.4 (b)\")\n",
    "ax.set_ylim([0, 1.05]);\n",
    "ax.legend(title = \"$\\\\hat{A} = \\\\hat{a}^2$\", loc=0)\n",
    "\n",
    "\n",
    "ax.xaxis.label.set_size(12)\n",
    "ax.yaxis.label.set_size(12)"
   ]
  },
  {
   "cell_type": "markdown",
   "metadata": {
    "hidden": true
   },
   "source": [
    "Figure 6.4: $\\hat{A} = \\hat{a}^2$. (a) Operator expectation values for state $\\rho_a\\left(t\\right)$ as it evolves under Eq. $6.7$. Unlike Fig. $6.3$, an initially coherent state with $\\alpha=3.0$ no longer decays to the vacuum state, and the final photon-number expectation is $0.5$. Quadrature variances no longer stay constant, which implies that the state is no longer a coherent state. This is confirmed in (b), where the fidelity between $\\rho_a\\left(t\\right)$ and $|\\alpha^\\prime\\rangle\\langle\\alpha^\\prime|$ is plotted. The fidelity between $\\rho_a\\left(t\\right)$ and steady state Eq. $6.9$ increased to $1$. Horizontal gridlines are displayed in black, dashed. Numerical method: direct integration."
   ]
  },
  {
   "cell_type": "markdown",
   "metadata": {
    "heading_collapsed": true,
    "hidden": true
   },
   "source": [
    "### Figure 6.5: $\\hat{A} = \\hat{a} \\left(\\hat{n} - 1\\right)$"
   ]
  },
  {
   "cell_type": "code",
   "execution_count": 5,
   "metadata": {
    "ExecuteTime": {
     "end_time": "2020-10-23T13:03:42.148183Z",
     "start_time": "2020-10-23T13:03:01.013731Z"
    },
    "hidden": true
   },
   "outputs": [],
   "source": [
    "options=qutip.Options(nsteps=10000)\n",
    "\n",
    "# defining input parameters\n",
    "N = 35 # hilbert space size\n",
    "tlist = numpy.linspace(0, 1.0, 101) # times over which to solve\n",
    "gamma = 8.0 # decay rate \n",
    "omega = 0.0 # free Hamiltonian frequency \n",
    "alphain = 3.0 # inumpyut coherent state amplitude\n",
    "\n",
    "# defining operators\n",
    "a = qutip.destroy(N) # annihilation operator\n",
    "n = qutip.num(N) # number operator \n",
    "ad = a.dag() # creation operator \n",
    "x = (a + ad)/numpy.sqrt(2) # position operator. Equivalent to qutip.position(N)\n",
    "p = -1j * (a - ad)/numpy.sqrt(2) # momentum operator. Equivalent to qutip.position(N)\n",
    "\n",
    "# defining Hamiltonian\n",
    "H = omega * ad * a\n",
    "\n",
    "\n",
    "# input state\n",
    "psi0 = qutip.coherent(N, alphain, method=\"analytic\")\n",
    "coplist = [numpy.sqrt(gamma) * a*(n - 1)]\n",
    "result = qutip.mesolve(H, psi0, tlist, coplist, [], options=options)\n",
    "\n",
    "# timing: 41.1s"
   ]
  },
  {
   "cell_type": "code",
   "execution_count": 6,
   "metadata": {
    "ExecuteTime": {
     "end_time": "2020-10-23T13:04:04.673745Z",
     "start_time": "2020-10-23T13:04:04.221465Z"
    },
    "hidden": true
   },
   "outputs": [
    {
     "data": {
      "image/png": "[encoded data removed]",
      "text/plain": [
       "<Figure size 432x288 with 1 Axes>"
      ]
     },
     "metadata": {
      "needs_background": "light"
     },
     "output_type": "display_data"
    }
   ],
   "source": [
    "# graph of expectations\n",
    "\n",
    "const_list_0 = numpy.full(len(tlist), 0)\n",
    "const_list_1 = numpy.full(len(tlist), 1)\n",
    "\n",
    "ymax = max(qutip.expect(n, result.states))\n",
    "fig, ax = matplotlib.pyplot.subplots()\n",
    "\n",
    "ax.plot(tlist, qutip.expect(n, result.states), label=\"$\\\\langle\\\\hat{a}^\\\\dagger \\\\hat{a} \\\\rangle$\", color=\"blue\")\n",
    "ax.plot(tlist, qutip.expect(x, result.states), label=\"$\\\\langle\\\\hat{x}\\\\rangle$\", color=\"green\")\n",
    "ax.plot(tlist, qutip.expect(p, result.states), label=\"$\\\\langle\\\\hat{p}\\\\rangle$\", color=\"orange\")\n",
    "ax.plot(tlist, qutip.variance(x, result.states), label=\"Var($\\\\hat{x}$)\", color=\"red\")\n",
    "ax.plot(tlist, qutip.variance(p, result.states), label=\"Var($\\\\hat{p}$)\", linestyle=\"--\", color=\"purple\")\n",
    "ax.plot(tlist, const_list_0, color=\"black\", linestyle=\"--\")\n",
    "ax.plot(tlist, const_list_1, color=\"black\", linestyle=\"--\")\n",
    "\n",
    "ax.set(xlabel=\"Time\")\n",
    "ax.set(ylabel=\"Expectation\")\n",
    "ax.set(title=\"Figure 6.5 (a)\")\n",
    "ax.legend(title = \"$\\\\hat{A} = \\\\hat{a}\\\\left(\\\\hat{n} - 1\\\\right)$\", loc=0)\n",
    "ax.autoscale(tight=True)\n",
    "ax.set_ylim([-0.2, 3])\n",
    "\n",
    "ax.xaxis.label.set_size(12)\n",
    "ax.yaxis.label.set_size(12)"
   ]
  },
  {
   "cell_type": "code",
   "execution_count": 7,
   "metadata": {
    "ExecuteTime": {
     "end_time": "2020-10-23T13:04:21.995005Z",
     "start_time": "2020-10-23T13:04:21.620887Z"
    },
    "hidden": true
   },
   "outputs": [],
   "source": [
    "# graph of fidelities to target states\n",
    "\n",
    "const_list_1 = numpy.full(len(tlist), 1)\n",
    "    \n",
    "# fidelity to equivalent coherent state\n",
    "fid_list_coh = []\n",
    "for idx, val in enumerate(result.states):\n",
    "    fid_list_coh.append(qutip.fidelity(val, qutip.coherent(N, numpy.sqrt(qutip.expect(n, val)))))\n",
    "    \n",
    "\n",
    "fid_list_one = []\n",
    "for idx, val in enumerate(result.states):\n",
    "    fid_list_one.append(qutip.fidelity(val, qutip.fock(N, 1)))\n",
    "\n",
    "\n",
    "fid_list_zero = []\n",
    "for idx, val in enumerate(result.states):\n",
    "    fid_list_zero.append(qutip.fidelity(val, qutip.fock(N, 0)))\n",
    "    \n",
    "# timing: 375ms"
   ]
  },
  {
   "cell_type": "code",
   "execution_count": 8,
   "metadata": {
    "ExecuteTime": {
     "end_time": "2020-10-23T13:04:30.450174Z",
     "start_time": "2020-10-23T13:04:30.241232Z"
    },
    "hidden": true
   },
   "outputs": [
    {
     "data": {
      "image/png": "[encoded data removed]",
      "text/plain": [
       "<Figure size 432x288 with 1 Axes>"
      ]
     },
     "metadata": {
      "needs_background": "light"
     },
     "output_type": "display_data"
    }
   ],
   "source": [
    "fig, ax = matplotlib.pyplot.subplots(figsize=(6,4))\n",
    "    \n",
    "ax.plot(tlist, fid_list_coh, label=\"$\\\\mathcal{F}\\\\left(\\\\rho_a, |\\\\alpha^\\\\prime\\\\rangle\\\\langle \\\\alpha^\\\\prime |\\\\right)$\", color=\"blue\")\n",
    "ax.plot(tlist, fid_list_one, label=\"$\\\\mathcal{F}\\\\left(\\\\rho_a, |1\\\\rangle\\\\langle 1|\\\\right)$\", color=\"green\")\n",
    "ax.plot(tlist, fid_list_zero, label=\"$\\\\mathcal{F}\\\\left(\\\\rho_a, |0\\\\rangle\\\\langle 0|\\\\right)$\", color=\"orange\")                      \n",
    "ax.plot(tlist, const_list_1, linestyle=\"--\", color=\"black\")\n",
    "ax.autoscale(tight=True)\n",
    "ax.set(xlabel=\"Time\")\n",
    "ax.set(ylabel=\"Fidelity\")\n",
    "ax.set_ylim([0, 1.05]);\n",
    "ax.legend(title = \"$\\\\hat{A} = \\\\hat{a}\\\\left(\\\\hat{n}-1\\\\right)$\", loc=0)\n",
    "\n",
    "ax.xaxis.label.set_size(12)\n",
    "ax.yaxis.label.set_size(12)"
   ]
  },
  {
   "cell_type": "markdown",
   "metadata": {
    "hidden": true
   },
   "source": [
    "Figure 6.5: $\\hat{A} = \\hat{a} \\left(\\hat{a}^\\dagger \\hat{a}-1\\right)$. (a) Operator expectation values for state $\\rho_a\\left(t\\right)$ as it evolves. An initially coherent state with $\\alpha=3.0$ decays to a state with $\\langle \\hat{n}\\rangle = 1$, which we confirm as state $|1\\rangle\\langle1|$ by considering the fidelity in (b). Horizontal gridlines are displayed in black, dashed. Numerical method: direct integration."
   ]
  },
  {
   "cell_type": "markdown",
   "metadata": {
    "heading_collapsed": true,
    "hidden": true
   },
   "source": [
    "### Figure 6.6"
   ]
  },
  {
   "cell_type": "code",
   "execution_count": 4,
   "metadata": {
    "ExecuteTime": {
     "end_time": "2020-10-23T13:06:38.239467Z",
     "start_time": "2020-10-23T13:06:38.203095Z"
    },
    "hidden": true
   },
   "outputs": [],
   "source": [
    "options = qutip.Options(nsteps=10000)\n",
    "N = 35\n",
    "tlist = numpy.linspace(0, 0.5, 51)\n",
    "gamma = 8.0\n",
    "omega = 0.0\n",
    "\n",
    "a = qutip.destroy(N)\n",
    "n = qutip.num(N)\n",
    "ad = a.dag()\n",
    "\n",
    "H = omega * ad * a\n",
    "\n",
    "def ncl_fidelity_to_single_photon(alphain):\n",
    "    psi0 = qutip.coherent(N, alphain, method=\"analytic\")\n",
    "    coplist = [numpy.sqrt(gamma) * a * (n-1)]\n",
    "    result = qutip.mesolve(H, psi0, tlist, coplist, [], options=options)\n",
    "    return qutip.fidelity(result.states[-1], qutip.fock(N, 1))\n",
    "\n",
    "alist = numpy.arange(0.0, 3.1, 0.1)"
   ]
  },
  {
   "cell_type": "code",
   "execution_count": 5,
   "metadata": {
    "ExecuteTime": {
     "end_time": "2020-10-23T13:09:55.103571Z",
     "start_time": "2020-10-23T13:06:41.944960Z"
    },
    "hidden": true
   },
   "outputs": [
    {
     "name": "stdout",
     "output_type": "stream",
     "text": [
      "Progress: [####################] 100.0%\n"
     ]
    }
   ],
   "source": [
    "fidlist = []\n",
    "for idx, val in enumerate(alist):\n",
    "    fidlist.append(ncl_fidelity_to_single_photon(val))\n",
    "    update_progress(idx / len(alist))\n",
    "update_progress(1)\n",
    "\n",
    "# timing: 3m 13s"
   ]
  },
  {
   "cell_type": "code",
   "execution_count": 7,
   "metadata": {
    "ExecuteTime": {
     "end_time": "2020-10-23T13:10:04.482012Z",
     "start_time": "2020-10-23T13:10:04.366348Z"
    },
    "hidden": true
   },
   "outputs": [
    {
     "data": {
      "image/png": "[encoded data removed]",
      "text/plain": [
       "<Figure size 432x288 with 1 Axes>"
      ]
     },
     "metadata": {
      "needs_background": "light"
     },
     "output_type": "display_data"
    }
   ],
   "source": [
    "const_list_1 = numpy.full(len(alist), 1)\n",
    "\n",
    "fig, ax = matplotlib.pyplot.subplots()\n",
    "\n",
    "ax.plot(alist, fidlist, label=\"$\\\\gamma = 8.0$\")\n",
    "ax.plot(alist, const_list_1, color=\"black\", linestyle=\"--\")\n",
    "ax.autoscale(tight=True)\n",
    "ax.set(xlabel=\"Input amplitude $\\\\alpha$\")\n",
    "ax.set(title=\"Figure 6.6\")\n",
    "ax.set(ylabel=\"Fidelity to $|1\\\\rangle\\\\langle 1|$\")\n",
    "\n",
    "ax.set_ylim([0, 1.05]);\n",
    "ax.set_xlim([0, 3.0]);\n",
    "\n",
    "ax.xaxis.label.set_size(12)\n",
    "ax.yaxis.label.set_size(12)"
   ]
  },
  {
   "cell_type": "markdown",
   "metadata": {
    "hidden": true
   },
   "source": [
    "Figure 6.6: The fidelity of $\\rho_a\\left(t\\rightarrow\\infty\\right)$ to single-photon state $|1\\rangle\\langle1|$ depends on initial coherent state amplitude $\\alpha$ since the density matrix elements $\\rho_{0, 0}$, $\\rho_{0, 1}$ and $\\rho_{1, 0}$ are constant in time."
   ]
  },
  {
   "cell_type": "markdown",
   "metadata": {
    "heading_collapsed": true,
    "hidden": true
   },
   "source": [
    "### Figure 6.7 $\\hat{A} = \\hat{a}\\left(\\hat{n} - 2\\right)$"
   ]
  },
  {
   "cell_type": "code",
   "execution_count": 4,
   "metadata": {
    "ExecuteTime": {
     "end_time": "2020-10-23T13:12:08.492714Z",
     "start_time": "2020-10-23T13:11:28.809006Z"
    },
    "hidden": true
   },
   "outputs": [],
   "source": [
    "options=qutip.Options(nsteps=10000)\n",
    "\n",
    "# defining input parameters\n",
    "N = 35 # hilbert space size\n",
    "tlist = numpy.linspace(0, 1.0, 101) # times over which to solve\n",
    "gamma = 8.0 # decay rate \n",
    "omega = 0.0 # free Hamiltonian frequency \n",
    "alphain = 3.0 # input coherent state amplitude\n",
    "\n",
    "# defining operators\n",
    "a = qutip.destroy(N) # annihilation operator\n",
    "n = qutip.num(N) # number operator \n",
    "ad = a.dag() # creation operator \n",
    "x = (a + ad)/numpy.sqrt(2) # position operator. Equivalent to qutip.position(N)\n",
    "p = -1j * (a - ad)/numpy.sqrt(2) # momentum operator. Equivalent to qutip.position(N)\n",
    "\n",
    "# defining Hamiltonian\n",
    "H = omega * ad * a\n",
    "\n",
    "\n",
    "# input state\n",
    "psi0 = qutip.coherent(N, alphain, method=\"analytic\")\n",
    "\n",
    "coplist = [numpy.sqrt(gamma) * a*(n - 2)]\n",
    "result = qutip.mesolve(H, psi0, tlist, coplist, [], options=options)\n",
    "\n",
    "# timing: 39.7s"
   ]
  },
  {
   "cell_type": "code",
   "execution_count": 6,
   "metadata": {
    "ExecuteTime": {
     "end_time": "2020-10-23T13:12:21.441066Z",
     "start_time": "2020-10-23T13:12:21.219206Z"
    },
    "hidden": true
   },
   "outputs": [
    {
     "data": {
      "image/png": "[encoded data removed]",
      "text/plain": [
       "<Figure size 432x288 with 1 Axes>"
      ]
     },
     "metadata": {
      "needs_background": "light"
     },
     "output_type": "display_data"
    }
   ],
   "source": [
    "# graph of expectations\n",
    "\n",
    "const_list_0 = numpy.full(len(tlist), 0)\n",
    "const_list_2 = numpy.full(len(tlist), 2)\n",
    "\n",
    "ymax = max(qutip.expect(n, result.states))\n",
    "fig, ax = matplotlib.pyplot.subplots()\n",
    "\n",
    "ax.plot(tlist, qutip.expect(n, result.states), label=\"$\\\\langle\\\\hat{a}^\\\\dagger \\\\hat{a} \\\\rangle$\")\n",
    "ax.plot(tlist, qutip.expect(x, result.states), label=\"$\\\\langle\\\\hat{x}\\\\rangle$\")\n",
    "ax.plot(tlist, qutip.expect(p, result.states), label=\"$\\\\langle\\\\hat{p}\\\\rangle$\")\n",
    "ax.plot(tlist, qutip.variance(x, result.states), label=\"Var($\\\\hat{x}$)\")\n",
    "ax.plot(tlist, qutip.variance(p, result.states), label=\"Var($\\\\hat{p}$)\", linestyle=\"--\")\n",
    "ax.plot(tlist, const_list_0, color=\"black\", linestyle=\"--\")\n",
    "ax.plot(tlist, const_list_2, color=\"black\", linestyle=\"--\")\n",
    "\n",
    "ax.set(xlabel=\"Time\")\n",
    "ax.set(ylabel=\"Expectation\")\n",
    "ax.legend(title = \"$\\\\hat{A} = \\\\hat{a}\\\\left(\\\\hat{n} - 2\\\\right)$\", loc=0)\n",
    "ax.autoscale(tight=True)\n",
    "ax.set_ylim([-0.5,ymax]);"
   ]
  },
  {
   "cell_type": "code",
   "execution_count": 7,
   "metadata": {
    "ExecuteTime": {
     "end_time": "2020-10-23T13:12:45.711947Z",
     "start_time": "2020-10-23T13:12:44.991353Z"
    },
    "hidden": true
   },
   "outputs": [
    {
     "data": {
      "image/png": "[encoded data removed]",
      "text/plain": [
       "<Figure size 432x288 with 1 Axes>"
      ]
     },
     "metadata": {
      "needs_background": "light"
     },
     "output_type": "display_data"
    }
   ],
   "source": [
    "# graph of fidelities to target states\n",
    "\n",
    "const_list_1 = numpy.full(len(tlist), 1)\n",
    "\n",
    "# fidelity to equivalent coherent state\n",
    "fid_list_coh = []\n",
    "for idx, val in enumerate(result.states):\n",
    "    fid_list_coh.append(qutip.fidelity(val, qutip.coherent(N, numpy.sqrt(qutip.expect(n, val)))))\n",
    "    \n",
    "\n",
    "fid_list_two = []\n",
    "for idx, val in enumerate(result.states):\n",
    "    fid_list_two.append(qutip.fidelity(val, qutip.fock(N, 2)))\n",
    "    \n",
    "fid_list_one = []\n",
    "for idx, val in enumerate(result.states):\n",
    "    fid_list_one.append(qutip.fidelity(val, qutip.fock(N, 1)))\n",
    "\n",
    "\n",
    "fid_list_zero = []\n",
    "for idx, val in enumerate(result.states):\n",
    "    fid_list_zero.append(qutip.fidelity(val, qutip.fock(N, 0)))\n",
    "\n",
    "\n",
    "fig, ax = matplotlib.pyplot.subplots()\n",
    "    \n",
    "ax.plot(tlist, fid_list_coh, label=\"$\\\\mathcal{F}\\\\left(\\\\rho_a, |\\\\alpha^\\\\prime\\\\rangle\\\\langle \\\\alpha^\\\\prime |\\\\right)$\", color=\"blue\")\n",
    "ax.plot(tlist, fid_list_two, label=\"$\\\\mathcal{F}\\\\left(\\\\rho_a, |2\\\\rangle\\\\langle 2|\\\\right)$\", color=\"green\")\n",
    "ax.plot(tlist, fid_list_zero, label=\"$\\\\mathcal{F}\\\\left(\\\\rho_a, |0\\\\rangle\\\\langle 0|\\\\right)$\", color=\"orange\")                      \n",
    "ax.plot(tlist, const_list_1, linestyle=\"--\", color=\"black\")\n",
    "ax.autoscale(tight=True)\n",
    "ax.set(xlabel=\"Time\")\n",
    "ax.set(ylabel=\"Fidelity\")\n",
    "ax.set(title=\"Figure 6.7\")\n",
    "ax.set_ylim([0, 1.05]);\n",
    "ax.legend(title = \"$\\\\hat{A} = \\\\hat{a}\\\\left(\\\\hat{n}-2\\\\right)$\", loc=0)\n",
    "\n",
    "ax.xaxis.label.set_size(12)\n",
    "ax.yaxis.label.set_size(12)"
   ]
  },
  {
   "cell_type": "markdown",
   "metadata": {
    "hidden": true
   },
   "source": [
    "Figure 6.7: $\\hat{A} = \\hat{a}\\left(\\hat{a}^\\dagger\\hat{a}-2\\right)$. The steady-state of this loss operator is $|2\\rangle\\langle|$. The fidelity of $\\rho_a$ to this two-photon state increases to $1$."
   ]
  },
  {
   "cell_type": "markdown",
   "metadata": {},
   "source": [
    "## Section 6.3"
   ]
  },
  {
   "cell_type": "markdown",
   "metadata": {
    "heading_collapsed": true
   },
   "source": [
    "### Figure 6.8"
   ]
  },
  {
   "cell_type": "code",
   "execution_count": 4,
   "metadata": {
    "ExecuteTime": {
     "end_time": "2020-10-23T13:14:08.021741Z",
     "start_time": "2020-10-23T13:14:07.991803Z"
    },
    "hidden": true
   },
   "outputs": [],
   "source": [
    "# input parameters\n",
    "options = qutip.Options(nsteps=10000)\n",
    "N = 35 # hilbert space size \n",
    "tlist = numpy.linspace(0, 1.0, 101) # times over which to solve\n",
    "gamma_3 = 8.0 # NCL rate\n",
    "omega = 0.0 # free Hamiltonian frequency\n",
    "alphain = 3.0 # input coherent state amplitude\n",
    "\n",
    "\n",
    "# defining operators\n",
    "a = qutip.destroy(N) # annihilation\n",
    "ad = a.dag() # creation\n",
    "n = qutip.num(N) # number\n",
    "H = omega * ad * a # hamiltonian\n",
    "x = (a + ad)/numpy.sqrt(2) # position operator. Equivalent to qutip.position(N)\n",
    "p = -1j * (a - ad)/numpy.sqrt(2) # momentum operator. Equivalent to qutip.position(N)\n",
    "\n",
    "\n",
    "# input state\n",
    "psi0 = qutip.coherent(N, alphain, method=\"analytic\")\n",
    "\n",
    "def ncl_decay(gamma_1):\n",
    "    coplist = [numpy.sqrt(gamma_3) * a * (n - 1), numpy.sqrt(gamma_1) * a]\n",
    "    result = qutip.mesolve(H, psi0, tlist, coplist, [], options=options)\n",
    "    return result.states"
   ]
  },
  {
   "cell_type": "code",
   "execution_count": 5,
   "metadata": {
    "ExecuteTime": {
     "end_time": "2020-10-23T13:17:02.627967Z",
     "start_time": "2020-10-23T13:14:25.147177Z"
    },
    "hidden": true
   },
   "outputs": [],
   "source": [
    "# graph of fidelities to target states\n",
    "\n",
    "const_list_1 = numpy.full(len(tlist), 1)\n",
    "\n",
    "# gamma_1 = 0.0\n",
    "states_0 = ncl_decay(0)\n",
    "    \n",
    "# fidelity to vacuum state\n",
    "fid_list_vacuum_0 = []\n",
    "for idx, val in enumerate(states_0):\n",
    "    fid_list_vacuum_0.append(qutip.fidelity(val, qutip.fock(N, 0)))\n",
    "    \n",
    "# fidelity to one-photon state\n",
    "fid_list_one_0 = []\n",
    "for idx, val in enumerate(states_0):\n",
    "    fid_list_one_0.append(qutip.fidelity(val, qutip.fock(N, 1)))\n",
    "    \n",
    "# fidelity to equivalent coherent state\n",
    "fid_list_coh_0 = []\n",
    "for idx, val in enumerate(states_0):\n",
    "    fid_list_coh_0.append(qutip.fidelity(val, qutip.coherent(N, numpy.sqrt(qutip.expect(n, val)))))\n",
    "    \n",
    "# gamma_1 = 1.0\n",
    "states_1 = ncl_decay(1)\n",
    "\n",
    "    \n",
    "# fidelity to vacuum state\n",
    "fid_list_vacuum_1 = []\n",
    "for idx, val in enumerate(states_1):\n",
    "    fid_list_vacuum_1.append(qutip.fidelity(val, qutip.fock(N, 0)))\n",
    "    \n",
    "# fidelity to one-photon state\n",
    "fid_list_one_1 = []\n",
    "for idx, val in enumerate(states_1):\n",
    "    fid_list_one_1.append(qutip.fidelity(val, qutip.fock(N, 1)))\n",
    "    \n",
    "# fidelity to equivalent coherent state\n",
    "fid_list_coh_1 = []\n",
    "for idx, val in enumerate(states_1):\n",
    "    fid_list_coh_1.append(qutip.fidelity(val, qutip.coherent(N, numpy.sqrt(qutip.expect(n, val)))))   \n",
    "    \n",
    "# gamma_1 = 2.0\n",
    "states_2 = ncl_decay(2)\n",
    "\n",
    "    \n",
    "# fidelity to vacuum state\n",
    "fid_list_vacuum_2 = []\n",
    "for idx, val in enumerate(states_2):\n",
    "    fid_list_vacuum_2.append(qutip.fidelity(val, qutip.fock(N, 0)))\n",
    "    \n",
    "# fidelity to one-photon state\n",
    "fid_list_one_2 = []\n",
    "for idx, val in enumerate(states_2):\n",
    "    fid_list_one_2.append(qutip.fidelity(val, qutip.fock(N, 1)))\n",
    "\n",
    "    \n",
    "# fidelity to equivalent coherent state\n",
    "fid_list_coh_2 = []\n",
    "for idx, val in enumerate(states_2):\n",
    "    fid_list_coh_2.append(qutip.fidelity(val, qutip.coherent(N, numpy.sqrt(qutip.expect(n, val)))))    \n",
    "    \n",
    "# gamma_1 = 20\n",
    "states_20 = ncl_decay(20)\n",
    "\n",
    "    \n",
    "# fidelity to vacuum state\n",
    "fid_list_vacuum_20 = []\n",
    "for idx, val in enumerate(states_20):\n",
    "    fid_list_vacuum_20.append(qutip.fidelity(val, qutip.fock(N, 0)))\n",
    "    \n",
    "# fidelity to one-photon state\n",
    "fid_list_one_20 = []\n",
    "for idx, val in enumerate(states_20):\n",
    "    fid_list_one_20.append(qutip.fidelity(val, qutip.fock(N, 1)))\n",
    "\n",
    "# fidelity to equivalent coherent state\n",
    "fid_list_coh_20 = []\n",
    "for idx, val in enumerate(states_20):\n",
    "    fid_list_coh_20.append(qutip.fidelity(val, qutip.coherent(N, numpy.sqrt(qutip.expect(n, val)))))\n",
    "\n",
    "# timing: 2m 37s"
   ]
  },
  {
   "cell_type": "code",
   "execution_count": 6,
   "metadata": {
    "ExecuteTime": {
     "end_time": "2020-10-23T13:18:52.834824Z",
     "start_time": "2020-10-23T13:18:52.361885Z"
    },
    "hidden": true
   },
   "outputs": [
    {
     "data": {
      "image/png": "[encoded data removed]",
      "text/plain": [
       "<Figure size 432x288 with 1 Axes>"
      ]
     },
     "metadata": {
      "needs_background": "light"
     },
     "output_type": "display_data"
    }
   ],
   "source": [
    "# graph of expectations\n",
    "\n",
    "const_list_0 = numpy.full(len(tlist), 0)\n",
    "const_list_1 = numpy.full(len(tlist), 1)\n",
    "\n",
    "ymax = max(qutip.expect(n, states_1))\n",
    "fig, ax = matplotlib.pyplot.subplots()\n",
    "\n",
    "ax.plot(tlist, qutip.expect(n, states_0), color=\"blue\", label=\"$\\\\gamma_1 = 0.0$\")\n",
    "ax.plot(tlist, qutip.expect(n, states_2), color=\"green\", label=\"$\\\\gamma_1 = 2.0$\")\n",
    "ax.plot(tlist, qutip.expect(n, states_20), color=\"orange\", label=\"$\\\\gamma_1 = 20.0$\")\n",
    "\n",
    "ax.plot(tlist, qutip.variance(x, states_0), color=\"blue\" ,linestyle=\"--\")\n",
    "ax.plot(tlist, qutip.variance(x, states_2), color=\"green\" ,linestyle=\"--\")\n",
    "ax.plot(tlist, qutip.variance(x, states_20), color=\"orange\" ,linestyle=\"--\")\n",
    "\n",
    "ax.plot(tlist, const_list_0, color=\"black\", linestyle=\"--\")\n",
    "ax.plot(tlist, const_list_1, color=\"black\", linestyle=\"--\")\n",
    "\n",
    "ax.set(xlabel=\"Time\")\n",
    "ax.set(ylabel=\"Expectation\")\n",
    "ax.set(title=\"Figure 6.8 (a)\")\n",
    "ax.legend(title = \"$\\\\hat{a}\\\\left(\\\\hat{n} - 1\\\\right)$ and $\\hat{a}$\", loc=0)\n",
    "ax.autoscale(tight=True)\n",
    "ax.set_ylim([-0.2, 2.5]);\n",
    "\n",
    "ax.xaxis.label.set_size(12)\n",
    "ax.yaxis.label.set_size(12)"
   ]
  },
  {
   "cell_type": "code",
   "execution_count": 7,
   "metadata": {
    "ExecuteTime": {
     "end_time": "2020-10-23T13:18:57.268778Z",
     "start_time": "2020-10-23T13:18:57.048262Z"
    },
    "hidden": true
   },
   "outputs": [
    {
     "data": {
      "image/png": "[encoded data removed]",
      "text/plain": [
       "<Figure size 432x288 with 1 Axes>"
      ]
     },
     "metadata": {
      "needs_background": "light"
     },
     "output_type": "display_data"
    }
   ],
   "source": [
    "fig, ax = matplotlib.pyplot.subplots()\n",
    "\n",
    "ax.plot(tlist, fid_list_vacuum_0, color=\"blue\", label=\"$\\\\mathcal{F}\\\\left(\\\\rho_a, |0\\\\rangle\\\\langle 0|\\\\right)$\")\n",
    "ax.plot(tlist, fid_list_one_0, color=\"red\", label=\"$\\\\mathcal{F}\\\\left(\\\\rho_a, |1\\\\rangle\\\\langle 1|\\\\right)$\")\n",
    "ax.plot(tlist, fid_list_coh_0, color=\"orange\", label=\"$\\\\mathcal{F}\\\\left(\\\\rho_a, |\\\\alpha^\\\\prime\\\\rangle\\\\langle \\\\alpha^\\\\prime |\\\\right)$\")\n",
    "\n",
    "\n",
    "ax.plot(tlist, fid_list_vacuum_1, color=\"blue\", linestyle=\"-.\")\n",
    "ax.plot(tlist, fid_list_one_1, color=\"red\", linestyle=\"-.\")\n",
    "ax.plot(tlist, fid_list_coh_1, color=\"orange\", linestyle=\"-.\")\n",
    "\n",
    "ax.plot(tlist, fid_list_vacuum_20, color=\"blue\", linestyle=\"--\")\n",
    "ax.plot(tlist, fid_list_one_20, color=\"red\", linestyle=\"--\")\n",
    "ax.plot(tlist, fid_list_coh_20, color=\"orange\", linestyle=\"--\")\n",
    "\n",
    "\n",
    "ax.plot(tlist, const_list_1, color=\"black\", linestyle=\"--\")\n",
    "\n",
    "ax.autoscale(tight=True)\n",
    "ax.set(xlabel=\"Time\")\n",
    "ax.set(ylabel=\"Fidelity\")\n",
    "ax.set(title=\"Figure 6.8 (b)\")\n",
    "ax.set_ylim([0, 1.05])\n",
    "ax.legend(title = \"$\\\\hat{a}\\\\left(\\\\hat{n}-1\\\\right)$ and $\\\\hat{a}$\", loc=0)\n",
    "\n",
    "ax.xaxis.label.set_size(12)\n",
    "ax.yaxis.label.set_size(12)"
   ]
  },
  {
   "cell_type": "markdown",
   "metadata": {
    "hidden": true
   },
   "source": [
    "Figure 6.8: NCL $\\hat{a}\\left(\\hat{a}^\\dagger \\hat{a} - 1\\right)$ and linear loss $\\hat{a}$. Initial coherent state amplitude $\\alpha = 3.0$ and $\\gamma_{NCL} = 8.0$. (a) Operator expectation values. Solid: $\\langle \\hat{a}^\\dagger \\hat{a}\\rangle$. The presence of linear loss $\\gamma_1 > 0$ ensures that the photon number decays to $0$. Dashed: Var$\\left(\\hat{x}\\right)$. Similarly, for $\\gamma_1 > 0$ we see the variance in $x$ return to its initial value, hinting that our state is being pushed towards vacuum. (b) Fidelities of $\\rho_a\\left(t\\right)$ against vacuum (blue), single-photon state (red) and coherent state with equivalent photon-number expectation (orange). Solid: $\\gamma_1=0$. Dot-dashed: $\\gamma_1 = 2$. Dashed: $\\gamma_1 = 20$. The presence of linear loss pushes $\\rho_a$ away from the single-photon state for $t > 0.1$. For $t < 0.1$ the system is dominated by NCL. Numerical method: direct integration."
   ]
  },
  {
   "cell_type": "markdown",
   "metadata": {
    "heading_collapsed": true
   },
   "source": [
    "### Figure 6.9"
   ]
  },
  {
   "cell_type": "code",
   "execution_count": 4,
   "metadata": {
    "ExecuteTime": {
     "end_time": "2020-10-23T13:19:25.801285Z",
     "start_time": "2020-10-23T13:19:25.785708Z"
    },
    "hidden": true
   },
   "outputs": [],
   "source": [
    "def max_fidelity(_stateslist):\n",
    "    fid_list = []\n",
    "    for idx, val in enumerate(_stateslist):\n",
    "        fid_list.append(qutip.fidelity(val, qutip.fock(N, 1)))\n",
    "\n",
    "    return max(fid_list)\n",
    "\n",
    "# input parameters\n",
    "options = qutip.Options(nsteps=10000)\n",
    "N = 35 # hilbert space size \n",
    "tlist = numpy.linspace(0, 1.0, 101) # times over which to solve\n",
    "gamma_3 = 8.0 # NCL rate\n",
    "omega = 0.0 # free Hamiltonian frequency\n",
    "\n",
    "\n",
    "# defining operators\n",
    "a = qutip.destroy(N) # annihilation\n",
    "ad = a.dag() # creation\n",
    "n = qutip.num(N) # number\n",
    "H = omega * ad * a # hamiltonian\n",
    "\n",
    "\n",
    "\n",
    "def ncl_decay(alphain, gamma_1):\n",
    "    # input state\n",
    "    psi0 = qutip.coherent(N, alphain, method=\"analytic\")\n",
    "    coplist = [numpy.sqrt(gamma_3) * a * (n - 1), numpy.sqrt(gamma_1) * a]\n",
    "    result = qutip.mesolve(H, psi0, tlist, coplist, [], options=options)\n",
    "    return result.states\n",
    "\n",
    "def ncl_decay(alphain, gamma_1):\n",
    "    # input state\n",
    "    psi0 = qutip.coherent(N, alphain, method=\"analytic\")\n",
    "    coplist = [numpy.sqrt(gamma_3) * a * (n - 1), numpy.sqrt(gamma_1) * a]\n",
    "    result = qutip.mesolve(H, psi0, tlist, coplist, [], options=options)\n",
    "    return result.states"
   ]
  },
  {
   "cell_type": "code",
   "execution_count": 5,
   "metadata": {
    "ExecuteTime": {
     "end_time": "2020-10-23T13:19:30.536700Z",
     "start_time": "2020-10-23T13:19:30.531108Z"
    },
    "hidden": true
   },
   "outputs": [],
   "source": [
    "gam_list = numpy.arange(0.0, 21.0, 1.0);"
   ]
  },
  {
   "cell_type": "code",
   "execution_count": 6,
   "metadata": {
    "ExecuteTime": {
     "end_time": "2020-10-23T13:21:50.290290Z",
     "start_time": "2020-10-23T13:20:33.817593Z"
    },
    "hidden": true
   },
   "outputs": [
    {
     "name": "stdout",
     "output_type": "stream",
     "text": [
      "Progress: [####################] 100.0%\n"
     ]
    }
   ],
   "source": [
    "alphaTest = 1.0;\n",
    "max_fid_list_1 = []\n",
    "for idx, val in enumerate(gam_list):\n",
    "    max_fid_list_1.append(max_fidelity(ncl_decay(alphaTest, val)))\n",
    "    update_progress(idx / len(gam_list))\n",
    "    \n",
    "update_progress(1)\n",
    "\n",
    "# timing: 52.8s"
   ]
  },
  {
   "cell_type": "code",
   "execution_count": 7,
   "metadata": {
    "ExecuteTime": {
     "end_time": "2020-10-23T13:27:35.690286Z",
     "start_time": "2020-10-23T13:21:50.290290Z"
    },
    "hidden": true
   },
   "outputs": [
    {
     "name": "stdout",
     "output_type": "stream",
     "text": [
      "Progress: [####################] 100.0%\n"
     ]
    }
   ],
   "source": [
    "alphaTest = 2.0;\n",
    "max_fid_list_2 = []\n",
    "for idx, val in enumerate(gam_list):\n",
    "    max_fid_list_2.append(max_fidelity(ncl_decay(alphaTest, val)))\n",
    "    update_progress(idx / len(gam_list))\n",
    "    \n",
    "update_progress(1)\n",
    "\n",
    "# timing: 5m 58s"
   ]
  },
  {
   "cell_type": "code",
   "execution_count": 8,
   "metadata": {
    "ExecuteTime": {
     "end_time": "2020-10-23T13:39:52.841044Z",
     "start_time": "2020-10-23T13:27:35.690286Z"
    },
    "hidden": true
   },
   "outputs": [
    {
     "name": "stdout",
     "output_type": "stream",
     "text": [
      "Progress: [####################] 100.0%\n"
     ]
    }
   ],
   "source": [
    "alphaTest = 4.0;\n",
    "max_fid_list_4 = []\n",
    "for idx, val in enumerate(gam_list):\n",
    "    max_fid_list_4.append(max_fidelity(ncl_decay(alphaTest, val)))\n",
    "    update_progress(idx / len(gam_list))\n",
    "    \n",
    "update_progress(1)\n",
    "\n",
    "# timing: 12m 56s"
   ]
  },
  {
   "cell_type": "code",
   "execution_count": 9,
   "metadata": {
    "ExecuteTime": {
     "end_time": "2020-10-23T13:39:53.248800Z",
     "start_time": "2020-10-23T13:39:52.843370Z"
    },
    "hidden": true
   },
   "outputs": [
    {
     "data": {
      "image/png": "[encoded data removed]",
      "text/plain": [
       "<Figure size 432x288 with 1 Axes>"
      ]
     },
     "metadata": {
      "needs_background": "light"
     },
     "output_type": "display_data"
    }
   ],
   "source": [
    "fig, ax = matplotlib.pyplot.subplots()\n",
    "\n",
    "ax.plot(gam_list, max_fid_list_1, label=\"$\\\\alpha = 1.0$\", color=\"blue\")\n",
    "ax.plot(gam_list, max_fid_list_2, label=\"$\\\\alpha = 2.0$\", color=\"green\")\n",
    "ax.plot(gam_list, max_fid_list_4, label=\"$\\\\alpha = 4.0$\", color=\"orange\")\n",
    "\n",
    "\n",
    "\n",
    "ax.autoscale(tight=True)\n",
    "ax.set(xlabel=\"$\\\\gamma_1$\")\n",
    "ax.set(ylabel=\"Max Fidelity\")\n",
    "ax.set(title=\"Figure 6.9\")\n",
    "ax.set_ylim([0, 1.05])\n",
    "ax.legend(title = \"$\\\\hat{a}\\\\left(\\\\hat{n}-1\\\\right)$ and $\\\\hat{a}$\", loc=0)\n",
    "\n",
    "ax.xaxis.label.set_size(12)\n",
    "ax.yaxis.label.set_size(12)"
   ]
  },
  {
   "cell_type": "markdown",
   "metadata": {
    "hidden": true
   },
   "source": [
    "Figure 6.9: Maximum attainable fidelity between $\\rho_a$ and $|1\\rangle\\langle1|$ at different linear loss levels $\\gamma_1$. Linear loss drives $\\rho_a$ towards the vacuum and destroys the quantumness of our state, but over short times the fidelity to $|1\\rangle\\langle1|$ appears independent of $\\gamma_1$, Fig. $6.8$. Here, we observe that after $\\gamma_1 \\approx 7.5$ the maximum attainable fidelity is practically independent of linear loss rate, while it does depend on $\\alpha$. We shall exploit this later. Numerical method: direct integration."
   ]
  },
  {
   "cell_type": "markdown",
   "metadata": {
    "heading_collapsed": true
   },
   "source": [
    "### Figure 6.10"
   ]
  },
  {
   "cell_type": "code",
   "execution_count": 4,
   "metadata": {
    "ExecuteTime": {
     "end_time": "2020-10-23T14:52:04.871719Z",
     "start_time": "2020-10-23T14:52:04.834461Z"
    },
    "hidden": true
   },
   "outputs": [],
   "source": [
    "# input parameters\n",
    "options = qutip.Options(nsteps=10000)\n",
    "N = 35 # hilbert space size \n",
    "tlist = numpy.linspace(0, 1.0, 101) # times over which to solve\n",
    "gamma_3 = 8.0 # NCL rate\n",
    "omega = 0.0 # free Hamiltonian frequency\n",
    "\n",
    "\n",
    "# defining operators\n",
    "a = qutip.destroy(N) # annihilation\n",
    "ad = a.dag() # creation\n",
    "n = qutip.num(N) # number\n",
    "H = omega * ad * a # hamiltonian\n",
    "\n",
    "\n",
    "\n",
    "def ncl_decay(alphain, gamma_1):\n",
    "    # input state\n",
    "    psi0 = qutip.coherent(N, alphain, method=\"analytic\")\n",
    "    coplist = [numpy.sqrt(gamma_3) * a * (n - 1), numpy.sqrt(gamma_1) * a]\n",
    "    result = qutip.mesolve(H, psi0, tlist, coplist, [], options=options)\n",
    "    return result.states\n",
    "\n",
    "def lin_decay(alphain, gamma_1):\n",
    "    psi0 = qutip.coherent(N, alphain, method=\"analytic\")\n",
    "    coplist = [numpy.sqrt(gamma_1) * a]\n",
    "    result = qutip.mesolve(H, psi0, tlist, coplist, [], options=options)\n",
    "    return result.states\n",
    "\n",
    "def mandelQ(_state):\n",
    "    _num = qutip.expect(ad * ad * a * a, _state)\n",
    "    _denom = qutip.expect(ad * a, _state)\n",
    "    return (_num/_denom) - _denom"
   ]
  },
  {
   "cell_type": "code",
   "execution_count": 5,
   "metadata": {
    "ExecuteTime": {
     "end_time": "2020-10-23T14:55:26.966404Z",
     "start_time": "2020-10-23T14:52:05.330455Z"
    },
    "hidden": true
   },
   "outputs": [],
   "source": [
    "# generating some states evolution\n",
    "\n",
    "states_list_0 = ncl_decay(3.0, 0.0)\n",
    "states_list_1 = ncl_decay(3.0, 1.0)\n",
    "states_list_2 = ncl_decay(3.0, 2.0)\n",
    "states_list_5 = ncl_decay(3.0, 5.0)\n",
    "states_list_20 = ncl_decay(3.0, 20.0)\n",
    "\n",
    "states_list_lin = lin_decay(3.0, 5.0)\n",
    "\n",
    "# timing 3m 8s"
   ]
  },
  {
   "cell_type": "code",
   "execution_count": 6,
   "metadata": {
    "ExecuteTime": {
     "end_time": "2020-10-23T14:55:26.996367Z",
     "start_time": "2020-10-23T14:55:26.968405Z"
    },
    "hidden": true
   },
   "outputs": [],
   "source": [
    "# generating some lists of mandel parameter\n",
    "\n",
    "q_list_0 = mandelQ(states_list_0)\n",
    "q_list_1 = mandelQ(states_list_1)\n",
    "q_list_2 = mandelQ(states_list_2)\n",
    "q_list_5 = mandelQ(states_list_5)\n",
    "q_list_20 = mandelQ(states_list_20)\n",
    "\n",
    "q_list_lin = mandelQ(states_list_lin)\n",
    "\n",
    "# timing 41ms"
   ]
  },
  {
   "cell_type": "code",
   "execution_count": 7,
   "metadata": {
    "ExecuteTime": {
     "end_time": "2020-10-23T14:55:27.362649Z",
     "start_time": "2020-10-23T14:55:26.997473Z"
    },
    "hidden": true
   },
   "outputs": [
    {
     "data": {
      "image/png": "[encoded data removed]",
      "text/plain": [
       "<Figure size 432x288 with 1 Axes>"
      ]
     },
     "metadata": {
      "needs_background": "light"
     },
     "output_type": "display_data"
    }
   ],
   "source": [
    "fig, ax = matplotlib.pyplot.subplots()\n",
    "\n",
    "ax.plot(tlist, q_list_0, label=\"$0$\", color=\"blue\")\n",
    "ax.plot(tlist, q_list_1, label=\"$1$\", color=\"green\")\n",
    "ax.plot(tlist, q_list_2, label=\"$2$\", color=\"orange\")\n",
    "ax.plot(tlist, q_list_5, label=\"$5$\", color=\"purple\")\n",
    "ax.plot(tlist, q_list_20, label=\"$20$\", color=\"red\")\n",
    "\n",
    "ax.plot(tlist, q_list_lin, color=\"purple\", linestyle=\"--\")\n",
    "\n",
    "\n",
    "ax.set(xlabel=\"Time\")\n",
    "ax.set(ylabel=\"Q\")\n",
    "ax.set(title=\"Figure 6.10 (a)\")\n",
    "ax.legend(title = \"$\\\\gamma_1$\", loc=4)\n",
    "ax.autoscale(tight=True)\n",
    "ax.set_ylim([-1.05, 0.05]);\n",
    "\n",
    "ax.xaxis.label.set_size(12)\n",
    "ax.yaxis.label.set_size(12)"
   ]
  },
  {
   "cell_type": "code",
   "execution_count": 8,
   "metadata": {
    "ExecuteTime": {
     "end_time": "2020-10-23T14:55:27.377614Z",
     "start_time": "2020-10-23T14:55:27.365647Z"
    },
    "hidden": true
   },
   "outputs": [],
   "source": [
    "# input parameters\n",
    "options = qutip.Options(nsteps=10000)\n",
    "N = 35\n",
    " # hilbert space size \n",
    "tlist = numpy.linspace(0, 0.05, 101) # times over which to solve\n",
    "gamma_3 = 8.0 # NCL rate\n",
    "omega = 0.0 # free Hamiltonian frequency\n",
    "# alphain = 3.0 # input coherent state amplitude\n",
    "\n",
    "\n",
    "# defining operators\n",
    "a = qutip.destroy(N) # annihilation\n",
    "ad = a.dag() # creation\n",
    "n = qutip.num(N) # number\n",
    "H = omega * ad * a # hamiltonian\n",
    "\n",
    "\n",
    "\n",
    "def ncl_decay(alphain, gamma_1):\n",
    "    # input state\n",
    "    psi0 = qutip.coherent(N, alphain, method=\"analytic\")\n",
    "    coplist = [numpy.sqrt(gamma_3) * a * (n - 1), numpy.sqrt(gamma_1) * a]\n",
    "    result = qutip.mesolve(H, psi0, tlist, coplist, [], options=options)\n",
    "    return result.states\n",
    "\n",
    "def lin_decay(alphain, gamma_1):\n",
    "    psi0 = qutip.coherent(N, alphain, method=\"analytic\")\n",
    "    coplist = [numpy.sqrt(gamma_1) * a]\n",
    "    result = qutip.mesolve(H, psi0, tlist, coplist, [], options=options)\n",
    "    return result.states\n",
    "\n",
    "def mandelQ(_state):\n",
    "    _num = qutip.expect(ad * ad * a * a, _state)\n",
    "    _denom = qutip.expect(ad * a, _state)\n",
    "    \n",
    "#     if _denom != 0:\n",
    "#         return (_num/_denom) - _denom\n",
    "#     elif _denom == 0:\n",
    "#         return 0\n",
    "    return (_num/_denom) - _denom"
   ]
  },
  {
   "cell_type": "code",
   "execution_count": 9,
   "metadata": {
    "ExecuteTime": {
     "end_time": "2020-10-23T14:55:41.420337Z",
     "start_time": "2020-10-23T14:55:27.378617Z"
    },
    "hidden": true
   },
   "outputs": [],
   "source": [
    "# generating some states evolution\n",
    "\n",
    "states_list_0 = ncl_decay(3.0, 0.0)\n",
    "states_list_1 = ncl_decay(3.0, 1.0)\n",
    "states_list_2 = ncl_decay(3.0, 2.0)\n",
    "states_list_5 = ncl_decay(3.0, 5.0)\n",
    "states_list_20 = ncl_decay(3.0, 20.0)\n",
    "states_list_lin = lin_decay(3.0, 5.0)\n",
    "\n",
    "# timing 13.6s"
   ]
  },
  {
   "cell_type": "code",
   "execution_count": 10,
   "metadata": {
    "ExecuteTime": {
     "end_time": "2020-10-23T14:55:41.451227Z",
     "start_time": "2020-10-23T14:55:41.421338Z"
    },
    "hidden": true
   },
   "outputs": [],
   "source": [
    "# generating some lists of mandel parameter\n",
    "\n",
    "q_list_0 = mandelQ(states_list_0)\n",
    "q_list_1 = mandelQ(states_list_1)\n",
    "q_list_2 = mandelQ(states_list_2)\n",
    "q_list_5 = mandelQ(states_list_5)\n",
    "q_list_20 = mandelQ(states_list_20)\n",
    "\n",
    "q_list_lin = mandelQ(states_list_lin)\n",
    "\n",
    "# timing 41ms"
   ]
  },
  {
   "cell_type": "code",
   "execution_count": 11,
   "metadata": {
    "ExecuteTime": {
     "end_time": "2020-10-23T14:55:41.625992Z",
     "start_time": "2020-10-23T14:55:41.453221Z"
    },
    "hidden": true
   },
   "outputs": [
    {
     "data": {
      "image/png": "[encoded data removed]",
      "text/plain": [
       "<Figure size 432x288 with 1 Axes>"
      ]
     },
     "metadata": {
      "needs_background": "light"
     },
     "output_type": "display_data"
    }
   ],
   "source": [
    "fig, ax = matplotlib.pyplot.subplots()\n",
    "\n",
    "ax.plot(tlist, q_list_0, label=\"$0$\", color=\"blue\")\n",
    "ax.plot(tlist, q_list_1, label=\"$1$\", color=\"green\")\n",
    "ax.plot(tlist, q_list_2, label=\"$2$\", color=\"orange\")\n",
    "ax.plot(tlist, q_list_5, label=\"$5$\", color=\"purple\")\n",
    "ax.plot(tlist, q_list_20, label=\"$20$\", color=\"red\")\n",
    "\n",
    "ax.plot(tlist, q_list_lin, color=\"purple\", linestyle=\"--\")\n",
    "\n",
    "\n",
    "# ax.plot(tlist, const_list_0, color=\"black\", linestyle=\"--\")\n",
    "# ax.plot(tlist, const_list_1, color=\"black\", linestyle=\"--\")\n",
    "\n",
    "ax.set(xlabel=\"Time\")\n",
    "ax.set(ylabel=\"Q\")\n",
    "ax.set(title=\"Figure 6.10 (b)\")\n",
    "ax.legend(title = \"$\\\\gamma_1$\", loc=0)\n",
    "ax.autoscale(tight=True)\n",
    "ax.set_ylim([-1.05, 0.05]);\n",
    "\n",
    "ax.xaxis.label.set_size(12)\n",
    "ax.yaxis.label.set_size(12)"
   ]
  },
  {
   "cell_type": "markdown",
   "metadata": {
    "hidden": true
   },
   "source": [
    "Figure 6.10: Mandel $Q$ parameter under both NCL and linear loss. With $\\gamma_1 = 0$, $Q \\rightarrow -1$ as the system approaches $|1\\rangle\\langle1|$. For any $\\gamma_1 > 0$, $Q\\left(t\\rightarrow\\infty\\right) \\rightarrow 0$, but significant $Q < 0$ are still obtained for finite $t$. Solid: $\\gamma_{NCL} \\ne 0$. Dashed: $\\gamma_{NCL} = 0$, i.e. just linear loss. Numerical method: direct integration. (a) and (b) show the same evolution, but (b) is displayed over a shorter timescale."
   ]
  },
  {
   "cell_type": "markdown",
   "metadata": {
    "heading_collapsed": true
   },
   "source": [
    "### Figure 6.11"
   ]
  },
  {
   "cell_type": "code",
   "execution_count": 6,
   "metadata": {
    "ExecuteTime": {
     "end_time": "2020-10-23T15:23:58.079799Z",
     "start_time": "2020-10-23T15:23:58.069798Z"
    },
    "hidden": true
   },
   "outputs": [],
   "source": [
    "# input parameters\n",
    "options = qutip.Options(nsteps=10000)\n",
    "N = 50\n",
    " # hilbert space size \n",
    "tlist = numpy.linspace(0, 0.02, 101) # times over which to solve\n",
    "gamma_3 = 8.0 # NCL rate\n",
    "omega = 0.0 # free Hamiltonian frequency\n",
    "# alphain = 3.0 # input coherent state amplitude\n",
    "\n",
    "\n",
    "# defining operators\n",
    "a = qutip.destroy(N) # annihilation\n",
    "ad = a.dag() # creation\n",
    "n = qutip.num(N) # number\n",
    "H = omega * ad * a # hamiltonian\n",
    "\n",
    "\n",
    "\n",
    "def ncl_decay(alphain, gamma_1):\n",
    "    # input state\n",
    "    psi0 = qutip.coherent(N, alphain, method=\"analytic\")\n",
    "    coplist = [numpy.sqrt(gamma_3) * a * (n - 1), numpy.sqrt(gamma_1) * a]\n",
    "    result = qutip.mesolve(H, psi0, tlist, coplist, [], options=options)\n",
    "    return result.states\n",
    "\n",
    "def lin_decay(alphain, gamma_1):\n",
    "    psi0 = qutip.coherent(N, alphain, method=\"analytic\")\n",
    "    coplist = [numpy.sqrt(gamma_1) * a]\n",
    "    result = qutip.mesolve(H, psi0, tlist, coplist, [], options=options)\n",
    "    return result.states\n",
    "\n",
    "def mandelQ(_state):\n",
    "    _num = qutip.expect(ad * ad * a * a, _state)\n",
    "    _denom = qutip.expect(ad * a, _state)\n",
    "    \n",
    "#     if _denom != 0:\n",
    "#         return (_num/_denom) - _denom\n",
    "#     elif _denom == 0:\n",
    "#         return 0\n",
    "    return (_num/_denom) - _denom\n",
    "\n",
    "def bestQ(alphain, gamma_1):\n",
    "    _states = ncl_decay(alphain, gamma_1)\n",
    "    \n",
    "    return min(mandelQ(_states))"
   ]
  },
  {
   "cell_type": "code",
   "execution_count": 7,
   "metadata": {
    "ExecuteTime": {
     "end_time": "2020-10-23T15:23:59.277861Z",
     "start_time": "2020-10-23T15:23:59.269872Z"
    },
    "hidden": true
   },
   "outputs": [],
   "source": [
    "gam_list = numpy.array([0.0, 0.2, 0.4, 0.6, 0.8, 1.0, 1.2, 1.4, 1.6, 1.8, 2.0, 2.2, 2.4, 2.6, 2.8, 3.0, 4.0, 5.0, 6.0, 7.0, 8.0, 9.0, 10.0, 15.0, 20.0])"
   ]
  },
  {
   "cell_type": "code",
   "execution_count": 8,
   "metadata": {
    "ExecuteTime": {
     "end_time": "2020-10-23T15:24:23.314072Z",
     "start_time": "2020-10-23T15:24:05.430540Z"
    },
    "hidden": true
   },
   "outputs": [
    {
     "name": "stdout",
     "output_type": "stream",
     "text": [
      "Progress: [####################] 100.0%\n"
     ]
    }
   ],
   "source": [
    "# alpha = 2\n",
    "bestQ_list_2 = []\n",
    "alpha_test = 2.0\n",
    "for idx, val in enumerate(gam_list):\n",
    "    bestQ_list_2.append(bestQ(alpha_test, val))\n",
    "    update_progress(idx / len(gam_list))\n",
    "    \n",
    "update_progress(1)\n",
    "\n",
    "# timing: 17.9s"
   ]
  },
  {
   "cell_type": "code",
   "execution_count": 9,
   "metadata": {
    "ExecuteTime": {
     "end_time": "2020-10-23T15:25:42.340628Z",
     "start_time": "2020-10-23T15:24:23.315081Z"
    },
    "hidden": true
   },
   "outputs": [
    {
     "name": "stdout",
     "output_type": "stream",
     "text": [
      "Progress: [####################] 100.0%\n"
     ]
    }
   ],
   "source": [
    "# alpha = 3\n",
    "bestQ_list_3 = []\n",
    "alpha_test = 3.0\n",
    "for idx, val in enumerate(gam_list):\n",
    "    bestQ_list_3.append(bestQ(alpha_test, val))\n",
    "    update_progress(idx / len(gam_list))\n",
    "    \n",
    "update_progress(1)\n",
    "\n",
    "# timing: 1m 19s"
   ]
  },
  {
   "cell_type": "code",
   "execution_count": 10,
   "metadata": {
    "ExecuteTime": {
     "end_time": "2020-10-23T15:28:32.404032Z",
     "start_time": "2020-10-23T15:25:42.342594Z"
    },
    "hidden": true
   },
   "outputs": [
    {
     "name": "stdout",
     "output_type": "stream",
     "text": [
      "Progress: [####################] 100.0%\n"
     ]
    }
   ],
   "source": [
    "# alpha = 4\n",
    "bestQ_list_4 = []\n",
    "alpha_test = 4.0\n",
    "for idx, val in enumerate(gam_list):\n",
    "    bestQ_list_4.append(bestQ(alpha_test, val))\n",
    "    update_progress(idx / len(gam_list))\n",
    "    \n",
    "update_progress(1)\n",
    "\n",
    "# timing: 20.4s"
   ]
  },
  {
   "cell_type": "code",
   "execution_count": 11,
   "metadata": {
    "ExecuteTime": {
     "end_time": "2020-10-23T15:31:19.672448Z",
     "start_time": "2020-10-23T15:28:32.406006Z"
    },
    "hidden": true
   },
   "outputs": [
    {
     "name": "stdout",
     "output_type": "stream",
     "text": [
      "Progress: [####################] 100.0%\n"
     ]
    }
   ],
   "source": [
    "# alpha = 5\n",
    "bestQ_list_5 = []\n",
    "alpha_test = 5.0\n",
    "for idx, val in enumerate(gam_list):\n",
    "    bestQ_list_5.append(bestQ(alpha_test, val))\n",
    "    update_progress(idx / len(gam_list))\n",
    "    \n",
    "update_progress(1)\n",
    "\n",
    "# timing: 3m 2s"
   ]
  },
  {
   "cell_type": "markdown",
   "metadata": {
    "hidden": true
   },
   "source": [
    "For $\\alpha=8.0$ I have performed the same method as above with $|\\mathcal{H}| = 100$ (i.e. `N=100`) . It took a while, so I've also provided the output so the figure can still be made without waiting for ages."
   ]
  },
  {
   "cell_type": "code",
   "execution_count": 15,
   "metadata": {
    "ExecuteTime": {
     "end_time": "2020-10-23T15:33:23.902812Z",
     "start_time": "2020-10-23T15:31:20.131141Z"
    },
    "hidden": true
   },
   "outputs": [
    {
     "name": "stdout",
     "output_type": "stream",
     "text": [
      "Progress: [####################] 100.0%\n"
     ]
    }
   ],
   "source": [
    "# alpha = 8\n",
    "bestQ_list_8 = []\n",
    "alpha_test = 8.0\n",
    "for idx, val in enumerate(gam_list):\n",
    "    bestQ_list_8.append(bestQ(alpha_test, val))\n",
    "    update_progress(idx / len(gam_list))\n",
    "    \n",
    "update_progress(1)"
   ]
  },
  {
   "cell_type": "code",
   "execution_count": 14,
   "metadata": {
    "ExecuteTime": {
     "end_time": "2020-10-23T15:31:20.129233Z",
     "start_time": "2020-10-23T15:31:20.115266Z"
    },
    "hidden": true
   },
   "outputs": [],
   "source": [
    "# # dims=100\n",
    "\n",
    "# # alpha = 8\n",
    "# bestQ_list_8 = []\n",
    "# alpha_test = 8.0\n",
    "# for idx, val in enumerate(gam_list):\n",
    "#     bestQ_list_8.append(bestQ(alpha_test, val))\n",
    "#     update_progress(idx / len(gam_list))\n",
    "    \n",
    "# update_progress(1)\n",
    "\n",
    "bestQ_list_8 = [-0.8327677383873613,\n",
    " -0.8314726622484669,\n",
    " -0.8301742521864941,\n",
    " -0.8288725285698655,\n",
    " -0.8275674622788018,\n",
    " -0.8262592055300997,\n",
    " -0.8249477218652428,\n",
    " -0.8236330057733716,\n",
    " -0.8223152312784745,\n",
    " -0.8209943285932328,\n",
    " -0.8196704490279649,\n",
    " -0.8183534033995123,\n",
    " -0.8173773684393641,\n",
    " -0.8165532736437047,\n",
    " -0.8158064795862621,\n",
    " -0.8151195751004905,\n",
    " -0.8123785845959595,\n",
    " -0.8104716929944256,\n",
    " -0.8090665556713614,\n",
    " -0.8079864327479469,\n",
    " -0.8071259949050118,\n",
    " -0.8064265867077847,\n",
    " -0.8058421227161761,\n",
    " -0.803945947355853,\n",
    " -0.8029219813587591]"
   ]
  },
  {
   "cell_type": "code",
   "execution_count": 13,
   "metadata": {
    "ExecuteTime": {
     "end_time": "2020-10-23T15:31:20.114269Z",
     "start_time": "2020-10-23T15:31:19.689405Z"
    },
    "hidden": true
   },
   "outputs": [
    {
     "data": {
      "image/png": "[encoded data removed]",
      "text/plain": [
       "<Figure size 432x288 with 1 Axes>"
      ]
     },
     "metadata": {
      "needs_background": "light"
     },
     "output_type": "display_data"
    }
   ],
   "source": [
    "fig, ax = matplotlib.pyplot.subplots()\n",
    "\n",
    "ax.plot(gam_list, bestQ_list_2, label=\"$\\\\alpha = 2.0$\", color=\"blue\")\n",
    "ax.plot(gam_list, bestQ_list_3, label=\"$\\\\alpha = 3.0$\", color=\"green\")\n",
    "ax.plot(gam_list, bestQ_list_4, label=\"$\\\\alpha = 4.0$\", color=\"orange\")\n",
    "ax.plot(gam_list, bestQ_list_5, label=\"$\\\\alpha = 5.0$\", color=\"red\")\n",
    "ax.plot(gam_list, bestQ_list_8, label=\"$\\\\alpha = 8.0$\", linestyle=\"--\")\n",
    "\n",
    "ax.set(xlabel=\"$\\\\gamma_1$\")\n",
    "ax.set(ylabel=\"Best Q\")\n",
    "ax.set(title=\"Figure 6.11\")\n",
    "ax.legend(title = \"Amplitude $\\\\alpha$\", loc=0)\n",
    "ax.autoscale(tight=True)\n",
    "ax.set_ylim([-1.05, -0.6]);\n",
    "\n",
    "ax.xaxis.label.set_size(12)\n",
    "ax.yaxis.label.set_size(12)\n"
   ]
  },
  {
   "cell_type": "markdown",
   "metadata": {
    "hidden": true
   },
   "source": [
    "Figure 6.11: The best attainable value of Mandel parameter $Q$ is approximately independent of $\\gamma_1$ when the loss rate is nonzero. Larger $\\alpha$ allows for better $Q$ to be reached. Numerical method: direct integration ($\\alpha = 2.0, 3.0, 4.0, 5.0)$; quantum Monte Carlo ($\\alpha = 8.0$)."
   ]
  },
  {
   "cell_type": "markdown",
   "metadata": {
    "heading_collapsed": true
   },
   "source": [
    "### Figure 6.12"
   ]
  },
  {
   "cell_type": "code",
   "execution_count": 4,
   "metadata": {
    "ExecuteTime": {
     "end_time": "2020-10-23T15:56:36.642024Z",
     "start_time": "2020-10-23T15:56:36.610781Z"
    },
    "hidden": true
   },
   "outputs": [],
   "source": [
    "# input parameters\n",
    "options = qutip.Options(nsteps=10000)\n",
    "N = 35 # hilbert space size \n",
    "tlist = numpy.linspace(0, 1.0, 101) # times over which to solve\n",
    "gamma_3 = 8.0 # NCL rate\n",
    "omega = 0.0 # free Hamiltonian frequency\n",
    "alphain = 3.0 # input coherent state amplitude\n",
    "\n",
    "\n",
    "# defining operators\n",
    "a = qutip.destroy(N) # annihilation\n",
    "ad = a.dag() # creation\n",
    "n = qutip.num(N) # number\n",
    "H = omega * ad * a # hamiltonian\n",
    "x = (a + ad)/numpy.sqrt(2) # position operator. Equivalent to qutip.position(N)\n",
    "p = -1j * (a - ad)/numpy.sqrt(2) # momentum operator. Equivalent to qutip.position(N)\n",
    "\n",
    "\n",
    "# input state\n",
    "psi0 = qutip.coherent(N, alphain, method=\"operator\")\n",
    "\n",
    "def ncl_decay(gamma_1):\n",
    "    coplist = [numpy.sqrt(gamma_3) * a * (n - 1), numpy.sqrt(gamma_1) * a]\n",
    "    result = qutip.mesolve(H, psi0, tlist, coplist, [], options=options)\n",
    "    return result.states"
   ]
  },
  {
   "cell_type": "code",
   "execution_count": 5,
   "metadata": {
    "ExecuteTime": {
     "end_time": "2020-10-23T15:56:44.637478Z",
     "start_time": "2020-10-23T15:56:44.610213Z"
    },
    "hidden": true
   },
   "outputs": [],
   "source": [
    "tlist = numpy.linspace(0, 0.002, 101) # times over which to solve\n",
    "\n",
    "def ncl_decay_2(dims, alphain, gamma_1=0.0, gamma_3=8.0):\n",
    "    options = qutip.Options(nsteps=25000)\n",
    "    N = dims # hilbert space size \n",
    "#     tlist = numpy.linspace(0, 0.1, 101) # times over which to solve\n",
    "    gamma_3 = 8.0 # NCL rate\n",
    "    omega = 0.0 # free Hamiltonian frequency\n",
    "\n",
    "\n",
    "    # defining operators\n",
    "    a = qutip.destroy(N) # annihilation\n",
    "    ad = a.dag() # creation\n",
    "    n = qutip.num(N) # number\n",
    "    H = omega * ad * a # hamiltonian\n",
    "    x = (a + ad)/numpy.sqrt(2) # position operator. Equivalent to qutip.position(N)\n",
    "    p = -1j * (a - ad)/numpy.sqrt(2) # momentum operator. Equivalent to qutip.position(N)\n",
    "\n",
    "\n",
    "    # input state\n",
    "    psi0 = qutip.coherent(N, alphain, method=\"analytic\")\n",
    "    \n",
    "    # solving\n",
    "    coplist = [numpy.sqrt(gamma_3) * a * (n - 1), numpy.sqrt(gamma_1) * a]\n",
    "    result = qutip.mesolve(H, psi0, tlist, coplist, [], options=options)\n",
    "    return result.states"
   ]
  },
  {
   "cell_type": "code",
   "execution_count": 6,
   "metadata": {
    "ExecuteTime": {
     "end_time": "2020-10-23T15:56:48.826705Z",
     "start_time": "2020-10-23T15:56:47.403684Z"
    },
    "hidden": true
   },
   "outputs": [],
   "source": [
    "sol_3 = ncl_decay_2(35, 3.0)\n",
    "sol_4 = ncl_decay_2(40, 4.0)\n",
    "sol_5 = ncl_decay_2(50, 5.0)\n",
    "sol_6 = ncl_decay_2(60, 6.0);\n",
    "\n",
    "# timing: 1.42s"
   ]
  },
  {
   "cell_type": "code",
   "execution_count": 7,
   "metadata": {
    "ExecuteTime": {
     "end_time": "2020-10-23T15:56:54.298335Z",
     "start_time": "2020-10-23T15:56:53.927818Z"
    },
    "hidden": true
   },
   "outputs": [
    {
     "data": {
      "image/png": "[encoded data removed]",
      "text/plain": [
       "<Figure size 432x288 with 1 Axes>"
      ]
     },
     "metadata": {
      "needs_background": "light"
     },
     "output_type": "display_data"
    }
   ],
   "source": [
    "fig, ax = matplotlib.pyplot.subplots()\n",
    "\n",
    "ax.plot(tlist, qutip.expect(qutip.num(35), sol_3), label = \"3\", color=\"blue\")\n",
    "ax.plot(tlist, qutip.expect(qutip.num(40), sol_4), label = \"4\", color=\"green\")\n",
    "ax.plot(tlist, qutip.expect(qutip.num(50), sol_5), label = \"5\", color=\"orange\")\n",
    "ax.plot(tlist, qutip.expect(qutip.num(60), sol_6), label = \"6\", color=\"red\")\n",
    "\n",
    "ax.set(xlabel=\"Time\")\n",
    "ax.set(ylabel=\"Photon-number expectation\")\n",
    "ax.set(title=\"Figure 6.12\")\n",
    "ax.legend(title = \"Input $\\\\alpha$\", loc=0)\n",
    "ax.autoscale(tight=True)\n",
    "\n",
    "matplotlib.pyplot.xticks([0.000, 0.001, 0.002]);\n",
    "\n",
    "ax.xaxis.label.set_size(12)\n",
    "ax.yaxis.label.set_size(12)"
   ]
  },
  {
   "cell_type": "markdown",
   "metadata": {
    "hidden": true
   },
   "source": [
    "Figure 6.12: NCL induces intensity-dependent decay rates, and so states with initially different $\\langle \\hat{n}\\rangle$ quickly decay to a level where they possess the same average photon number. This is a key demonstration of NCL. Linear loss rate $\\gamma_1 = 0.0$. Numerical method: direct integration."
   ]
  },
  {
   "cell_type": "markdown",
   "metadata": {
    "heading_collapsed": true
   },
   "source": [
    "### Figure 6.13"
   ]
  },
  {
   "cell_type": "code",
   "execution_count": 4,
   "metadata": {
    "ExecuteTime": {
     "end_time": "2020-10-23T15:58:06.870302Z",
     "start_time": "2020-10-23T15:58:06.845933Z"
    },
    "hidden": true
   },
   "outputs": [],
   "source": [
    "times = numpy.linspace(0, 0.02, 100)\n",
    "\n",
    "def single_mode_solver(method, dims, alpha_in, gamma_1, gamma_2, gamma_3, times=numpy.linspace(0, 0.02, 100)):\n",
    "    \n",
    "    # parameters\n",
    "    omega = 0\n",
    "    ntraj = 2000\n",
    "    \n",
    "    # input state\n",
    "    psi0 = qutip.coherent(dims, alpha_in, method=\"analytic\")\n",
    "    \n",
    "    # defining operators\n",
    "    a = qutip.destroy(dims)\n",
    "    ad = a.dag()\n",
    "    n = qutip.num(dims)\n",
    "    \n",
    "    # collapse operators\n",
    "    c_op_list = [numpy.sqrt(gamma_1) * a, numpy.sqrt(gamma_2) * a * a, numpy.sqrt(gamma_3) * a * (n-1)]\n",
    "    \n",
    "    # Hamiltonian\n",
    "    H = omega * ad * a\n",
    "    \n",
    "    if method == \"me\":\n",
    "        rho0 = qutip.ket2dm(psi0)\n",
    "        e_op_list = []\n",
    "        return qutip.mesolve(H, rho0, times, c_op_list, e_op_list).states\n",
    "    elif method == \"mc\":\n",
    "        e_op_list = [n, n**2]\n",
    "        return qutip.mcsolve(H, psi0, times, c_op_list, e_op_list, ntraj=ntraj)\n",
    "    \n",
    "    \n",
    "def mandelQ(expectin): \n",
    "    \"\"\"\n",
    "    Input: output of single_mode_solver (or single_mode_solver_modified)\n",
    "    Output: mandel Q parameter at each timestep\n",
    "    \"\"\"\n",
    "    \n",
    "    _num = expectin.expect[1] - expectin.expect[0]**2\n",
    "    _denom = expectin.expect[0]\n",
    "    \n",
    "    return (_num/_denom)-1"
   ]
  },
  {
   "cell_type": "code",
   "execution_count": 5,
   "metadata": {
    "ExecuteTime": {
     "end_time": "2020-10-23T15:58:08.705190Z",
     "start_time": "2020-10-23T15:58:08.674605Z"
    },
    "hidden": true
   },
   "outputs": [],
   "source": [
    "def param2gamma2(U, Gamma, gamma_1):\n",
    "    gamma_2 = (U**2)/(16 * (Gamma + gamma_1))\n",
    "    return gamma_2\n",
    "\n",
    "def param2gamma3(U, Gamma, gamma_1):\n",
    "    gamma_3 = (U**2)/(4 * (Gamma + gamma_1))\n",
    "    return gamma_3\n",
    "\n",
    "gamma_2_test = param2gamma2(2.0, 432, 0)\n",
    "gamma_3_test = param2gamma3(2.0, 430, 0)"
   ]
  },
  {
   "cell_type": "code",
   "execution_count": null,
   "metadata": {
    "ExecuteTime": {
     "end_time": "2020-10-23T16:04:47.003618Z",
     "start_time": "2020-10-23T15:58:09.708387Z"
    },
    "hidden": true
   },
   "outputs": [],
   "source": [
    "sol100 = single_mode_solver(\"mc\", 140, 10, 0.0, gamma_2_test, gamma_3_test)\n",
    "sol300 = single_mode_solver(\"mc\", 364, numpy.sqrt(300), 0.0, gamma_2_test, gamma_3_test)\n",
    "sol500 = single_mode_solver(\"mc\", 581, numpy.sqrt(500), 0.0, gamma_2_test, gamma_3_test)\n",
    "sol700 = single_mode_solver(\"mc\", 794, numpy.sqrt(700), 0.0, gamma_2_test, gamma_3_test)\n",
    "\n",
    "# timing: 6m 38s"
   ]
  },
  {
   "cell_type": "code",
   "execution_count": 9,
   "metadata": {
    "ExecuteTime": {
     "end_time": "2020-10-23T16:04:58.968703Z",
     "start_time": "2020-10-23T16:04:58.832643Z"
    },
    "hidden": true
   },
   "outputs": [
    {
     "data": {
      "image/png": "[encoded data removed]",
      "text/plain": [
       "<Figure size 432x288 with 1 Axes>"
      ]
     },
     "metadata": {
      "needs_background": "light"
     },
     "output_type": "display_data"
    }
   ],
   "source": [
    "fig, ax = matplotlib.pyplot.subplots()\n",
    "\n",
    "ax.plot(times, mandelQ(sol100), label=\"100\")\n",
    "ax.plot(times, mandelQ(sol300), label=\"300\")\n",
    "ax.plot(times, mandelQ(sol500), label=\"500\")\n",
    "ax.plot(times, mandelQ(sol700), label=\"700\")\n",
    "\n",
    "\n",
    "ax.set(xlabel=\"Time\")\n",
    "ax.set(ylabel=\"Q\")\n",
    "ax.set(title=\"Figure 6.13 (a)\")\n",
    "ax.legend(title = \"$\\\\langle \\\\hat{n} \\\\rangle\\\\left(0\\\\right)$\", loc=0)\n",
    "ax.autoscale(tight=True)\n",
    "ax.set_ylim([-0.85, 0.0]);\n",
    "\n",
    "matplotlib.pyplot.xticks([0.0, 0.01, 0.02]);\n",
    "\n",
    "ax.xaxis.label.set_size(12)\n",
    "ax.yaxis.label.set_size(12)"
   ]
  },
  {
   "cell_type": "code",
   "execution_count": 10,
   "metadata": {
    "ExecuteTime": {
     "end_time": "2020-10-23T16:05:03.359539Z",
     "start_time": "2020-10-23T16:05:03.228093Z"
    },
    "hidden": true
   },
   "outputs": [
    {
     "data": {
      "image/png": "[encoded data removed]",
      "text/plain": [
       "<Figure size 432x288 with 1 Axes>"
      ]
     },
     "metadata": {
      "needs_background": "light"
     },
     "output_type": "display_data"
    }
   ],
   "source": [
    "fig, ax = matplotlib.pyplot.subplots()\n",
    "\n",
    "ax.plot(times, sol100.expect[0], label=\"100\", color=\"blue\")\n",
    "ax.plot(times, sol300.expect[0], label=\"300\", color=\"green\")\n",
    "ax.plot(times, sol500.expect[0], label=\"500\", color=\"orange\")\n",
    "ax.plot(times, sol700.expect[0], label=\"700\", color=\"red\")\n",
    "\n",
    "\n",
    "ax.set(xlabel=\"Time\")\n",
    "ax.set(ylabel=\"$\\\\langle \\\\hat{n} \\\\rangle \\\\left(t\\\\right)$\")\n",
    "ax.set(title=\"Figure 6.13 (b)\")\n",
    "ax.legend(title = \"$\\\\langle \\\\hat{n} \\\\rangle\\\\left(0\\\\right)$\", loc=0)\n",
    "ax.autoscale(tight=True)\n",
    "ax.set_ylim([50, 710]);\n",
    "\n",
    "matplotlib.pyplot.xticks([0.00, 0.01, 0.02]);\n",
    "\n",
    "ax.xaxis.label.set_size(12)\n",
    "ax.yaxis.label.set_size(12)"
   ]
  },
  {
   "cell_type": "markdown",
   "metadata": {
    "hidden": true
   },
   "source": [
    "Figure 6.13: Signature behavious of NCL in a system obeying Eq. 6.27 with $\\gamma_2 = 0.0005$, $\\gamma_{NCL} = 0.002$ and an initial coherent state with average photon number $\\langle \\hat{n}\\rangle\\left(0\\right)$. (a) Generation of sub-Poissonian light, as evidenced by $Q < 0$. Linear loss $\\gamma_1 = 0$ and so the maximum value of $|Q|$ is obtained for most choices of $\\alpha$, but the time taken to reach maximum $Q$ decreases as initial $\\alpha$ increases. (b) Nonlinear decay of photon-number expectation $\\langle \\hat{n}\\rangle$. Intensity-dependent loss causes states with large photon numbers to decay very quickly, while states with similar photon numbers experience similar decay rate. Numerical method: quantum Monte Carlo."
   ]
  },
  {
   "cell_type": "markdown",
   "metadata": {
    "heading_collapsed": true
   },
   "source": [
    "### Figure 6.14"
   ]
  },
  {
   "cell_type": "code",
   "execution_count": 5,
   "metadata": {
    "ExecuteTime": {
     "end_time": "2020-10-23T16:05:46.581934Z",
     "start_time": "2020-10-23T16:05:46.566314Z"
    },
    "hidden": true
   },
   "outputs": [],
   "source": [
    "times = numpy.linspace(0, 0.02, 100)\n",
    "\n",
    "def single_mode_solver(method, dims, alpha_in, gamma_1, gamma_2, gamma_3, times=numpy.linspace(0, 0.02, 100)):\n",
    "    \n",
    "    # parameters\n",
    "    omega = 0\n",
    "    ntraj = 2000\n",
    "    \n",
    "    # input state\n",
    "    psi0 = qutip.coherent(dims, alpha_in, method=\"analytic\")\n",
    "    \n",
    "    # defining operators\n",
    "    a = qutip.destroy(dims)\n",
    "    ad = a.dag()\n",
    "    n = qutip.num(dims)\n",
    "    \n",
    "    # collapse operators\n",
    "    c_op_list = [numpy.sqrt(gamma_1) * a, numpy.sqrt(gamma_2) * a * a, numpy.sqrt(gamma_3) * a * (n-1)]\n",
    "    \n",
    "    # Hamiltonian\n",
    "    H = omega * ad * a\n",
    "    \n",
    "    if method == \"me\":\n",
    "        rho0 = qutip.ket2dm(psi0)\n",
    "        e_op_list = []\n",
    "        return qutip.mesolve(H, rho0, times, c_op_list, e_op_list).states\n",
    "    elif method == \"mc\":\n",
    "        e_op_list = [n, n**2]\n",
    "        return qutip.mcsolve(H, psi0, times, c_op_list, e_op_list, ntraj=ntraj)\n",
    "    \n",
    "    \n",
    "def mandelQ(expectin): \n",
    "    \"\"\"\n",
    "    Input: output of single_mode_solver (or single_mode_solver_modified)\n",
    "    Output: mandel Q parameter at each timestep\n",
    "    \"\"\"\n",
    "    \n",
    "    _num = expectin.expect[1] - expectin.expect[0]**2\n",
    "    _denom = expectin.expect[0]\n",
    "    \n",
    "    return (_num/_denom)-1"
   ]
  },
  {
   "cell_type": "code",
   "execution_count": 6,
   "metadata": {
    "ExecuteTime": {
     "end_time": "2020-10-23T16:05:47.073832Z",
     "start_time": "2020-10-23T16:05:47.051560Z"
    },
    "hidden": true
   },
   "outputs": [],
   "source": [
    "def param2gamma2(U, Gamma, gamma_1):\n",
    "    gamma_2 = (U**2)/(16 * (Gamma + gamma_1))\n",
    "    return gamma_2\n",
    "\n",
    "def param2gamma3(U, Gamma, gamma_1):\n",
    "    gamma_3 = (U**2)/(4 * (Gamma + gamma_1))\n",
    "    return gamma_3\n",
    "\n",
    "gamma_2_test = param2gamma2(2.0, 432, 0)\n",
    "gamma_3_test = param2gamma3(2.0, 430, 0)"
   ]
  },
  {
   "cell_type": "code",
   "execution_count": 7,
   "metadata": {
    "ExecuteTime": {
     "end_time": "2020-10-23T16:05:47.669009Z",
     "start_time": "2020-10-23T16:05:47.653395Z"
    },
    "hidden": true
   },
   "outputs": [],
   "source": [
    "gamma_2_test = param2gamma2(2, 432, 0)\n",
    "gamma_3_test = param2gamma3(2, 432, 0)"
   ]
  },
  {
   "cell_type": "code",
   "execution_count": null,
   "metadata": {
    "ExecuteTime": {
     "end_time": "2020-10-23T16:15:24.432850Z",
     "start_time": "2020-10-23T16:05:55.139707Z"
    },
    "hidden": true
   },
   "outputs": [],
   "source": [
    "sol500_0 = single_mode_solver(\"mc\", 581, numpy.sqrt(500), 0.0, gamma_2_test, gamma_3_test)\n",
    "sol500_20 = single_mode_solver(\"mc\", 581, numpy.sqrt(500), 20.0, gamma_2_test, gamma_3_test)\n",
    "sol500_200 = single_mode_solver(\"mc\", 581, numpy.sqrt(500), 200.0, gamma_2_test, gamma_3_test)\n",
    "sol500_400 = single_mode_solver(\"mc\", 581, numpy.sqrt(500), 400.0, gamma_2_test, gamma_3_test)\n",
    "\n",
    "# timing: 9m 45s"
   ]
  },
  {
   "cell_type": "code",
   "execution_count": 9,
   "metadata": {
    "ExecuteTime": {
     "end_time": "2020-10-23T16:15:24.828763Z",
     "start_time": "2020-10-23T16:15:24.432850Z"
    },
    "hidden": true
   },
   "outputs": [
    {
     "data": {
      "image/png": "[encoded data removed]",
      "text/plain": [
       "<Figure size 432x288 with 1 Axes>"
      ]
     },
     "metadata": {
      "needs_background": "light"
     },
     "output_type": "display_data"
    }
   ],
   "source": [
    "fig, ax = matplotlib.pyplot.subplots()\n",
    "\n",
    "ax.plot(times, mandelQ(sol500_0), label=\"0\", color=\"blue\")\n",
    "ax.plot(times, mandelQ(sol500_20), label=\"20\", color=\"orange\")\n",
    "ax.plot(times, mandelQ(sol500_200), label=\"200\", color=\"green\")\n",
    "ax.plot(times, mandelQ(sol500_400), label=\"400\", color=\"red\")\n",
    "\n",
    "\n",
    "ax.set(xlabel=\"Time\")\n",
    "ax.set(ylabel=\"Q\")\n",
    "ax.set(title=\"Figure 6.14 (a)\")\n",
    "ax.legend(title = \"$\\\\gamma_1$\", loc=0)\n",
    "ax.autoscale(tight=True)\n",
    "ax.set_ylim([-0.85, 0.0]);\n",
    "\n",
    "matplotlib.pyplot.xticks([0.0, 0.01, 0.02]);\n",
    "\n",
    "ax.xaxis.label.set_size(12)\n",
    "ax.yaxis.label.set_size(12)"
   ]
  },
  {
   "cell_type": "code",
   "execution_count": 10,
   "metadata": {
    "ExecuteTime": {
     "end_time": "2020-10-23T16:17:40.714534Z",
     "start_time": "2020-10-23T16:17:40.690855Z"
    },
    "hidden": true
   },
   "outputs": [],
   "source": [
    "gamma_1_test = 200\n",
    "gamma_2_test = param2gamma2(2, 432, 0)\n",
    "gamma_3_test = param2gamma3(2, 432, 0)"
   ]
  },
  {
   "cell_type": "code",
   "execution_count": null,
   "metadata": {
    "ExecuteTime": {
     "end_time": "2020-10-23T16:26:16.543318Z",
     "start_time": "2020-10-23T16:17:42.743433Z"
    },
    "hidden": true
   },
   "outputs": [],
   "source": [
    "sol100 = single_mode_solver(\"mc\", 140, 10, gamma_1_test, gamma_2_test, gamma_3_test)\n",
    "sol300 = single_mode_solver(\"mc\", 364, numpy.sqrt(300), gamma_1_test, gamma_2_test, gamma_3_test)\n",
    "sol500 = single_mode_solver(\"mc\", 581, numpy.sqrt(500), gamma_1_test, gamma_2_test, gamma_3_test)\n",
    "sol700 = single_mode_solver(\"mc\", 794, numpy.sqrt(700), gamma_1_test, gamma_2_test, gamma_3_test)\n",
    "\n",
    "# timing: 8m 21s"
   ]
  },
  {
   "cell_type": "code",
   "execution_count": 12,
   "metadata": {
    "ExecuteTime": {
     "end_time": "2020-10-23T16:26:16.690445Z",
     "start_time": "2020-10-23T16:26:16.543318Z"
    },
    "hidden": true
   },
   "outputs": [
    {
     "data": {
      "image/png": "[encoded data removed]",
      "text/plain": [
       "<Figure size 432x288 with 1 Axes>"
      ]
     },
     "metadata": {
      "needs_background": "light"
     },
     "output_type": "display_data"
    }
   ],
   "source": [
    "fig, ax = matplotlib.pyplot.subplots()\n",
    "\n",
    "ax.plot(times, mandelQ(sol100), label=\"100\", color=\"blue\")\n",
    "ax.plot(times, mandelQ(sol300), label=\"300\", color=\"green\")\n",
    "ax.plot(times, mandelQ(sol500), label=\"500\", color=\"orange\")\n",
    "ax.plot(times, mandelQ(sol700), label=\"700\", color=\"red\")\n",
    "\n",
    "ax.set(xlabel=\"Time\")\n",
    "ax.set(ylabel=\"Q\")\n",
    "ax.set(title=\"Figure 6.14 (b)\")\n",
    "ax.legend(title = \"$\\\\langle \\hat{n} \\\\rangle \\\\left(0\\\\right)$\", loc=0)\n",
    "ax.autoscale(tight=True)\n",
    "ax.set_ylim([-0.85, 0.0]);\n",
    "\n",
    "matplotlib.pyplot.xticks([0.0, 0.01, 0.02]);\n",
    "\n",
    "ax.xaxis.label.set_size(12)\n",
    "ax.yaxis.label.set_size(12)"
   ]
  },
  {
   "cell_type": "markdown",
   "metadata": {
    "hidden": true
   },
   "source": [
    "Figure 6.14: Evolution of the Mandel Q parameter as $\\gamma_1$ and $\\alpha$ are varied in a system obeying Eq. $6.27$ with $\\gamma_2 = 0.0005$, $\\gamma_{NCL} = 0.002$ and an initial coherent state with average photon number $\\langle \\hat{n}\\rangle\\left(0\\right)$. (a) Constant $\\langle \\hat{n}\\rangle\\left(0\\right)=500$ photons and varying linear loss $\\gamma_1$. Larger $\\gamma_1$ causes progressively smaller values of $|Q|$ to be obtained, c.f. Fig. $6.11$, although the dynamics are practically independent of $\\gamma_1$ for small times. (b) Constant $\\gamma_1=200$. Even with large linear loss, larger $|Q|$ may be obtained by starting with a brighter coherent state (larger $\\langle \\hat{n}\\rangle\\left(0\\right)$). Numerical method: quantum Monte Carlo."
   ]
  },
  {
   "cell_type": "markdown",
   "metadata": {},
   "source": [
    "### Figure 6.18"
   ]
  },
  {
   "cell_type": "code",
   "execution_count": 5,
   "metadata": {
    "ExecuteTime": {
     "end_time": "2020-10-23T16:27:48.308936Z",
     "start_time": "2020-10-23T16:27:48.277661Z"
    }
   },
   "outputs": [],
   "source": [
    "times = numpy.linspace(0, 0.1, 100)\n",
    "def single_mode_solver(method, dims, alpha_in, gamma_1, Gamma, U, times = times):\n",
    "    sigma_1 = (3 * U) / 8 \n",
    "    sigma_2 = U / 2\n",
    "    sigma_3 = (-3 * U) / 8 \n",
    "    gamma_2 = (U**2)/(16 * (Gamma + gamma_1))\n",
    "    gamma_3 = (U**2)/(4 * (Gamma + gamma_1))\n",
    "    \n",
    "    psi0 = qutip.coherent(dims, alpha_in, method=\"analytic\")\n",
    "#     times = numpy.linspace(0, 10, 100)\n",
    "\n",
    "    s_minus = qutip.destroy(dims)\n",
    "    n_minus = s_minus.dag() * s_minus\n",
    "    c_op_list = [numpy.sqrt(gamma_1) * s_minus, numpy.sqrt(gamma_2) * s_minus**2, numpy.sqrt(gamma_3) *  n_minus * s_minus]\n",
    "    H = sigma_1 * (n_minus**2) + sigma_3 * n_minus # possibly I need to scale H by hbar or something\n",
    "#     e_op_list = []\n",
    "\n",
    "#     opts = Options()\n",
    "#     opts.nsteps = 3000\n",
    "    if method == \"me\":\n",
    "        rho0 = qutip.ket2dm(psi0)\n",
    "        e_op_list = []\n",
    "        return qutip.mesolve(H, rho0, times, c_op_list, e_op_list).states\n",
    "    elif method == \"mc\":\n",
    "#         ntraj = 500\n",
    "        e_op_list = [n_minus]\n",
    "        return qutip.mcsolve(H, psi0, times, c_op_list, [n_minus, n_minus**2], ntraj=250)\n",
    "    \n",
    "    \n",
    "def two_mode_solver(method, dims, alpha_in, gamma_1, Gamma, U, times = times, ntraj=250):\n",
    "    # quantities with optimal couplings chosen\n",
    "    sigma_1 = (3 * U) / 8 \n",
    "    sigma_2 = U / 2\n",
    "    sigma_3 = (-3 * U) / 8 \n",
    "    sigma_4 = (sigma_2/4)\n",
    "    sigma_5 = U/4\n",
    "    \n",
    "    newgamma2 = (Gamma + gamma_1)\n",
    "    \n",
    "#     gamma_2 = (U**2)/(16 * (Gamma + gamma_1))\n",
    "\n",
    "    # single-mode operators\n",
    "    a = qutip.destroy(dims)\n",
    "    ad = a.dag()\n",
    "    n = qutip.num(dims)\n",
    "    one = qutip.qeye(dims)\n",
    "    \n",
    "    # composite-mode operatos\n",
    "        # let s_minus be mode 1 and s_plus be mode 2 (for similarity with mathematica code)\n",
    "\n",
    "    s_minus = qutip.tensor(a, one)\n",
    "    s_minus_dag = s_minus.dag()\n",
    "    s_plus = qutip.tensor(one, a)\n",
    "    s_plus_dag = s_plus.dag()\n",
    "    \n",
    "    n_minus = qutip.tensor(n, one)\n",
    "    n_plus = qutip.tensor(one, n)\n",
    "    \n",
    "    # list of collapse operators\n",
    "    c_op_list = [numpy.sqrt(gamma_1) * s_minus, numpy.sqrt(newgamma2) * s_plus]\n",
    "    \n",
    "    # defining Hamiltonian\n",
    "    H_self = sigma_1 * (n_plus * n_plus + n_minus * n_minus) + sigma_2 * n_plus * n_minus + sigma_3 * (n_plus + n_minus)\n",
    "    H_int = sigma_4 * (s_plus_dag * s_minus)*(s_plus_dag * s_minus) + sigma_5 * s_plus_dag * s_minus * (n_minus - n_plus - 1)\n",
    "    H_int_hc = sigma_4 * (s_minus_dag * s_plus) * (s_minus_dag * s_plus) + sigma_5 * s_minus_dag * s_plus * (n_minus - n_plus - 1)\n",
    "    H = H_self + H_int + H_int_hc\n",
    "    \n",
    "    e_op_list = [n_minus, n_plus]\n",
    "    \n",
    "    # let's put a coherent state into mode s_-\n",
    "    psi_s_minus = qutip.coherent(dims, alpha_in, method=\"analytic\")\n",
    "    vac = qutip.basis(dims, 0)\n",
    "    psi0 = qutip.tensor(psi_s_minus, vac)\n",
    "    \n",
    "    return qutip.mcsolve(H, psi0, times, c_op_list, e_op_list, ntraj=ntraj)"
   ]
  },
  {
   "cell_type": "code",
   "execution_count": 6,
   "metadata": {
    "ExecuteTime": {
     "end_time": "2020-10-23T16:27:49.656574Z",
     "start_time": "2020-10-23T16:27:49.629811Z"
    }
   },
   "outputs": [],
   "source": [
    "# universal parameters\n",
    "gamma_1 = 10.0\n",
    "Gamma = 432.0\n",
    "U = 2.0\n",
    "times = numpy.linspace(0, 0.1, 100)"
   ]
  },
  {
   "cell_type": "code",
   "execution_count": 142,
   "metadata": {
    "ExecuteTime": {
     "end_time": "2020-10-23T12:22:37.451219Z",
     "start_time": "2020-10-23T12:22:37.417601Z"
    }
   },
   "outputs": [],
   "source": [
    "folderout = os.getcwd() + \"\\\\two_mode_state_out\\\\\"\n",
    "def myfileout(alpha_in, dims):\n",
    "    return folderout+\"two_mode_solver-dims=\" + str(dims)+\",alpha=\"+str(alpha_in)+\".dat\"\n",
    "\n",
    "def myfilein(alpha_in, dims):\n",
    "    _filein = myfileout(numpy.round(alpha_in), dims)\n",
    "    return qutip.qload(_filein)\n",
    "    "
   ]
  },
  {
   "cell_type": "code",
   "execution_count": 143,
   "metadata": {
    "ExecuteTime": {
     "end_time": "2020-10-23T12:22:38.969941Z",
     "start_time": "2020-10-23T12:22:38.942079Z"
    }
   },
   "outputs": [],
   "source": [
    "folderout = os.getcwd() + \"\\\\two_mode_state_out\\\\\"\n",
    "if os.path.isdir(folderout)==False:\n",
    "    os.mkdir(folderout)\n",
    "    print(\"Folder created\")"
   ]
  },
  {
   "cell_type": "code",
   "execution_count": 144,
   "metadata": {
    "ExecuteTime": {
     "end_time": "2020-10-23T12:22:42.907194Z",
     "start_time": "2020-10-23T12:22:39.674587Z"
    }
   },
   "outputs": [
    {
     "name": "stdout",
     "output_type": "stream",
     "text": [
      "10.0%. Run time:   2.50s. Est. time left: 00:00:00:22\n",
      "20.0%. Run time:   2.58s. Est. time left: 00:00:00:10\n",
      "30.0%. Run time:   2.63s. Est. time left: 00:00:00:06\n",
      "40.0%. Run time:   2.69s. Est. time left: 00:00:00:04\n",
      "50.0%. Run time:   2.75s. Est. time left: 00:00:00:02\n",
      "60.0%. Run time:   2.81s. Est. time left: 00:00:00:01\n",
      "70.0%. Run time:   2.87s. Est. time left: 00:00:00:01\n",
      "80.0%. Run time:   2.93s. Est. time left: 00:00:00:00\n",
      "90.0%. Run time:   2.98s. Est. time left: 00:00:00:00\n",
      "100.0%. Run time:   3.03s. Est. time left: 00:00:00:00\n",
      "Total run time:   3.20s\n",
      "Loaded Result object:\n",
      "Result object with mcsolve data.\n",
      "--------------------------------\n",
      "expect = True\n",
      "num_expect = 2, num_collapse = 2, ntraj = 250\n"
     ]
    }
   ],
   "source": [
    "dims = 50\n",
    "alpha_in = 5.0\n",
    "sol_25_1 = single_mode_solver(\"mc\", dims, alpha_in, gamma_1, Gamma, U)\n",
    "# sol_25_2 = two_mode_solver(\"mc\", dims, alpha_in, gamma_1, Gamma, U)\n",
    "sol_25_2 = myfilein(alpha_in, dims)"
   ]
  },
  {
   "cell_type": "code",
   "execution_count": 145,
   "metadata": {
    "ExecuteTime": {
     "end_time": "2020-10-23T12:22:49.318842Z",
     "start_time": "2020-10-23T12:22:42.907194Z"
    }
   },
   "outputs": [
    {
     "name": "stdout",
     "output_type": "stream",
     "text": [
      "10.0%. Run time:   2.68s. Est. time left: 00:00:00:24\n",
      "20.0%. Run time:   3.15s. Est. time left: 00:00:00:12\n",
      "30.0%. Run time:   3.48s. Est. time left: 00:00:00:08\n",
      "40.0%. Run time:   3.94s. Est. time left: 00:00:00:05\n",
      "50.0%. Run time:   4.25s. Est. time left: 00:00:00:04\n",
      "60.0%. Run time:   4.73s. Est. time left: 00:00:00:03\n",
      "70.0%. Run time:   5.06s. Est. time left: 00:00:00:02\n",
      "80.0%. Run time:   5.52s. Est. time left: 00:00:00:01\n",
      "90.0%. Run time:   5.88s. Est. time left: 00:00:00:00\n",
      "100.0%. Run time:   6.25s. Est. time left: 00:00:00:00\n",
      "Total run time:   6.38s\n",
      "Loaded Result object:\n",
      "Result object with mcsolve data.\n",
      "--------------------------------\n",
      "expect = True\n",
      "num_expect = 2, num_collapse = 2, ntraj = 250\n"
     ]
    }
   ],
   "source": [
    "dims = 200\n",
    "alpha_in = numpy.sqrt(150)\n",
    "sol_150_1 = single_mode_solver(\"mc\", dims, alpha_in, gamma_1, Gamma, U)\n",
    "# sol_150_2 = two_mode_solver(\"mc\", dims, alpha_in, gamma_1, Gamma, U)\n",
    "\n",
    "# qt.qsave(sol_150_2, myfileout(numpy.round(alpha_in), dims))\n",
    "\n",
    "sol_150_2 = myfilein(alpha_in, dims)"
   ]
  },
  {
   "cell_type": "code",
   "execution_count": 146,
   "metadata": {
    "ExecuteTime": {
     "end_time": "2020-10-23T12:22:57.639505Z",
     "start_time": "2020-10-23T12:22:49.318842Z"
    }
   },
   "outputs": [
    {
     "name": "stdout",
     "output_type": "stream",
     "text": [
      "10.0%. Run time:   2.94s. Est. time left: 00:00:00:26\n",
      "20.0%. Run time:   3.66s. Est. time left: 00:00:00:14\n",
      "30.0%. Run time:   4.08s. Est. time left: 00:00:00:09\n",
      "40.0%. Run time:   4.79s. Est. time left: 00:00:00:07\n",
      "50.0%. Run time:   5.22s. Est. time left: 00:00:00:05\n",
      "60.0%. Run time:   5.93s. Est. time left: 00:00:00:03\n",
      "70.0%. Run time:   6.36s. Est. time left: 00:00:00:02\n",
      "80.0%. Run time:   7.06s. Est. time left: 00:00:00:01\n",
      "90.0%. Run time:   7.72s. Est. time left: 00:00:00:00\n",
      "100.0%. Run time:   8.10s. Est. time left: 00:00:00:00\n",
      "Total run time:   8.28s\n",
      "Loaded Result object:\n",
      "Result object with mcsolve data.\n",
      "--------------------------------\n",
      "expect = True\n",
      "num_expect = 2, num_collapse = 2, ntraj = 250\n"
     ]
    }
   ],
   "source": [
    "dims = 260\n",
    "alpha_in = numpy.sqrt(200)\n",
    "sol_200_1 = single_mode_solver(\"mc\", dims, alpha_in, gamma_1, Gamma, U)\n",
    "# sol_200_2 = two_mode_solver(\"mc\", dims, alpha_in, gamma_1, Gamma, U)\n",
    "\n",
    "# qt.qsave(sol_200_2, myfileout(numpy.round(alpha_in), dims))\n",
    "\n",
    "sol_200_2 = myfilein(alpha_in, dims)"
   ]
  },
  {
   "cell_type": "code",
   "execution_count": 147,
   "metadata": {
    "ExecuteTime": {
     "end_time": "2020-10-23T12:23:14.986084Z",
     "start_time": "2020-10-23T12:22:57.639505Z"
    }
   },
   "outputs": [
    {
     "name": "stdout",
     "output_type": "stream",
     "text": [
      "10.0%. Run time:   4.16s. Est. time left: 00:00:00:37\n",
      "20.0%. Run time:   5.87s. Est. time left: 00:00:00:23\n",
      "30.0%. Run time:   6.92s. Est. time left: 00:00:00:16\n",
      "40.0%. Run time:   8.58s. Est. time left: 00:00:00:12\n",
      "50.0%. Run time:   9.85s. Est. time left: 00:00:00:09\n",
      "60.0%. Run time:  11.34s. Est. time left: 00:00:00:07\n",
      "70.0%. Run time:  12.72s. Est. time left: 00:00:00:05\n",
      "80.0%. Run time:  14.18s. Est. time left: 00:00:00:03\n",
      "90.0%. Run time:  15.89s. Est. time left: 00:00:00:01\n",
      "100.0%. Run time:  17.16s. Est. time left: 00:00:00:00\n",
      "Total run time:  17.29s\n",
      "Loaded Result object:\n",
      "Result object with mcsolve data.\n",
      "--------------------------------\n",
      "expect = True\n",
      "num_expect = 2, num_collapse = 2, ntraj = 250\n"
     ]
    }
   ],
   "source": [
    "dims = 364\n",
    "alpha_in = numpy.sqrt(300)\n",
    "sol_300_1 = single_mode_solver(\"mc\", dims, alpha_in, gamma_1, Gamma, U)\n",
    "# sol_300_2 = two_mode_solver(\"mc\", dims, alpha_in, gamma_1, Gamma, U)\n",
    "\n",
    "# qt.qsave(sol_300_2, myfileout(numpy.round(alpha_in), dims))\n",
    "\n",
    "sol_300_2 = myfilein(alpha_in, dims)"
   ]
  },
  {
   "cell_type": "code",
   "execution_count": 149,
   "metadata": {
    "ExecuteTime": {
     "end_time": "2020-10-23T12:24:27.211876Z",
     "start_time": "2020-10-23T12:24:27.026926Z"
    }
   },
   "outputs": [
    {
     "data": {
      "image/png": "[encoded data removed]",
      "text/plain": [
       "<Figure size 432x288 with 1 Axes>"
      ]
     },
     "metadata": {
      "needs_background": "light"
     },
     "output_type": "display_data"
    }
   ],
   "source": [
    "fig, ax = matplotlib.pyplot.subplots()\n",
    "\n",
    "ax.plot(times, sol_25_1.expect[0], label=\"$25$\")\n",
    "ax.plot(times, sol_150_1.expect[0], label=\"$150$\")\n",
    "ax.plot(times, sol_200_1.expect[0], label=\"$200$\")\n",
    "ax.plot(times, sol_300_1.expect[0], label=\"$300$\")\n",
    "\n",
    "ax.plot(times, sol_25_2.expect[0], linestyle=\"--\", color=\"black\")\n",
    "ax.plot(times, sol_150_2.expect[0], linestyle=\"--\", color=\"black\")\n",
    "ax.plot(times, sol_200_2.expect[0], linestyle=\"--\", color=\"black\")\n",
    "ax.plot(times, sol_300_2.expect[0], linestyle=\"--\", color=\"black\")\n",
    "\n",
    "\n",
    "ax.set(xlabel=\"Time\")\n",
    "ax.set(ylabel=\"$\\\\langle \\\\hat{n}_-\\\\rangle\\\\left( t\\\\right)$\")\n",
    "ax.set(title=\"Figure 6.18 (a)\")\n",
    "ax.legend(title = \"$\\\\langle \\\\hat{n}_- \\\\rangle \\\\left(t=0\\\\right)$\", loc=0)\n",
    "ax.autoscale(tight=True)\n",
    "\n",
    "ax.xaxis.label.set_size(12)\n",
    "ax.yaxis.label.set_size(12)\n"
   ]
  },
  {
   "cell_type": "code",
   "execution_count": 150,
   "metadata": {
    "ExecuteTime": {
     "end_time": "2020-10-23T12:24:39.626423Z",
     "start_time": "2020-10-23T12:24:39.421570Z"
    }
   },
   "outputs": [
    {
     "data": {
      "image/png": "[encoded data removed]",
      "text/plain": [
       "<Figure size 432x288 with 1 Axes>"
      ]
     },
     "metadata": {
      "needs_background": "light"
     },
     "output_type": "display_data"
    }
   ],
   "source": [
    "fig, ax = matplotlib.pyplot.subplots()\n",
    "\n",
    "ax.plot(times[:50], sol_25_2.expect[1][:50], label=\"$25$\")\n",
    "ax.plot(times[:50], sol_150_2.expect[1][:50], label=\"$150$\")\n",
    "ax.plot(times[:50], sol_200_2.expect[1][:50], label=\"$200$\")\n",
    "ax.plot(times[:50], sol_300_2.expect[1][:50], label=\"$300$\")\n",
    "\n",
    "# ax.plot(times, sol_25_2.expect[1], linestyle=\"--\", color=\"black\")\n",
    "# ax.plot(times, sol_150_2.expect[1], linestyle=\"--\", color=\"black\")\n",
    "# ax.plot(times, sol_200_2.expect[1], linestyle=\"--\", color=\"black\")\n",
    "# ax.plot(times, sol_300_2.expect[1], linestyle=\"--\", color=\"black\")\n",
    "\n",
    "\n",
    "ax.set(xlabel=\"Time\")\n",
    "ax.set(ylabel=\"$\\\\langle \\\\hat{n}_+\\\\rangle\\\\left( t\\\\right)$\")\n",
    "ax.set(title=\"Figure 6.18 (b)\")\n",
    "ax.legend(title = \"$\\\\langle \\\\hat{n}_- \\\\rangle \\\\left(t=0\\\\right)$\", loc=0)\n",
    "ax.autoscale(tight=True)\n",
    "ax.set(ylim=[-0.5, 37])\n",
    "\n",
    "ax.xaxis.label.set_size(12)\n",
    "ax.yaxis.label.set_size(12)\n"
   ]
  },
  {
   "cell_type": "markdown",
   "metadata": {
    "heading_collapsed": true
   },
   "source": [
    "## Appendix E"
   ]
  },
  {
   "cell_type": "markdown",
   "metadata": {
    "hidden": true
   },
   "source": [
    "### Figure E.1"
   ]
  },
  {
   "cell_type": "code",
   "execution_count": 156,
   "metadata": {
    "ExecuteTime": {
     "end_time": "2020-10-23T12:27:54.773791Z",
     "start_time": "2020-10-23T12:27:54.743353Z"
    },
    "hidden": true
   },
   "outputs": [],
   "source": [
    "times=numpy.linspace(0, 0.5, 100)\n",
    "def single_mode_solver(method, dims, alpha_in, gamma_1, gamma_2, gamma_3, ntraj=500, times=times):\n",
    "    \n",
    "    # parameters\n",
    "    omega = 0\n",
    "#     ntraj = 500\n",
    "    \n",
    "    # input state\n",
    "    psi0 = qutip.coherent(dims, alpha_in, method=\"analytic\")\n",
    "    \n",
    "    # defining operators\n",
    "    a = qutip.destroy(dims)\n",
    "    ad = a.dag()\n",
    "    n = qutip.num(dims)\n",
    "    \n",
    "    # collapse operators\n",
    "    c_op_list = [numpy.sqrt(gamma_1) * a, numpy.sqrt(gamma_2) * a * a, numpy.sqrt(gamma_3) * a * (n-1)]\n",
    "    \n",
    "    # Hamiltonian\n",
    "    H = omega * ad * a\n",
    "    \n",
    "    if method == \"me\":\n",
    "        rho0 = qutip.ket2dm(psi0)\n",
    "        e_op_list = []\n",
    "        return qutip.mesolve(H, rho0, times, c_op_list, e_op_list).states\n",
    "    elif method == \"mc\":\n",
    "        e_op_list = [n]\n",
    "        return qutip.mcsolve(H, psi0, times, c_op_list, e_op_list, ntraj=ntraj)"
   ]
  },
  {
   "cell_type": "code",
   "execution_count": 177,
   "metadata": {
    "ExecuteTime": {
     "end_time": "2020-10-23T12:43:11.952070Z",
     "start_time": "2020-10-23T12:43:11.639883Z"
    },
    "hidden": true
   },
   "outputs": [],
   "source": [
    "dims = 100\n",
    "alpha_in = 5.0\n",
    "gamma_1 = 0.0\n",
    "gamma_2 = 0.0005\n",
    "gamma_3 = 0.002\n",
    "sol_DI = single_mode_solver(\"me\", dims, alpha_in, gamma_1, gamma_2, gamma_3);"
   ]
  },
  {
   "cell_type": "code",
   "execution_count": 175,
   "metadata": {
    "ExecuteTime": {
     "end_time": "2020-10-23T12:43:00.425563Z",
     "start_time": "2020-10-23T12:42:50.498553Z"
    },
    "hidden": true
   },
   "outputs": [
    {
     "name": "stdout",
     "output_type": "stream",
     "text": [
      "10.0%. Run time:   1.47s. Est. time left: 00:00:00:13\n",
      "20.0%. Run time:   1.49s. Est. time left: 00:00:00:05\n",
      "30.0%. Run time:   1.54s. Est. time left: 00:00:00:03\n",
      "40.0%. Run time:   1.56s. Est. time left: 00:00:00:02\n",
      "50.0%. Run time:   1.56s. Est. time left: 00:00:00:01\n",
      "60.0%. Run time:   1.57s. Est. time left: 00:00:00:01\n",
      "70.0%. Run time:   1.57s. Est. time left: 00:00:00:00\n",
      "80.0%. Run time:   1.57s. Est. time left: 00:00:00:00\n",
      "90.0%. Run time:   1.61s. Est. time left: 00:00:00:00\n",
      "100.0%. Run time:   1.61s. Est. time left: 00:00:00:00\n",
      "Total run time:   1.71s\n",
      "12.0%. Run time:   2.12s. Est. time left: 00:00:00:15\n",
      "20.0%. Run time:   2.14s. Est. time left: 00:00:00:08\n",
      "32.0%. Run time:   2.17s. Est. time left: 00:00:00:04\n",
      "40.0%. Run time:   2.19s. Est. time left: 00:00:00:03\n",
      "52.0%. Run time:   2.20s. Est. time left: 00:00:00:02\n",
      "60.0%. Run time:   2.20s. Est. time left: 00:00:00:01\n",
      "72.0%. Run time:   2.22s. Est. time left: 00:00:00:00\n",
      "80.0%. Run time:   2.22s. Est. time left: 00:00:00:00\n",
      "92.0%. Run time:   2.22s. Est. time left: 00:00:00:00\n",
      "100.0%. Run time:   2.23s. Est. time left: 00:00:00:00\n",
      "Total run time:   2.33s\n",
      "10.0%. Run time:   2.19s. Est. time left: 00:00:00:19\n",
      "20.0%. Run time:   2.21s. Est. time left: 00:00:00:08\n",
      "30.0%. Run time:   2.22s. Est. time left: 00:00:00:05\n",
      "40.0%. Run time:   2.22s. Est. time left: 00:00:00:03\n",
      "50.0%. Run time:   2.24s. Est. time left: 00:00:00:02\n",
      "60.0%. Run time:   2.25s. Est. time left: 00:00:00:01\n",
      "70.0%. Run time:   2.26s. Est. time left: 00:00:00:00\n",
      "80.0%. Run time:   2.27s. Est. time left: 00:00:00:00\n",
      "90.0%. Run time:   2.28s. Est. time left: 00:00:00:00\n",
      "100.0%. Run time:   2.28s. Est. time left: 00:00:00:00\n",
      "Total run time:   2.44s\n",
      "10.0%. Run time:   2.27s. Est. time left: 00:00:00:20\n",
      "20.0%. Run time:   2.38s. Est. time left: 00:00:00:09\n",
      "30.0%. Run time:   2.49s. Est. time left: 00:00:00:05\n",
      "40.0%. Run time:   2.60s. Est. time left: 00:00:00:03\n",
      "50.0%. Run time:   2.72s. Est. time left: 00:00:00:02\n",
      "60.0%. Run time:   2.83s. Est. time left: 00:00:00:01\n",
      "70.0%. Run time:   2.94s. Est. time left: 00:00:00:01\n",
      "80.0%. Run time:   3.05s. Est. time left: 00:00:00:00\n",
      "90.0%. Run time:   3.16s. Est. time left: 00:00:00:00\n",
      "100.0%. Run time:   3.26s. Est. time left: 00:00:00:00\n",
      "Total run time:   3.38s\n"
     ]
    }
   ],
   "source": [
    "sol_QMC_10 = single_mode_solver(\"mc\", dims, alpha_in, gamma_1, gamma_2, gamma_3, ntraj=10);\n",
    "sol_QMC_25 = single_mode_solver(\"mc\", dims, alpha_in, gamma_1, gamma_2, gamma_3, ntraj=25);\n",
    "sol_QMC_50 = single_mode_solver(\"mc\", dims, alpha_in, gamma_1, gamma_2, gamma_3, ntraj=50);\n",
    "sol_QMC_500 = single_mode_solver(\"mc\", dims, alpha_in, gamma_1, gamma_2, gamma_3, ntraj=500);"
   ]
  },
  {
   "cell_type": "code",
   "execution_count": 179,
   "metadata": {
    "ExecuteTime": {
     "end_time": "2020-10-23T12:43:16.574531Z",
     "start_time": "2020-10-23T12:43:16.414775Z"
    },
    "hidden": true
   },
   "outputs": [
    {
     "data": {
      "text/plain": [
       "<matplotlib.legend.Legend at 0x25479083b48>"
      ]
     },
     "execution_count": 179,
     "metadata": {},
     "output_type": "execute_result"
    },
    {
     "data": {
      "image/png": "[encoded data removed]",
      "text/plain": [
       "<Figure size 432x288 with 1 Axes>"
      ]
     },
     "metadata": {
      "needs_background": "light"
     },
     "output_type": "display_data"
    }
   ],
   "source": [
    "fig, ax = matplotlib.pyplot.subplots()\n",
    "\n",
    "\n",
    "ax.plot(times, sol_QMC_10.expect[0], label=\"10\", color=\"blue\")\n",
    "ax.plot(times, sol_QMC_25.expect[0], label=\"25\", color=\"green\")\n",
    "ax.plot(times, sol_QMC_50.expect[0], label=\"50\", color=\"orange\")\n",
    "ax.plot(times, sol_QMC_500.expect[0], label=\"500\", color=\"red\")\n",
    "ax.plot(times, qutip.expect(qutip.num(dims), sol_DI), linestyle=\"--\", color=\"black\")\n",
    "\n",
    "ax.autoscale(tight=True)\n",
    "ax.set(xlabel=\"Time\")\n",
    "ax.set(ylabel=\"$\\\\langle \\\\hat{a}^\\\\dagger \\\\hat{a} \\\\rangle$\")\n",
    "ax.set(title=\"Figure E.1\")\n",
    "ax.legend(title = \"$n_{traj}$\", loc=0)\n"
   ]
  },
  {
   "cell_type": "code",
   "execution_count": null,
   "metadata": {
    "hidden": true
   },
   "outputs": [],
   "source": []
  }
 ],
 "metadata": {
  "@webio": {
   "lastCommId": null,
   "lastKernelId": null
  },
  "kernelspec": {
   "display_name": "Python 3",
   "language": "python",
   "name": "python3"
  },
  "language_info": {
   "codemirror_mode": {
    "name": "ipython",
    "version": 3
   },
   "file_extension": ".py",
   "mimetype": "text/x-python",
   "name": "python",
   "nbconvert_exporter": "python",
   "pygments_lexer": "ipython3",
   "version": "3.7.9"
  },
  "notify_time": "5"
 },
 "nbformat": 4,
 "nbformat_minor": 4
}
