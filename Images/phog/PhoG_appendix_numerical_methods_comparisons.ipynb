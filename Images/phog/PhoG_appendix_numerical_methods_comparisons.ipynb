{
 "cells": [
  {
   "cell_type": "code",
   "execution_count": 6,
   "metadata": {},
   "outputs": [],
   "source": [
    "import matplotlib.pyplot as plt\n",
    "import matplotlib as mpl\n",
    "from matplotlib import cm\n",
    "import numpy as np\n",
    "import qutip as qt\n",
    "plt.style.use(['science', 'ieee'])\n",
    "plt.style.use('science')\n",
    "qt.settings.auto_tidyup = True\n",
    "import time"
   ]
  },
  {
   "cell_type": "code",
   "execution_count": 7,
   "metadata": {},
   "outputs": [],
   "source": [
    "import time, sys\n",
    "from IPython.display import clear_output\n",
    "\n",
    "def update_progress(progress):\n",
    "    bar_length = 20\n",
    "    if isinstance(progress, int):\n",
    "        progress = float(progress)\n",
    "    if not isinstance(progress, float):\n",
    "        progress = 0\n",
    "    if progress < 0:\n",
    "        progress = 0\n",
    "    if progress >= 1:\n",
    "        progress = 1\n",
    "\n",
    "    block = int(round(bar_length * progress))\n",
    "\n",
    "    clear_output(wait = True)\n",
    "    text = \"Progress: [{0}] {1:.1f}%\".format( \"#\" * block + \"-\" * (bar_length - block), progress * 100)\n",
    "    print(text)"
   ]
  },
  {
   "cell_type": "markdown",
   "metadata": {
    "heading_collapsed": true
   },
   "source": [
    "# Performance of direct integration"
   ]
  },
  {
   "cell_type": "markdown",
   "metadata": {
    "hidden": true
   },
   "source": [
    "## $\\hat{A} = \\hat{a}$"
   ]
  },
  {
   "cell_type": "code",
   "execution_count": 36,
   "metadata": {
    "hidden": true
   },
   "outputs": [],
   "source": [
    "# defining input parameters\n",
    "N = 200 # hilbert space size\n",
    "tlist = np.linspace(0, 1.0, 101) # times over which to solve\n",
    "gamma = 1.0 # decay rate \n",
    "omega = 1.0 # free Hamiltonian frequency \n",
    "alphain = 3.0 # input coherent state amplitude\n",
    "\n",
    "# defining operators\n",
    "a = qt.destroy(N) # annihilation operator\n",
    "n = qt.num(N) # number operator \n",
    "ad = a.dag() # creation operator \n",
    "x = (a + ad)/np.sqrt(2) # position operator. Equivalent to qt.position(N)\n",
    "p = -1j * (a - ad)/np.sqrt(2) # momentum operator. Equivalent to qt.position(N)\n",
    "\n",
    "# defining Hamiltonian\n",
    "H = omega * ad * a\n",
    "\n",
    "\n",
    "# input state\n",
    "psi0 = qt.coherent(N, alphain, method=\"analytic\")\n",
    "coplist = [np.sqrt(gamma) * a]\n",
    "# result = qt.mesolve(H, psi0, tlist, coplist, [])\n",
    "\n",
    "# result.states gives a list of density matrices, corresponding to \n",
    "# the state at each timestep."
   ]
  },
  {
   "cell_type": "code",
   "execution_count": 37,
   "metadata": {
    "hidden": true
   },
   "outputs": [
    {
     "name": "stdout",
     "output_type": "stream",
     "text": [
      "829 ms ± 191 ms per loop (mean ± std. dev. of 7 runs, 1 loop each)\n"
     ]
    }
   ],
   "source": [
    "%timeit result = qt.mesolve(H, psi0, tlist, coplist, [])"
   ]
  },
  {
   "cell_type": "markdown",
   "metadata": {
    "hidden": true
   },
   "source": [
    "## $\\hat{A} = \\hat{a}\\left(\\hat{a}^\\dagger \\hat{a} - 1\\right)$"
   ]
  },
  {
   "cell_type": "code",
   "execution_count": 45,
   "metadata": {
    "hidden": true
   },
   "outputs": [],
   "source": [
    "options=qt.Options(nsteps=10000)\n",
    "# options=qt.Options()\n",
    "# defining input parameters\n",
    "N = 100 # hilbert space size\n",
    "tlist = np.linspace(0, 1.0, 101) # times over which to solve\n",
    "gamma = 1.0 # decay rate \n",
    "omega = 0.0 # free Hamiltonian frequency \n",
    "alphain = 3.0 # input coherent state amplitude\n",
    "\n",
    "# defining operators\n",
    "a = qt.destroy(N) # annihilation operator\n",
    "n = qt.num(N) # number operator \n",
    "ad = a.dag() # creation operator \n",
    "x = (a + ad)/np.sqrt(2) # position operator. Equivalent to qt.position(N)\n",
    "p = -1j * (a - ad)/np.sqrt(2) # momentum operator. Equivalent to qt.position(N)\n",
    "\n",
    "# defining Hamiltonian\n",
    "H = omega * ad * a\n",
    "\n",
    "\n",
    "# input state\n",
    "psi0 = qt.coherent(N, alphain, method=\"operator\")\n",
    "# psi0 = (qt.fock(N, 8) + qt.fock(N, 9) + qt.fock(N, 1) + qt.fock(N, 3) + qt.fock(N, 4) + qt.fock(N, 6)).unit()\n",
    "coplist = [np.sqrt(gamma) * a*(n - 1)]"
   ]
  },
  {
   "cell_type": "code",
   "execution_count": 46,
   "metadata": {
    "hidden": true
   },
   "outputs": [
    {
     "name": "stdout",
     "output_type": "stream",
     "text": [
      "110.25300598144531\n"
     ]
    }
   ],
   "source": [
    "start_time = time.time()\n",
    "result = qt.mesolve(H, psi0, tlist, coplist, [], options=options)\n",
    "end_time = time.time()\n",
    "print(end_time - start_time)"
   ]
  },
  {
   "cell_type": "code",
   "execution_count": 44,
   "metadata": {
    "hidden": true
   },
   "outputs": [
    {
     "name": "stdout",
     "output_type": "stream",
     "text": [
      "11.3 s ± 1.64 s per loop (mean ± std. dev. of 7 runs, 1 loop each)\n"
     ]
    }
   ],
   "source": [
    "%timeit result = qt.mesolve(H, psi0, tlist, coplist, [], options=options)"
   ]
  },
  {
   "cell_type": "markdown",
   "metadata": {
    "heading_collapsed": true
   },
   "source": [
    "# Performance of quantum Monte-Carlo"
   ]
  },
  {
   "cell_type": "markdown",
   "metadata": {
    "hidden": true
   },
   "source": [
    "## $\\hat{A} = \\hat{a}$"
   ]
  },
  {
   "cell_type": "code",
   "execution_count": 8,
   "metadata": {
    "hidden": true
   },
   "outputs": [],
   "source": [
    "# defining input parameters\n",
    "N = 200 # hilbert space size\n",
    "tlist = np.linspace(0, 1.0, 101) # times over which to solve\n",
    "gamma = 8.0 # decay rate \n",
    "omega = 1.0 # free Hamiltonian frequency \n",
    "alphain = 3.0 # input coherent state amplitude\n",
    "\n",
    "# defining operators\n",
    "a = qt.destroy(N) # annihilation operator\n",
    "n = qt.num(N) # number operator \n",
    "ad = a.dag() # creation operator \n",
    "x = (a + ad)/np.sqrt(2) # position operator. Equivalent to qt.position(N)\n",
    "p = -1j * (a - ad)/np.sqrt(2) # momentum operator. Equivalent to qt.position(N)\n",
    "\n",
    "# defining Hamiltonian\n",
    "H = omega * ad * a\n",
    "\n",
    "\n",
    "# input state\n",
    "psi0 = qt.coherent(N, alphain, method=\"analytic\")\n",
    "coplist = [np.sqrt(gamma) * a]\n",
    "eoplist = [ad * a]\n",
    "# result = qt.mesolve(H, psi0, tlist, coplist, [])\n",
    "\n",
    "# result.states gives a list of density matrices, corresponding to \n",
    "# the state at each timestep."
   ]
  },
  {
   "cell_type": "code",
   "execution_count": 9,
   "metadata": {
    "hidden": true
   },
   "outputs": [
    {
     "name": "stdout",
     "output_type": "stream",
     "text": [
      "10.0%. Run time:   6.87s. Est. time left: 00:00:01:01\n",
      "20.0%. Run time:   8.10s. Est. time left: 00:00:00:32\n",
      "30.0%. Run time:   9.39s. Est. time left: 00:00:00:21\n",
      "40.0%. Run time:  10.70s. Est. time left: 00:00:00:16\n",
      "50.0%. Run time:  12.02s. Est. time left: 00:00:00:12\n",
      "60.0%. Run time:  13.44s. Est. time left: 00:00:00:08\n",
      "70.0%. Run time:  14.82s. Est. time left: 00:00:00:06\n",
      "80.0%. Run time:  16.12s. Est. time left: 00:00:00:04\n",
      "90.0%. Run time:  17.44s. Est. time left: 00:00:00:01\n",
      "100.0%. Run time:  18.92s. Est. time left: 00:00:00:00\n",
      "Total run time:  19.08s\n"
     ]
    }
   ],
   "source": [
    "result = qt.mcsolve(H, psi0, tlist, coplist, eoplist, ntraj=500)"
   ]
  },
  {
   "cell_type": "markdown",
   "metadata": {
    "heading_collapsed": true,
    "hidden": true
   },
   "source": [
    "## $\\hat{A} = \\hat{a}\\left(\\hat{a}^\\dagger \\hat{a} - 1\\right)$"
   ]
  },
  {
   "cell_type": "code",
   "execution_count": null,
   "metadata": {
    "hidden": true
   },
   "outputs": [],
   "source": []
  },
  {
   "cell_type": "code",
   "execution_count": 53,
   "metadata": {
    "hidden": true
   },
   "outputs": [],
   "source": [
    "# defining input parameters\n",
    "N = 20 # hilbert space size\n",
    "tlist = np.linspace(0, 1.0, 101) # times over which to solve\n",
    "gamma = 1.0 # decay rate \n",
    "omega = 0.0 # free Hamiltonian frequency \n",
    "alphain = 3.0 # input coherent state amplitude\n",
    "\n",
    "# defining operators\n",
    "a = qt.destroy(N) # annihilation operator\n",
    "n = qt.num(N) # number operator \n",
    "ad = a.dag() # creation operator \n",
    "x = (a + ad)/np.sqrt(2) # position operator. Equivalent to qt.position(N)\n",
    "p = -1j * (a - ad)/np.sqrt(2) # momentum operator. Equivalent to qt.position(N)\n",
    "\n",
    "# defining Hamiltonian\n",
    "H = omega * ad * a\n",
    "\n",
    "\n",
    "# input state\n",
    "psi0 = qt.coherent(N, alphain, method=\"analytic\")\n",
    "coplist = [np.sqrt(gamma) * a*(n - 1)]\n",
    "eoplist = [ad * a]\n",
    "# result = qt.mesolve(H, psi0, tlist, coplist, [])\n",
    "\n",
    "# result.states gives a list of density matrices, corresponding to \n",
    "# the state at each timestep."
   ]
  },
  {
   "cell_type": "code",
   "execution_count": 54,
   "metadata": {
    "hidden": true
   },
   "outputs": [
    {
     "name": "stdout",
     "output_type": "stream",
     "text": [
      "10.0%. Run time:   7.48s. Est. time left: 00:00:01:07\n",
      "20.0%. Run time:   8.77s. Est. time left: 00:00:00:35\n",
      "30.0%. Run time:  10.10s. Est. time left: 00:00:00:23\n",
      "40.0%. Run time:  11.60s. Est. time left: 00:00:00:17\n",
      "50.0%. Run time:  12.90s. Est. time left: 00:00:00:12\n",
      "60.0%. Run time:  14.27s. Est. time left: 00:00:00:09\n",
      "70.0%. Run time:  15.76s. Est. time left: 00:00:00:06\n",
      "80.0%. Run time:  17.63s. Est. time left: 00:00:00:04\n",
      "90.0%. Run time:  19.82s. Est. time left: 00:00:00:02\n",
      "100.0%. Run time:  21.46s. Est. time left: 00:00:00:00\n",
      "Total run time:  21.62s\n"
     ]
    }
   ],
   "source": [
    "result = qt.mcsolve(H, psi0, tlist, coplist, eoplist, ntraj=500)"
   ]
  },
  {
   "cell_type": "code",
   "execution_count": null,
   "metadata": {
    "hidden": true
   },
   "outputs": [],
   "source": [
    "# defining input parameters\n",
    "N = 100 # hilbert space size\n",
    "tlist = np.linspace(0, 1.0, 101) # times over which to solve\n",
    "gamma = 1.0 # decay rate \n",
    "omega = 1.0 # free Hamiltonian frequency \n",
    "alphain = 3.0 # input coherent state amplitude\n",
    "\n",
    "# defining operators\n",
    "a = qt.destroy(N) # annihilation operator\n",
    "n = qt.num(N) # number operator \n",
    "ad = a.dag() # creation operator \n",
    "x = (a + ad)/np.sqrt(2) # position operator. Equivalent to qt.position(N)\n",
    "p = -1j * (a - ad)/np.sqrt(2) # momentum operator. Equivalent to qt.position(N)\n",
    "\n",
    "# defining Hamiltonian\n",
    "H = omega * ad * a\n",
    "\n",
    "\n",
    "# input state\n",
    "psi0 = qt.coherent(N, alphain, method=\"analytic\")\n",
    "coplist = [np.sqrt(gamma) * a*(n - 1)]\n",
    "eoplist = [ad * a]\n",
    "# result = qt.mesolve(H, psi0, tlist, coplist, [])\n",
    "\n",
    "# result.states gives a list of density matrices, corresponding to \n",
    "# the state at each timestep."
   ]
  },
  {
   "cell_type": "code",
   "execution_count": null,
   "metadata": {
    "hidden": true
   },
   "outputs": [],
   "source": [
    "result = qt.mcsolve(H, psi0, tlist, coplist, eoplist, ntraj=500)"
   ]
  },
  {
   "cell_type": "code",
   "execution_count": null,
   "metadata": {
    "hidden": true
   },
   "outputs": [],
   "source": [
    "# defining input parameters\n",
    "N = 100 # hilbert space size\n",
    "tlist = np.linspace(0, 1.0, 101) # times over which to solve\n",
    "gamma = 1.0 # decay rate \n",
    "omega = 1.0 # free Hamiltonian frequency \n",
    "alphain = 3.0 # input coherent state amplitude\n",
    "\n",
    "# defining operators\n",
    "a = qt.destroy(N) # annihilation operator\n",
    "n = qt.num(N) # number operator \n",
    "ad = a.dag() # creation operator \n",
    "x = (a + ad)/np.sqrt(2) # position operator. Equivalent to qt.position(N)\n",
    "p = -1j * (a - ad)/np.sqrt(2) # momentum operator. Equivalent to qt.position(N)\n",
    "\n",
    "# defining Hamiltonian\n",
    "H = omega * ad * a\n",
    "\n",
    "\n",
    "# input state\n",
    "psi0 = qt.coherent(N, alphain, method=\"analytic\")\n",
    "coplist = [np.sqrt(gamma) * a*(n - 1)]\n",
    "eoplist = [ad * a]\n",
    "# result = qt.mesolve(H, psi0, tlist, coplist, [])\n",
    "\n",
    "# result.states gives a list of density matrices, corresponding to \n",
    "# the state at each timestep."
   ]
  },
  {
   "cell_type": "code",
   "execution_count": 28,
   "metadata": {
    "hidden": true
   },
   "outputs": [
    {
     "data": {
      "text/plain": [
       "array([9.        , 5.7396722 , 4.66042494, 4.05099663, 3.66145986,\n",
       "       3.37616134, 3.16077428, 2.98660774, 2.84203476, 2.72660627,\n",
       "       2.62212573, 2.5332035 , 2.45596932, 2.37707097, 2.31458222,\n",
       "       2.25106253, 2.20495054, 2.15516878, 2.10915037, 2.0684192 ,\n",
       "       2.03507274, 2.000453  , 1.96948631, 1.94194701, 1.91542024,\n",
       "       1.89542966, 1.87430254, 1.85217601, 1.82962501, 1.80889738,\n",
       "       1.78900227, 1.76227721, 1.73828991, 1.7194429 , 1.70194274,\n",
       "       1.68662537, 1.6728922 , 1.65776243, 1.63921378, 1.62657381,\n",
       "       1.60974626, 1.59674244, 1.58196918, 1.57336453, 1.5634862 ,\n",
       "       1.54719853, 1.53918733, 1.53099041, 1.52179362, 1.50347687,\n",
       "       1.49166229, 1.48029252, 1.47104542, 1.46336007, 1.45500565,\n",
       "       1.44407706, 1.43501432, 1.43123996, 1.42441458, 1.41515451,\n",
       "       1.40589349, 1.40105874, 1.39196545, 1.38621855, 1.37815642,\n",
       "       1.37236269, 1.36535953, 1.35117105, 1.34560608, 1.34025318,\n",
       "       1.3372529 , 1.33399691, 1.32516286, 1.31666077, 1.30929662,\n",
       "       1.29949199, 1.29449004, 1.29065922, 1.28130879, 1.27625763,\n",
       "       1.27199926, 1.26589906, 1.26237903, 1.26030248, 1.25707693,\n",
       "       1.25233317, 1.24665744, 1.24464923, 1.23742967, 1.23388795,\n",
       "       1.2271245 , 1.22361853, 1.21737683, 1.21006055, 1.20318783,\n",
       "       1.19930498, 1.1960507 , 1.19428701, 1.19021561, 1.18718815,\n",
       "       1.18020942])"
      ]
     },
     "execution_count": 28,
     "metadata": {},
     "output_type": "execute_result"
    }
   ],
   "source": [
    "result.expect[0]"
   ]
  },
  {
   "cell_type": "markdown",
   "metadata": {
    "heading_collapsed": true
   },
   "source": [
    "# Full single-mode model eqn"
   ]
  },
  {
   "cell_type": "code",
   "execution_count": 23,
   "metadata": {
    "hidden": true
   },
   "outputs": [],
   "source": [
    "def single_mode_solver(method, dims, alpha_in, gamma_1, gamma_2, gamma_3, times=np.linspace(0, 0.2, 100)):\n",
    "    \n",
    "    # parameters\n",
    "    omega = 0\n",
    "    ntraj = 500\n",
    "    \n",
    "    # input state\n",
    "    psi0 = qt.coherent(dims, alpha_in, method=\"analytic\")\n",
    "    \n",
    "    # defining operators\n",
    "    a = qt.destroy(dims)\n",
    "    ad = a.dag()\n",
    "    n = qt.num(dims)\n",
    "    \n",
    "    # collapse operators\n",
    "    c_op_list = [np.sqrt(gamma_1) * a, np.sqrt(gamma_2) * a * a, np.sqrt(gamma_3) * a * (n-1)]\n",
    "    \n",
    "    # Hamiltonian\n",
    "    H = omega * ad * a\n",
    "    \n",
    "    if method == \"me\":\n",
    "        rho0 = qt.ket2dm(psi0)\n",
    "        e_op_list = []\n",
    "        return qt.mesolve(H, rho0, times, c_op_list, e_op_list).states\n",
    "    elif method == \"mc\":\n",
    "        e_op_list = [n]\n",
    "        return qt.mcsolve(H, psi0, times, c_op_list, e_op_list, ntraj=ntraj)"
   ]
  },
  {
   "cell_type": "code",
   "execution_count": 61,
   "metadata": {
    "hidden": true
   },
   "outputs": [
    {
     "data": {
      "text/plain": [
       "1.0000001000315688"
      ]
     },
     "execution_count": 61,
     "metadata": {},
     "output_type": "execute_result"
    }
   ],
   "source": [
    "qt.coherent_dm(35, 3, method=\"analytic\").norm()"
   ]
  },
  {
   "cell_type": "code",
   "execution_count": 24,
   "metadata": {
    "collapsed": true,
    "hidden": true
   },
   "outputs": [
    {
     "name": "stdout",
     "output_type": "stream",
     "text": [
      "0.062497854232788086\n",
      "10.0%. Run time:   7.91s. Est. time left: 00:00:01:11\n",
      "20.0%. Run time:   8.34s. Est. time left: 00:00:00:33\n",
      "30.0%. Run time:   8.78s. Est. time left: 00:00:00:20\n",
      "40.0%. Run time:   9.24s. Est. time left: 00:00:00:13\n",
      "50.0%. Run time:   9.91s. Est. time left: 00:00:00:09\n"
     ]
    },
    {
     "ename": "KeyboardInterrupt",
     "evalue": "",
     "output_type": "error",
     "traceback": [
      "\u001b[1;31m---------------------------------------------------------------------------\u001b[0m",
      "\u001b[1;31mKeyboardInterrupt\u001b[0m                         Traceback (most recent call last)",
      "\u001b[1;32m~\\Anaconda3\\envs\\mtqoi\\lib\\site-packages\\qutip\\parallel.py\u001b[0m in \u001b[0;36mparallel_map\u001b[1;34m(task, values, task_args, task_kwargs, **kwargs)\u001b[0m\n\u001b[0;32m    246\u001b[0m             \u001b[1;32mfor\u001b[0m \u001b[0mar\u001b[0m \u001b[1;32min\u001b[0m \u001b[0masync_res\u001b[0m\u001b[1;33m:\u001b[0m\u001b[1;33m\u001b[0m\u001b[1;33m\u001b[0m\u001b[0m\n\u001b[1;32m--> 247\u001b[1;33m                 \u001b[0mar\u001b[0m\u001b[1;33m.\u001b[0m\u001b[0mwait\u001b[0m\u001b[1;33m(\u001b[0m\u001b[0mtimeout\u001b[0m\u001b[1;33m=\u001b[0m\u001b[1;36m0.1\u001b[0m\u001b[1;33m)\u001b[0m\u001b[1;33m\u001b[0m\u001b[1;33m\u001b[0m\u001b[0m\n\u001b[0m\u001b[0;32m    248\u001b[0m \u001b[1;33m\u001b[0m\u001b[0m\n",
      "\u001b[1;32m~\\Anaconda3\\envs\\mtqoi\\lib\\multiprocessing\\pool.py\u001b[0m in \u001b[0;36mwait\u001b[1;34m(self, timeout)\u001b[0m\n\u001b[0;32m    647\u001b[0m     \u001b[1;32mdef\u001b[0m \u001b[0mwait\u001b[0m\u001b[1;33m(\u001b[0m\u001b[0mself\u001b[0m\u001b[1;33m,\u001b[0m \u001b[0mtimeout\u001b[0m\u001b[1;33m=\u001b[0m\u001b[1;32mNone\u001b[0m\u001b[1;33m)\u001b[0m\u001b[1;33m:\u001b[0m\u001b[1;33m\u001b[0m\u001b[1;33m\u001b[0m\u001b[0m\n\u001b[1;32m--> 648\u001b[1;33m         \u001b[0mself\u001b[0m\u001b[1;33m.\u001b[0m\u001b[0m_event\u001b[0m\u001b[1;33m.\u001b[0m\u001b[0mwait\u001b[0m\u001b[1;33m(\u001b[0m\u001b[0mtimeout\u001b[0m\u001b[1;33m)\u001b[0m\u001b[1;33m\u001b[0m\u001b[1;33m\u001b[0m\u001b[0m\n\u001b[0m\u001b[0;32m    649\u001b[0m \u001b[1;33m\u001b[0m\u001b[0m\n",
      "\u001b[1;32m~\\Anaconda3\\envs\\mtqoi\\lib\\threading.py\u001b[0m in \u001b[0;36mwait\u001b[1;34m(self, timeout)\u001b[0m\n\u001b[0;32m    551\u001b[0m             \u001b[1;32mif\u001b[0m \u001b[1;32mnot\u001b[0m \u001b[0msignaled\u001b[0m\u001b[1;33m:\u001b[0m\u001b[1;33m\u001b[0m\u001b[1;33m\u001b[0m\u001b[0m\n\u001b[1;32m--> 552\u001b[1;33m                 \u001b[0msignaled\u001b[0m \u001b[1;33m=\u001b[0m \u001b[0mself\u001b[0m\u001b[1;33m.\u001b[0m\u001b[0m_cond\u001b[0m\u001b[1;33m.\u001b[0m\u001b[0mwait\u001b[0m\u001b[1;33m(\u001b[0m\u001b[0mtimeout\u001b[0m\u001b[1;33m)\u001b[0m\u001b[1;33m\u001b[0m\u001b[1;33m\u001b[0m\u001b[0m\n\u001b[0m\u001b[0;32m    553\u001b[0m             \u001b[1;32mreturn\u001b[0m \u001b[0msignaled\u001b[0m\u001b[1;33m\u001b[0m\u001b[1;33m\u001b[0m\u001b[0m\n",
      "\u001b[1;32m~\\Anaconda3\\envs\\mtqoi\\lib\\threading.py\u001b[0m in \u001b[0;36mwait\u001b[1;34m(self, timeout)\u001b[0m\n\u001b[0;32m    299\u001b[0m                 \u001b[1;32mif\u001b[0m \u001b[0mtimeout\u001b[0m \u001b[1;33m>\u001b[0m \u001b[1;36m0\u001b[0m\u001b[1;33m:\u001b[0m\u001b[1;33m\u001b[0m\u001b[1;33m\u001b[0m\u001b[0m\n\u001b[1;32m--> 300\u001b[1;33m                     \u001b[0mgotit\u001b[0m \u001b[1;33m=\u001b[0m \u001b[0mwaiter\u001b[0m\u001b[1;33m.\u001b[0m\u001b[0macquire\u001b[0m\u001b[1;33m(\u001b[0m\u001b[1;32mTrue\u001b[0m\u001b[1;33m,\u001b[0m \u001b[0mtimeout\u001b[0m\u001b[1;33m)\u001b[0m\u001b[1;33m\u001b[0m\u001b[1;33m\u001b[0m\u001b[0m\n\u001b[0m\u001b[0;32m    301\u001b[0m                 \u001b[1;32melse\u001b[0m\u001b[1;33m:\u001b[0m\u001b[1;33m\u001b[0m\u001b[1;33m\u001b[0m\u001b[0m\n",
      "\u001b[1;31mKeyboardInterrupt\u001b[0m: ",
      "\nDuring handling of the above exception, another exception occurred:\n",
      "\u001b[1;31mKeyboardInterrupt\u001b[0m                         Traceback (most recent call last)",
      "\u001b[1;32m<ipython-input-24-f5cd956160d2>\u001b[0m in \u001b[0;36m<module>\u001b[1;34m\u001b[0m\n\u001b[0;32m      8\u001b[0m \u001b[0mend_time\u001b[0m \u001b[1;33m=\u001b[0m \u001b[0mtime\u001b[0m\u001b[1;33m.\u001b[0m\u001b[0mtime\u001b[0m\u001b[1;33m(\u001b[0m\u001b[1;33m)\u001b[0m\u001b[1;33m\u001b[0m\u001b[1;33m\u001b[0m\u001b[0m\n\u001b[0;32m      9\u001b[0m \u001b[0mprint\u001b[0m\u001b[1;33m(\u001b[0m\u001b[0mend_time\u001b[0m \u001b[1;33m-\u001b[0m \u001b[0mstart_time\u001b[0m\u001b[1;33m)\u001b[0m\u001b[1;33m\u001b[0m\u001b[1;33m\u001b[0m\u001b[0m\n\u001b[1;32m---> 10\u001b[1;33m \u001b[0mresult_mc\u001b[0m  \u001b[1;33m=\u001b[0m \u001b[0msingle_mode_solver\u001b[0m\u001b[1;33m(\u001b[0m\u001b[1;34m\"mc\"\u001b[0m\u001b[1;33m,\u001b[0m \u001b[0mdims_test\u001b[0m\u001b[1;33m,\u001b[0m \u001b[0malpha_test\u001b[0m\u001b[1;33m,\u001b[0m \u001b[0mgamma_1\u001b[0m\u001b[1;33m,\u001b[0m \u001b[0mgamma_2\u001b[0m\u001b[1;33m,\u001b[0m \u001b[0mgamma_3\u001b[0m\u001b[1;33m)\u001b[0m\u001b[1;33m\u001b[0m\u001b[1;33m\u001b[0m\u001b[0m\n\u001b[0m",
      "\u001b[1;32m<ipython-input-23-fb8670b1609b>\u001b[0m in \u001b[0;36msingle_mode_solver\u001b[1;34m(method, dims, alpha_in, gamma_1, gamma_2, gamma_3, times)\u001b[0m\n\u001b[0;32m     25\u001b[0m     \u001b[1;32melif\u001b[0m \u001b[0mmethod\u001b[0m \u001b[1;33m==\u001b[0m \u001b[1;34m\"mc\"\u001b[0m\u001b[1;33m:\u001b[0m\u001b[1;33m\u001b[0m\u001b[1;33m\u001b[0m\u001b[0m\n\u001b[0;32m     26\u001b[0m         \u001b[0me_op_list\u001b[0m \u001b[1;33m=\u001b[0m \u001b[1;33m[\u001b[0m\u001b[0mn\u001b[0m\u001b[1;33m]\u001b[0m\u001b[1;33m\u001b[0m\u001b[1;33m\u001b[0m\u001b[0m\n\u001b[1;32m---> 27\u001b[1;33m         \u001b[1;32mreturn\u001b[0m \u001b[0mqt\u001b[0m\u001b[1;33m.\u001b[0m\u001b[0mmcsolve\u001b[0m\u001b[1;33m(\u001b[0m\u001b[0mH\u001b[0m\u001b[1;33m,\u001b[0m \u001b[0mpsi0\u001b[0m\u001b[1;33m,\u001b[0m \u001b[0mtimes\u001b[0m\u001b[1;33m,\u001b[0m \u001b[0mc_op_list\u001b[0m\u001b[1;33m,\u001b[0m \u001b[0me_op_list\u001b[0m\u001b[1;33m,\u001b[0m \u001b[0mntraj\u001b[0m\u001b[1;33m=\u001b[0m\u001b[0mntraj\u001b[0m\u001b[1;33m)\u001b[0m\u001b[1;33m\u001b[0m\u001b[1;33m\u001b[0m\u001b[0m\n\u001b[0m",
      "\u001b[1;32m~\\Anaconda3\\envs\\mtqoi\\lib\\site-packages\\qutip\\mcsolve.py\u001b[0m in \u001b[0;36mmcsolve\u001b[1;34m(H, psi0, tlist, c_ops, e_ops, ntraj, args, options, progress_bar, map_func, map_kwargs, _safe_mode)\u001b[0m\n\u001b[0;32m    226\u001b[0m     mc.run(num_traj=num_traj, tlist=tlist,\n\u001b[0;32m    227\u001b[0m            \u001b[0mprogress_bar\u001b[0m\u001b[1;33m=\u001b[0m\u001b[0mprogress_bar\u001b[0m\u001b[1;33m,\u001b[0m\u001b[1;33m\u001b[0m\u001b[1;33m\u001b[0m\u001b[0m\n\u001b[1;32m--> 228\u001b[1;33m            map_func=map_func, map_kwargs=map_kwargs)\n\u001b[0m\u001b[0;32m    229\u001b[0m \u001b[1;33m\u001b[0m\u001b[0m\n\u001b[0;32m    230\u001b[0m     \u001b[1;32mreturn\u001b[0m \u001b[0mmc\u001b[0m\u001b[1;33m.\u001b[0m\u001b[0mget_result\u001b[0m\u001b[1;33m(\u001b[0m\u001b[0mntraj\u001b[0m\u001b[1;33m)\u001b[0m\u001b[1;33m\u001b[0m\u001b[1;33m\u001b[0m\u001b[0m\n",
      "\u001b[1;32m~\\Anaconda3\\envs\\mtqoi\\lib\\site-packages\\qutip\\mcsolve.py\u001b[0m in \u001b[0;36mrun\u001b[1;34m(self, num_traj, psi0, tlist, args, e_ops, options, progress_bar, map_func, map_kwargs)\u001b[0m\n\u001b[0;32m    439\u001b[0m             \u001b[0mresults\u001b[0m \u001b[1;33m=\u001b[0m \u001b[0mmap_func\u001b[0m\u001b[1;33m(\u001b[0m\u001b[0mself\u001b[0m\u001b[1;33m.\u001b[0m\u001b[0m_single_traj_diag\u001b[0m\u001b[1;33m,\u001b[0m \u001b[0mlist\u001b[0m\u001b[1;33m(\u001b[0m\u001b[0mrange\u001b[0m\u001b[1;33m(\u001b[0m\u001b[0mnum_traj\u001b[0m\u001b[1;33m)\u001b[0m\u001b[1;33m)\u001b[0m\u001b[1;33m,\u001b[0m \u001b[1;33m**\u001b[0m\u001b[0mmap_kwargs\u001b[0m\u001b[1;33m)\u001b[0m\u001b[1;33m\u001b[0m\u001b[1;33m\u001b[0m\u001b[0m\n\u001b[0;32m    440\u001b[0m         \u001b[1;32melse\u001b[0m\u001b[1;33m:\u001b[0m\u001b[1;33m\u001b[0m\u001b[1;33m\u001b[0m\u001b[0m\n\u001b[1;32m--> 441\u001b[1;33m             \u001b[0mresults\u001b[0m \u001b[1;33m=\u001b[0m \u001b[0mmap_func\u001b[0m\u001b[1;33m(\u001b[0m\u001b[0mself\u001b[0m\u001b[1;33m.\u001b[0m\u001b[0m_single_traj\u001b[0m\u001b[1;33m,\u001b[0m \u001b[0mlist\u001b[0m\u001b[1;33m(\u001b[0m\u001b[0mrange\u001b[0m\u001b[1;33m(\u001b[0m\u001b[0mnum_traj\u001b[0m\u001b[1;33m)\u001b[0m\u001b[1;33m)\u001b[0m\u001b[1;33m,\u001b[0m \u001b[1;33m**\u001b[0m\u001b[0mmap_kwargs\u001b[0m\u001b[1;33m)\u001b[0m\u001b[1;33m\u001b[0m\u001b[1;33m\u001b[0m\u001b[0m\n\u001b[0m\u001b[0;32m    442\u001b[0m \u001b[1;33m\u001b[0m\u001b[0m\n\u001b[0;32m    443\u001b[0m         \u001b[0mself\u001b[0m\u001b[1;33m.\u001b[0m\u001b[0mt\u001b[0m \u001b[1;33m=\u001b[0m \u001b[0mself\u001b[0m\u001b[1;33m.\u001b[0m\u001b[0mtlist\u001b[0m\u001b[1;33m[\u001b[0m\u001b[1;33m-\u001b[0m\u001b[1;36m1\u001b[0m\u001b[1;33m]\u001b[0m\u001b[1;33m\u001b[0m\u001b[1;33m\u001b[0m\u001b[0m\n",
      "\u001b[1;32m~\\Anaconda3\\envs\\mtqoi\\lib\\site-packages\\qutip\\parallel.py\u001b[0m in \u001b[0;36mparallel_map\u001b[1;34m(task, values, task_args, task_kwargs, **kwargs)\u001b[0m\n\u001b[0;32m    252\u001b[0m     \u001b[1;32mexcept\u001b[0m \u001b[0mKeyboardInterrupt\u001b[0m \u001b[1;32mas\u001b[0m \u001b[0me\u001b[0m\u001b[1;33m:\u001b[0m\u001b[1;33m\u001b[0m\u001b[1;33m\u001b[0m\u001b[0m\n\u001b[0;32m    253\u001b[0m         \u001b[0mos\u001b[0m\u001b[1;33m.\u001b[0m\u001b[0menviron\u001b[0m\u001b[1;33m[\u001b[0m\u001b[1;34m'QUTIP_IN_PARALLEL'\u001b[0m\u001b[1;33m]\u001b[0m \u001b[1;33m=\u001b[0m \u001b[1;34m'FALSE'\u001b[0m\u001b[1;33m\u001b[0m\u001b[1;33m\u001b[0m\u001b[0m\n\u001b[1;32m--> 254\u001b[1;33m         \u001b[0mpool\u001b[0m\u001b[1;33m.\u001b[0m\u001b[0mterminate\u001b[0m\u001b[1;33m(\u001b[0m\u001b[1;33m)\u001b[0m\u001b[1;33m\u001b[0m\u001b[1;33m\u001b[0m\u001b[0m\n\u001b[0m\u001b[0;32m    255\u001b[0m         \u001b[0mpool\u001b[0m\u001b[1;33m.\u001b[0m\u001b[0mjoin\u001b[0m\u001b[1;33m(\u001b[0m\u001b[1;33m)\u001b[0m\u001b[1;33m\u001b[0m\u001b[1;33m\u001b[0m\u001b[0m\n\u001b[0;32m    256\u001b[0m         \u001b[1;32mraise\u001b[0m \u001b[0me\u001b[0m\u001b[1;33m\u001b[0m\u001b[1;33m\u001b[0m\u001b[0m\n",
      "\u001b[1;32m~\\Anaconda3\\envs\\mtqoi\\lib\\multiprocessing\\pool.py\u001b[0m in \u001b[0;36mterminate\u001b[1;34m(self)\u001b[0m\n\u001b[0;32m    546\u001b[0m         \u001b[0mself\u001b[0m\u001b[1;33m.\u001b[0m\u001b[0m_state\u001b[0m \u001b[1;33m=\u001b[0m \u001b[0mTERMINATE\u001b[0m\u001b[1;33m\u001b[0m\u001b[1;33m\u001b[0m\u001b[0m\n\u001b[0;32m    547\u001b[0m         \u001b[0mself\u001b[0m\u001b[1;33m.\u001b[0m\u001b[0m_worker_handler\u001b[0m\u001b[1;33m.\u001b[0m\u001b[0m_state\u001b[0m \u001b[1;33m=\u001b[0m \u001b[0mTERMINATE\u001b[0m\u001b[1;33m\u001b[0m\u001b[1;33m\u001b[0m\u001b[0m\n\u001b[1;32m--> 548\u001b[1;33m         \u001b[0mself\u001b[0m\u001b[1;33m.\u001b[0m\u001b[0m_terminate\u001b[0m\u001b[1;33m(\u001b[0m\u001b[1;33m)\u001b[0m\u001b[1;33m\u001b[0m\u001b[1;33m\u001b[0m\u001b[0m\n\u001b[0m\u001b[0;32m    549\u001b[0m \u001b[1;33m\u001b[0m\u001b[0m\n\u001b[0;32m    550\u001b[0m     \u001b[1;32mdef\u001b[0m \u001b[0mjoin\u001b[0m\u001b[1;33m(\u001b[0m\u001b[0mself\u001b[0m\u001b[1;33m)\u001b[0m\u001b[1;33m:\u001b[0m\u001b[1;33m\u001b[0m\u001b[1;33m\u001b[0m\u001b[0m\n",
      "\u001b[1;32m~\\Anaconda3\\envs\\mtqoi\\lib\\multiprocessing\\util.py\u001b[0m in \u001b[0;36m__call__\u001b[1;34m(self, wr, _finalizer_registry, sub_debug, getpid)\u001b[0m\n\u001b[0;32m    187\u001b[0m                 sub_debug('finalizer calling %s with args %s and kwargs %s',\n\u001b[0;32m    188\u001b[0m                           self._callback, self._args, self._kwargs)\n\u001b[1;32m--> 189\u001b[1;33m                 \u001b[0mres\u001b[0m \u001b[1;33m=\u001b[0m \u001b[0mself\u001b[0m\u001b[1;33m.\u001b[0m\u001b[0m_callback\u001b[0m\u001b[1;33m(\u001b[0m\u001b[1;33m*\u001b[0m\u001b[0mself\u001b[0m\u001b[1;33m.\u001b[0m\u001b[0m_args\u001b[0m\u001b[1;33m,\u001b[0m \u001b[1;33m**\u001b[0m\u001b[0mself\u001b[0m\u001b[1;33m.\u001b[0m\u001b[0m_kwargs\u001b[0m\u001b[1;33m)\u001b[0m\u001b[1;33m\u001b[0m\u001b[1;33m\u001b[0m\u001b[0m\n\u001b[0m\u001b[0;32m    190\u001b[0m             \u001b[0mself\u001b[0m\u001b[1;33m.\u001b[0m\u001b[0m_weakref\u001b[0m \u001b[1;33m=\u001b[0m \u001b[0mself\u001b[0m\u001b[1;33m.\u001b[0m\u001b[0m_callback\u001b[0m \u001b[1;33m=\u001b[0m \u001b[0mself\u001b[0m\u001b[1;33m.\u001b[0m\u001b[0m_args\u001b[0m \u001b[1;33m=\u001b[0m\u001b[0;31m \u001b[0m\u001b[0;31m\\\u001b[0m\u001b[1;33m\u001b[0m\u001b[1;33m\u001b[0m\u001b[0m\n\u001b[0;32m    191\u001b[0m                             \u001b[0mself\u001b[0m\u001b[1;33m.\u001b[0m\u001b[0m_kwargs\u001b[0m \u001b[1;33m=\u001b[0m \u001b[0mself\u001b[0m\u001b[1;33m.\u001b[0m\u001b[0m_key\u001b[0m \u001b[1;33m=\u001b[0m \u001b[1;32mNone\u001b[0m\u001b[1;33m\u001b[0m\u001b[1;33m\u001b[0m\u001b[0m\n",
      "\u001b[1;32m~\\Anaconda3\\envs\\mtqoi\\lib\\multiprocessing\\pool.py\u001b[0m in \u001b[0;36m_terminate_pool\u001b[1;34m(cls, taskqueue, inqueue, outqueue, pool, worker_handler, task_handler, result_handler, cache)\u001b[0m\n\u001b[0;32m    592\u001b[0m         \u001b[0mutil\u001b[0m\u001b[1;33m.\u001b[0m\u001b[0mdebug\u001b[0m\u001b[1;33m(\u001b[0m\u001b[1;34m'joining worker handler'\u001b[0m\u001b[1;33m)\u001b[0m\u001b[1;33m\u001b[0m\u001b[1;33m\u001b[0m\u001b[0m\n\u001b[0;32m    593\u001b[0m         \u001b[1;32mif\u001b[0m \u001b[0mthreading\u001b[0m\u001b[1;33m.\u001b[0m\u001b[0mcurrent_thread\u001b[0m\u001b[1;33m(\u001b[0m\u001b[1;33m)\u001b[0m \u001b[1;32mis\u001b[0m \u001b[1;32mnot\u001b[0m \u001b[0mworker_handler\u001b[0m\u001b[1;33m:\u001b[0m\u001b[1;33m\u001b[0m\u001b[1;33m\u001b[0m\u001b[0m\n\u001b[1;32m--> 594\u001b[1;33m             \u001b[0mworker_handler\u001b[0m\u001b[1;33m.\u001b[0m\u001b[0mjoin\u001b[0m\u001b[1;33m(\u001b[0m\u001b[1;33m)\u001b[0m\u001b[1;33m\u001b[0m\u001b[1;33m\u001b[0m\u001b[0m\n\u001b[0m\u001b[0;32m    595\u001b[0m \u001b[1;33m\u001b[0m\u001b[0m\n\u001b[0;32m    596\u001b[0m         \u001b[1;31m# Terminate workers which haven't already finished.\u001b[0m\u001b[1;33m\u001b[0m\u001b[1;33m\u001b[0m\u001b[1;33m\u001b[0m\u001b[0m\n",
      "\u001b[1;32m~\\Anaconda3\\envs\\mtqoi\\lib\\threading.py\u001b[0m in \u001b[0;36mjoin\u001b[1;34m(self, timeout)\u001b[0m\n\u001b[0;32m   1042\u001b[0m \u001b[1;33m\u001b[0m\u001b[0m\n\u001b[0;32m   1043\u001b[0m         \u001b[1;32mif\u001b[0m \u001b[0mtimeout\u001b[0m \u001b[1;32mis\u001b[0m \u001b[1;32mNone\u001b[0m\u001b[1;33m:\u001b[0m\u001b[1;33m\u001b[0m\u001b[1;33m\u001b[0m\u001b[0m\n\u001b[1;32m-> 1044\u001b[1;33m             \u001b[0mself\u001b[0m\u001b[1;33m.\u001b[0m\u001b[0m_wait_for_tstate_lock\u001b[0m\u001b[1;33m(\u001b[0m\u001b[1;33m)\u001b[0m\u001b[1;33m\u001b[0m\u001b[1;33m\u001b[0m\u001b[0m\n\u001b[0m\u001b[0;32m   1045\u001b[0m         \u001b[1;32melse\u001b[0m\u001b[1;33m:\u001b[0m\u001b[1;33m\u001b[0m\u001b[1;33m\u001b[0m\u001b[0m\n\u001b[0;32m   1046\u001b[0m             \u001b[1;31m# the behavior of a negative timeout isn't documented, but\u001b[0m\u001b[1;33m\u001b[0m\u001b[1;33m\u001b[0m\u001b[1;33m\u001b[0m\u001b[0m\n",
      "\u001b[1;32m~\\Anaconda3\\envs\\mtqoi\\lib\\threading.py\u001b[0m in \u001b[0;36m_wait_for_tstate_lock\u001b[1;34m(self, block, timeout)\u001b[0m\n\u001b[0;32m   1058\u001b[0m         \u001b[1;32mif\u001b[0m \u001b[0mlock\u001b[0m \u001b[1;32mis\u001b[0m \u001b[1;32mNone\u001b[0m\u001b[1;33m:\u001b[0m  \u001b[1;31m# already determined that the C code is done\u001b[0m\u001b[1;33m\u001b[0m\u001b[1;33m\u001b[0m\u001b[0m\n\u001b[0;32m   1059\u001b[0m             \u001b[1;32massert\u001b[0m \u001b[0mself\u001b[0m\u001b[1;33m.\u001b[0m\u001b[0m_is_stopped\u001b[0m\u001b[1;33m\u001b[0m\u001b[1;33m\u001b[0m\u001b[0m\n\u001b[1;32m-> 1060\u001b[1;33m         \u001b[1;32melif\u001b[0m \u001b[0mlock\u001b[0m\u001b[1;33m.\u001b[0m\u001b[0macquire\u001b[0m\u001b[1;33m(\u001b[0m\u001b[0mblock\u001b[0m\u001b[1;33m,\u001b[0m \u001b[0mtimeout\u001b[0m\u001b[1;33m)\u001b[0m\u001b[1;33m:\u001b[0m\u001b[1;33m\u001b[0m\u001b[1;33m\u001b[0m\u001b[0m\n\u001b[0m\u001b[0;32m   1061\u001b[0m             \u001b[0mlock\u001b[0m\u001b[1;33m.\u001b[0m\u001b[0mrelease\u001b[0m\u001b[1;33m(\u001b[0m\u001b[1;33m)\u001b[0m\u001b[1;33m\u001b[0m\u001b[1;33m\u001b[0m\u001b[0m\n\u001b[0;32m   1062\u001b[0m             \u001b[0mself\u001b[0m\u001b[1;33m.\u001b[0m\u001b[0m_stop\u001b[0m\u001b[1;33m(\u001b[0m\u001b[1;33m)\u001b[0m\u001b[1;33m\u001b[0m\u001b[1;33m\u001b[0m\u001b[0m\n",
      "\u001b[1;31mKeyboardInterrupt\u001b[0m: "
     ]
    }
   ],
   "source": [
    "dims_test = 35\n",
    "gamma_2 = 0.0005\n",
    "gamma_3 = 0.002\n",
    "gamma_1 = 10\n",
    "alpha_test = 3.0\n",
    "start_time = time.time()\n",
    "result_me = single_mode_solver(\"me\", dims_test, alpha_test, gamma_1, gamma_2, gamma_3)\n",
    "end_time = time.time()\n",
    "print(end_time - start_time)\n",
    "result_mc  = single_mode_solver(\"mc\", dims_test, alpha_test, gamma_1, gamma_2, gamma_3)"
   ]
  },
  {
   "cell_type": "code",
   "execution_count": 70,
   "metadata": {
    "collapsed": true,
    "hidden": true
   },
   "outputs": [
    {
     "name": "stdout",
     "output_type": "stream",
     "text": [
      "0.1149287223815918\n",
      "10.0%. Run time:   7.65s. Est. time left: 00:00:01:08\n",
      "20.0%. Run time:   8.05s. Est. time left: 00:00:00:32\n",
      "30.0%. Run time:   8.38s. Est. time left: 00:00:00:19\n",
      "40.0%. Run time:   8.73s. Est. time left: 00:00:00:13\n",
      "50.0%. Run time:   9.12s. Est. time left: 00:00:00:09\n",
      "60.0%. Run time:   9.48s. Est. time left: 00:00:00:06\n",
      "70.0%. Run time:   9.82s. Est. time left: 00:00:00:04\n",
      "80.0%. Run time:  10.17s. Est. time left: 00:00:00:02\n",
      "90.0%. Run time:  10.51s. Est. time left: 00:00:00:01\n",
      "100.0%. Run time:  10.88s. Est. time left: 00:00:00:00\n",
      "Total run time:  11.05s\n"
     ]
    }
   ],
   "source": [
    "dims_test = 50\n",
    "gamma_2 = 0.0005\n",
    "gamma_3 = 0.002\n",
    "gamma_1 = 10\n",
    "alpha_test = 5.0\n",
    "start_time = time.time()\n",
    "result_me = single_mode_solver(\"me\", dims_test, alpha_test, gamma_1, gamma_2, gamma_3)\n",
    "end_time = time.time()\n",
    "print(end_time - start_time)\n",
    "result_mc  = single_mode_solver(\"mc\", dims_test, alpha_test, gamma_1, gamma_2, gamma_3)"
   ]
  },
  {
   "cell_type": "code",
   "execution_count": 73,
   "metadata": {
    "hidden": true
   },
   "outputs": [
    {
     "name": "stdout",
     "output_type": "stream",
     "text": [
      "0.31980156898498535\n",
      "10.0%. Run time:   7.60s. Est. time left: 00:00:01:08\n",
      "20.0%. Run time:   8.37s. Est. time left: 00:00:00:33\n",
      "30.0%. Run time:   9.12s. Est. time left: 00:00:00:21\n",
      "40.0%. Run time:   9.86s. Est. time left: 00:00:00:14\n",
      "50.0%. Run time:  10.60s. Est. time left: 00:00:00:10\n",
      "60.0%. Run time:  11.31s. Est. time left: 00:00:00:07\n",
      "70.0%. Run time:  12.03s. Est. time left: 00:00:00:05\n",
      "80.0%. Run time:  12.79s. Est. time left: 00:00:00:03\n",
      "90.0%. Run time:  13.57s. Est. time left: 00:00:00:01\n",
      "100.0%. Run time:  14.66s. Est. time left: 00:00:00:00\n",
      "Total run time:  14.84s\n"
     ]
    }
   ],
   "source": [
    "dims_test = 100\n",
    "gamma_2 = 0.0005\n",
    "gamma_3 = 0.002\n",
    "gamma_1 = 10\n",
    "alpha_test = 8.0\n",
    "start_time = time.time()\n",
    "result_me = single_mode_solver(\"me\", dims_test, alpha_test, gamma_1, gamma_2, gamma_3)\n",
    "end_time = time.time()\n",
    "print(end_time - start_time)\n",
    "result_mc  = single_mode_solver(\"mc\", dims_test, alpha_test, gamma_1, gamma_2, gamma_3)"
   ]
  },
  {
   "cell_type": "code",
   "execution_count": 78,
   "metadata": {
    "hidden": true
   },
   "outputs": [
    {
     "name": "stdout",
     "output_type": "stream",
     "text": [
      "4.047503232955933\n",
      "10.0%. Run time:   8.52s. Est. time left: 00:00:01:16\n",
      "20.0%. Run time:  10.84s. Est. time left: 00:00:00:43\n",
      "30.0%. Run time:  13.13s. Est. time left: 00:00:00:30\n",
      "40.0%. Run time:  15.56s. Est. time left: 00:00:00:23\n",
      "50.0%. Run time:  17.93s. Est. time left: 00:00:00:17\n",
      "60.0%. Run time:  20.24s. Est. time left: 00:00:00:13\n",
      "70.0%. Run time:  22.46s. Est. time left: 00:00:00:09\n",
      "80.0%. Run time:  24.85s. Est. time left: 00:00:00:06\n",
      "90.0%. Run time:  27.18s. Est. time left: 00:00:00:03\n",
      "100.0%. Run time:  29.58s. Est. time left: 00:00:00:00\n",
      "Total run time:  29.68s\n"
     ]
    }
   ],
   "source": [
    "dims_test = 200\n",
    "gamma_2 = 0.0005\n",
    "gamma_3 = 0.002\n",
    "gamma_1 = 10\n",
    "alpha_test = 12.0\n",
    "start_time = time.time()\n",
    "result_me = single_mode_solver(\"me\", dims_test, alpha_test, gamma_1, gamma_2, gamma_3)\n",
    "end_time = time.time()\n",
    "print(end_time - start_time)\n",
    "result_mc  = single_mode_solver(\"mc\", dims_test, alpha_test, gamma_1, gamma_2, gamma_3)"
   ]
  },
  {
   "cell_type": "code",
   "execution_count": 83,
   "metadata": {
    "hidden": true
   },
   "outputs": [
    {
     "name": "stdout",
     "output_type": "stream",
     "text": [
      "332.3200571537018\n",
      "10.0%. Run time:  19.53s. Est. time left: 00:00:02:55\n",
      "20.0%. Run time:  33.22s. Est. time left: 00:00:02:12\n",
      "30.0%. Run time:  47.54s. Est. time left: 00:00:01:50\n",
      "40.0%. Run time:  61.81s. Est. time left: 00:00:01:32\n",
      "50.0%. Run time:  76.63s. Est. time left: 00:00:01:16\n",
      "60.0%. Run time:  90.56s. Est. time left: 00:00:01:00\n",
      "70.0%. Run time: 105.22s. Est. time left: 00:00:00:45\n",
      "80.0%. Run time: 117.12s. Est. time left: 00:00:00:29\n",
      "90.0%. Run time: 129.67s. Est. time left: 00:00:00:14\n",
      "100.0%. Run time: 143.65s. Est. time left: 00:00:00:00\n",
      "Total run time: 143.84s\n"
     ]
    }
   ],
   "source": [
    "dims_test = 500\n",
    "gamma_2 = 0.0005\n",
    "gamma_3 = 0.002\n",
    "gamma_1 = 10\n",
    "alpha_test = 20.0\n",
    "start_time = time.time()\n",
    "result_me = single_mode_solver(\"me\", dims_test, alpha_test, gamma_1, gamma_2, gamma_3)\n",
    "end_time = time.time()\n",
    "print(end_time - start_time)\n",
    "result_mc  = single_mode_solver(\"mc\", dims_test, alpha_test, gamma_1, gamma_2, gamma_3)"
   ]
  },
  {
   "cell_type": "code",
   "execution_count": 4,
   "metadata": {
    "hidden": true
   },
   "outputs": [
    {
     "data": {
      "text/plain": [
       "1.000161270394437"
      ]
     },
     "execution_count": 4,
     "metadata": {},
     "output_type": "execute_result"
    }
   ],
   "source": [
    "qt.coherent_dm(750, 25.0, method=\"analytic\").norm()"
   ]
  },
  {
   "cell_type": "code",
   "execution_count": 6,
   "metadata": {
    "hidden": true
   },
   "outputs": [
    {
     "name": "stdout",
     "output_type": "stream",
     "text": [
      "10.0%. Run time:  32.87s. Est. time left: 00:00:04:55\n",
      "20.0%. Run time:  58.50s. Est. time left: 00:00:03:54\n",
      "30.0%. Run time:  81.89s. Est. time left: 00:00:03:11\n",
      "40.0%. Run time: 102.24s. Est. time left: 00:00:02:33\n",
      "50.0%. Run time: 122.57s. Est. time left: 00:00:02:02\n",
      "60.0%. Run time: 143.03s. Est. time left: 00:00:01:35\n",
      "70.0%. Run time: 162.63s. Est. time left: 00:00:01:09\n",
      "80.0%. Run time: 183.42s. Est. time left: 00:00:00:45\n",
      "90.0%. Run time: 203.70s. Est. time left: 00:00:00:22\n",
      "100.0%. Run time: 223.88s. Est. time left: 00:00:00:00\n",
      "Total run time: 224.00s\n"
     ]
    }
   ],
   "source": [
    "dims_test = 750\n",
    "gamma_2 = 0.0005\n",
    "gamma_3 = 0.002\n",
    "gamma_1 = 10\n",
    "alpha_test = 25.0\n",
    "# start_time = time.time()\n",
    "# result_me = single_mode_solver(\"me\", dims_test, alpha_test, gamma_1, gamma_2, gamma_3)\n",
    "# end_time = time.time()\n",
    "# print(end_time - start_time)\n",
    "result_mc  = single_mode_solver(\"mc\", dims_test, alpha_test, gamma_1, gamma_2, gamma_3)"
   ]
  },
  {
   "cell_type": "code",
   "execution_count": 13,
   "metadata": {
    "hidden": true
   },
   "outputs": [
    {
     "name": "stdout",
     "output_type": "stream",
     "text": [
      "10.0%. Run time: 100.30s. Est. time left: 00:00:15:02\n",
      "20.0%. Run time: 170.75s. Est. time left: 00:00:11:23\n",
      "30.0%. Run time: 237.55s. Est. time left: 00:00:09:14\n",
      "40.0%. Run time: 301.65s. Est. time left: 00:00:07:32\n",
      "50.0%. Run time: 383.73s. Est. time left: 00:00:06:23\n",
      "60.0%. Run time: 461.27s. Est. time left: 00:00:05:07\n",
      "70.0%. Run time: 527.77s. Est. time left: 00:00:03:46\n",
      "80.0%. Run time: 594.34s. Est. time left: 00:00:02:28\n",
      "90.0%. Run time: 664.78s. Est. time left: 00:00:01:13\n",
      "100.0%. Run time: 752.94s. Est. time left: 00:00:00:00\n",
      "Total run time: 753.05s\n"
     ]
    }
   ],
   "source": [
    "dims_test = 1500\n",
    "gamma_2 = 0.0005\n",
    "gamma_3 = 0.002\n",
    "gamma_1 = 10\n",
    "alpha_test = 37.0\n",
    "# start_time = time.time()\n",
    "# result_me = single_mode_solver(\"me\", dims_test, alpha_test, gamma_1, gamma_2, gamma_3)\n",
    "# end_time = time.time()\n",
    "# print(end_time - start_time)\n",
    "result_mc  = single_mode_solver(\"mc\", dims_test, alpha_test, gamma_1, gamma_2, gamma_3)"
   ]
  },
  {
   "cell_type": "code",
   "execution_count": 32,
   "metadata": {
    "hidden": true
   },
   "outputs": [
    {
     "name": "stdout",
     "output_type": "stream",
     "text": [
      "10.0%. Run time: 198.45s. Est. time left: 00:00:29:46\n",
      "20.0%. Run time: 328.81s. Est. time left: 00:00:21:55\n",
      "30.0%. Run time: 449.59s. Est. time left: 00:00:17:29\n",
      "40.0%. Run time: 567.39s. Est. time left: 00:00:14:11\n",
      "50.0%. Run time: 703.73s. Est. time left: 00:00:11:43\n",
      "60.0%. Run time: 808.30s. Est. time left: 00:00:08:58\n",
      "70.0%. Run time: 914.01s. Est. time left: 00:00:06:31\n",
      "80.0%. Run time: 1066.18s. Est. time left: 00:00:04:26\n",
      "90.0%. Run time: 1176.39s. Est. time left: 00:00:02:10\n",
      "100.0%. Run time: 1361.63s. Est. time left: 00:00:00:00\n",
      "Total run time: 1361.71s\n"
     ]
    }
   ],
   "source": [
    "dims_test = 1950\n",
    "gamma_2 = 0.0005\n",
    "gamma_3 = 0.002\n",
    "gamma_1 = 10\n",
    "alpha_test = 38.0\n",
    "# start_time = time.time()\n",
    "# result_me = single_mode_solver(\"me\", dims_test, alpha_test, gamma_1, gamma_2, gamma_3)\n",
    "# end_time = time.time()\n",
    "# print(end_time - start_time)\n",
    "result_mc  = single_mode_solver(\"mc\", dims_test, alpha_test, gamma_1, gamma_2, gamma_3)"
   ]
  },
  {
   "cell_type": "markdown",
   "metadata": {},
   "source": [
    "# Comparisons graph"
   ]
  },
  {
   "cell_type": "code",
   "execution_count": 8,
   "metadata": {},
   "outputs": [],
   "source": [
    "# times=np.linspace(0, 0.5, 100)\n",
    "times=np.linspace(0, 0.2, 100)\n",
    "def single_mode_solver(method, dims, alpha_in, gamma_1, gamma_2, gamma_3, ntraj=500, times=times):\n",
    "    \n",
    "    # parameters\n",
    "    omega = 0\n",
    "#     ntraj = 500\n",
    "    \n",
    "    # input state\n",
    "    psi0 = qt.coherent(dims, alpha_in, method=\"analytic\")\n",
    "    \n",
    "    # defining operators\n",
    "    a = qt.destroy(dims)\n",
    "    ad = a.dag()\n",
    "    n = qt.num(dims)\n",
    "    \n",
    "    # collapse operators\n",
    "    c_op_list = [np.sqrt(gamma_1) * a, np.sqrt(gamma_2) * a * a, np.sqrt(gamma_3) * a * (n-1)]\n",
    "    \n",
    "    # Hamiltonian\n",
    "    H = omega * ad * a\n",
    "    \n",
    "    if method == \"me\":\n",
    "        rho0 = qt.ket2dm(psi0)\n",
    "        e_op_list = []\n",
    "        return qt.mesolve(H, rho0, times, c_op_list, e_op_list).states\n",
    "    elif method == \"mc\":\n",
    "        e_op_list = [n]\n",
    "        return qt.mcsolve(H, psi0, times, c_op_list, e_op_list, ntraj=ntraj)"
   ]
  },
  {
   "cell_type": "code",
   "execution_count": 9,
   "metadata": {},
   "outputs": [
    {
     "data": {
      "text/plain": [
       "0.9999519641428566"
      ]
     },
     "execution_count": 9,
     "metadata": {},
     "output_type": "execute_result"
    }
   ],
   "source": [
    "qt.coherent_dm(250, 14.0, method=\"analytic\").norm()"
   ]
  },
  {
   "cell_type": "code",
   "execution_count": 16,
   "metadata": {},
   "outputs": [],
   "source": [
    "dims = 250\n",
    "alpha_in = 14.0\n",
    "gamma_1 = 0.0\n",
    "gamma_2 = 0.0005\n",
    "gamma_3 = 0.002\n",
    "sol_DI = single_mode_solver(\"me\", dims, alpha_in, gamma_1, gamma_2, gamma_3)"
   ]
  },
  {
   "cell_type": "code",
   "execution_count": 17,
   "metadata": {},
   "outputs": [
    {
     "name": "stdout",
     "output_type": "stream",
     "text": [
      "10.0%. Run time:   7.60s. Est. time left: 00:00:01:08\n",
      "20.0%. Run time:   7.62s. Est. time left: 00:00:00:30\n",
      "30.0%. Run time:   7.68s. Est. time left: 00:00:00:17\n",
      "40.0%. Run time:   7.81s. Est. time left: 00:00:00:11\n",
      "50.0%. Run time:   8.09s. Est. time left: 00:00:00:08\n",
      "60.0%. Run time:   8.10s. Est. time left: 00:00:00:05\n",
      "70.0%. Run time:   8.15s. Est. time left: 00:00:00:03\n",
      "80.0%. Run time:   8.25s. Est. time left: 00:00:00:02\n",
      "90.0%. Run time:   8.48s. Est. time left: 00:00:00:00\n",
      "100.0%. Run time:   8.49s. Est. time left: 00:00:00:00\n",
      "Total run time:   8.59s\n"
     ]
    }
   ],
   "source": [
    "sol_QMC_10 = single_mode_solver(\"mc\", dims, alpha_in, gamma_1, gamma_2, gamma_3, ntraj=10)"
   ]
  },
  {
   "cell_type": "code",
   "execution_count": 18,
   "metadata": {},
   "outputs": [
    {
     "name": "stdout",
     "output_type": "stream",
     "text": [
      "12.0%. Run time:   7.93s. Est. time left: 00:00:00:58\n",
      "20.0%. Run time:   8.30s. Est. time left: 00:00:00:33\n",
      "32.0%. Run time:   8.56s. Est. time left: 00:00:00:18\n",
      "40.0%. Run time:   8.87s. Est. time left: 00:00:00:13\n",
      "52.0%. Run time:   9.40s. Est. time left: 00:00:00:08\n",
      "60.0%. Run time:   9.46s. Est. time left: 00:00:00:06\n",
      "72.0%. Run time:  10.15s. Est. time left: 00:00:00:03\n",
      "80.0%. Run time:  10.50s. Est. time left: 00:00:00:02\n",
      "92.0%. Run time:  10.93s. Est. time left: 00:00:00:00\n",
      "100.0%. Run time:  11.26s. Est. time left: 00:00:00:00\n",
      "Total run time:  11.34s\n"
     ]
    }
   ],
   "source": [
    "sol_QMC_25 = single_mode_solver(\"mc\", dims, alpha_in, gamma_1, gamma_2, gamma_3, ntraj=25)"
   ]
  },
  {
   "cell_type": "code",
   "execution_count": 19,
   "metadata": {},
   "outputs": [
    {
     "name": "stdout",
     "output_type": "stream",
     "text": [
      "10.0%. Run time:   9.33s. Est. time left: 00:00:01:23\n",
      "20.0%. Run time:  10.00s. Est. time left: 00:00:00:40\n",
      "30.0%. Run time:  10.78s. Est. time left: 00:00:00:25\n",
      "40.0%. Run time:  11.58s. Est. time left: 00:00:00:17\n",
      "50.0%. Run time:  12.74s. Est. time left: 00:00:00:12\n",
      "60.0%. Run time:  13.45s. Est. time left: 00:00:00:08\n",
      "70.0%. Run time:  14.05s. Est. time left: 00:00:00:06\n",
      "80.0%. Run time:  15.02s. Est. time left: 00:00:00:03\n",
      "90.0%. Run time:  16.00s. Est. time left: 00:00:00:01\n",
      "100.0%. Run time:  17.05s. Est. time left: 00:00:00:00\n",
      "Total run time:  17.38s\n"
     ]
    }
   ],
   "source": [
    "sol_QMC_50 = single_mode_solver(\"mc\", dims, alpha_in, gamma_1, gamma_2, gamma_3, ntraj=50)"
   ]
  },
  {
   "cell_type": "code",
   "execution_count": 20,
   "metadata": {},
   "outputs": [
    {
     "name": "stdout",
     "output_type": "stream",
     "text": [
      "10.0%. Run time:  14.85s. Est. time left: 00:00:02:13\n",
      "20.0%. Run time:  20.59s. Est. time left: 00:00:01:22\n",
      "30.0%. Run time:  25.89s. Est. time left: 00:00:01:00\n",
      "40.0%. Run time:  31.13s. Est. time left: 00:00:00:46\n",
      "50.0%. Run time:  37.95s. Est. time left: 00:00:00:37\n",
      "60.0%. Run time:  43.14s. Est. time left: 00:00:00:28\n",
      "70.0%. Run time:  48.39s. Est. time left: 00:00:00:20\n",
      "80.0%. Run time:  54.16s. Est. time left: 00:00:00:13\n",
      "90.0%. Run time:  59.47s. Est. time left: 00:00:00:06\n",
      "100.0%. Run time:  64.93s. Est. time left: 00:00:00:00\n",
      "Total run time:  65.06s\n"
     ]
    }
   ],
   "source": [
    "sol_QMC_500 = single_mode_solver(\"mc\", dims, alpha_in, gamma_1, gamma_2, gamma_3, ntraj=500)"
   ]
  },
  {
   "cell_type": "code",
   "execution_count": 21,
   "metadata": {},
   "outputs": [
    {
     "data": {
      "text/plain": [
       "<matplotlib.legend.Legend at 0x20f44f62208>"
      ]
     },
     "execution_count": 21,
     "metadata": {},
     "output_type": "execute_result"
    },
    {
     "data": {
      "image/png": "[encoded data removed]",
      "text/plain": [
       "<Figure size 2100x1575 with 1 Axes>"
      ]
     },
     "metadata": {
      "needs_background": "light"
     },
     "output_type": "display_data"
    }
   ],
   "source": [
    "fig, ax = plt.subplots()\n",
    "\n",
    "\n",
    "ax.plot(times, sol_QMC_10.expect[0], label=\"10\")\n",
    "ax.plot(times, sol_QMC_25.expect[0], label=\"25\")\n",
    "ax.plot(times, sol_QMC_50.expect[0], label=\"50\")\n",
    "ax.plot(times, sol_QMC_500.expect[0], label=\"500\")\n",
    "ax.plot(times, qt.expect(qt.num(dims), sol_DI), linestyle=\"--\", color=\"black\")\n",
    "\n",
    "ax.autoscale(tight=True)\n",
    "ax.set(xlabel=\"Time\")\n",
    "ax.set(ylabel=\"$\\\\langle \\\\hat{a}^\\\\dagger \\\\hat{a} \\\\rangle$\")\n",
    "# ax.set_xlim([0, 0.6])\n",
    "# ax.set_ylim([0, 1.05])\n",
    "ax.legend(title = \"$n_{traj}$\", loc=0)\n",
    "\n",
    "\n",
    "# fig.savefig(\"DI_QMC_comparison2_gamma1=10.pdf\")\n",
    "# fig.savefig(\"DI_QMC_comparison2_gamma1=10.png\", dpi=300)"
   ]
  },
  {
   "cell_type": "code",
   "execution_count": null,
   "metadata": {},
   "outputs": [],
   "source": []
  }
 ],
 "metadata": {
  "kernelspec": {
   "display_name": "Python 3",
   "language": "python",
   "name": "python3"
  },
  "language_info": {
   "codemirror_mode": {
    "name": "ipython",
    "version": 3
   },
   "file_extension": ".py",
   "mimetype": "text/x-python",
   "name": "python",
   "nbconvert_exporter": "python",
   "pygments_lexer": "ipython3",
   "version": "3.7.4"
  },
  "notify_time": "5",
  "toc": {
   "base_numbering": 1,
   "nav_menu": {},
   "number_sections": true,
   "sideBar": true,
   "skip_h1_title": false,
   "title_cell": "Table of Contents",
   "title_sidebar": "Contents",
   "toc_cell": false,
   "toc_position": {},
   "toc_section_display": true,
   "toc_window_display": false
  }
 },
 "nbformat": 4,
 "nbformat_minor": 2
}
